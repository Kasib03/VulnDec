{
 "cells": [
  {
   "cell_type": "code",
   "execution_count": 4,
   "metadata": {
    "execution": {
     "iopub.execute_input": "2025-04-16T21:15:53.643590Z",
     "iopub.status.busy": "2025-04-16T21:15:53.643236Z",
     "iopub.status.idle": "2025-04-16T21:16:15.263136Z",
     "shell.execute_reply": "2025-04-16T21:16:15.262446Z",
     "shell.execute_reply.started": "2025-04-16T21:15:53.643558Z"
    },
    "id": "JONDdSIyhNhw",
    "trusted": true
   },
   "outputs": [],
   "source": [
    "import pandas as pd\n",
    "import numpy as np\n",
    "import seaborn as sns\n",
    "import matplotlib.pyplot as plt\n",
    "import sklearn as sk\n",
    "import tensorflow as tf\n",
    "from tensorflow.keras.layers import (Input, Embedding, Conv1D, GlobalMaxPooling1D,\n",
    "                                     Bidirectional, LSTM, Dense, Dropout, concatenate,MaxPooling1D,Attention,Add,Flatten,LayerNormalization,GlobalAveragePooling1D,ZeroPadding1D)\n",
    "from tensorflow.keras.models import Model\n",
    "from keras.src.callbacks import EarlyStopping\n",
    "from tensorflow.keras.layers import BatchNormalization\n",
    "from tensorflow.keras.optimizers import Adam\n",
    "from tensorflow.keras.layers import Lambda\n",
    "\n",
    "from tensorflow.keras.callbacks import EarlyStopping\n",
    "from sklearn.metrics import f1_score\n",
    "from tensorflow import keras\n",
    "from collections import Counter\n",
    "from tensorflow.keras.metrics import AUC, Precision, Recall\n",
    "\n",
    "import torch\n",
    "from transformers import RobertaTokenizer, RobertaConfig, RobertaModel\n",
    "import transformers\n",
    "\n"
   ]
  },
  {
   "cell_type": "code",
   "execution_count": 5,
   "metadata": {
    "execution": {
     "iopub.execute_input": "2025-04-16T21:16:26.628908Z",
     "iopub.status.busy": "2025-04-16T21:16:26.628284Z",
     "iopub.status.idle": "2025-04-16T21:16:27.137390Z",
     "shell.execute_reply": "2025-04-16T21:16:27.136393Z",
     "shell.execute_reply.started": "2025-04-16T21:16:26.628875Z"
    },
    "trusted": true
   },
   "outputs": [
    {
     "name": "stdout",
     "output_type": "stream",
     "text": [
      "Found GPU at: /device:GPU:0\n",
      "GPU available (YESS!!!!)\n"
     ]
    }
   ],
   "source": [
    "device_name = tf.test.gpu_device_name()\n",
    "\n",
    "if \"GPU\" not in device_name:\n",
    "    print(\"GPU device not found\")\n",
    "\n",
    "print('Found GPU at: {}'.format(device_name))\n",
    "\n",
    "print(\"GPU\", \"available (YESS!!!!)\" if tf.config.list_physical_devices(\"GPU\") else \"not available :(\")\n"
   ]
  },
  {
   "cell_type": "code",
   "execution_count": 6,
   "metadata": {
    "execution": {
     "iopub.execute_input": "2025-04-16T21:16:28.865439Z",
     "iopub.status.busy": "2025-04-16T21:16:28.865136Z",
     "iopub.status.idle": "2025-04-16T21:16:28.870149Z",
     "shell.execute_reply": "2025-04-16T21:16:28.869246Z",
     "shell.execute_reply.started": "2025-04-16T21:16:28.865415Z"
    },
    "trusted": true
   },
   "outputs": [
    {
     "name": "stdout",
     "output_type": "stream",
     "text": [
      "Num GPUs Available: 2\n"
     ]
    }
   ],
   "source": [
    "print(\"Num GPUs Available:\", len(tf.config.list_physical_devices('GPU')))"
   ]
  },
  {
   "cell_type": "code",
   "execution_count": 7,
   "metadata": {
    "execution": {
     "iopub.execute_input": "2025-04-16T21:16:29.305378Z",
     "iopub.status.busy": "2025-04-16T21:16:29.305071Z",
     "iopub.status.idle": "2025-04-16T21:16:29.351913Z",
     "shell.execute_reply": "2025-04-16T21:16:29.350896Z",
     "shell.execute_reply.started": "2025-04-16T21:16:29.305354Z"
    },
    "trusted": true
   },
   "outputs": [
    {
     "name": "stdout",
     "output_type": "stream",
     "text": [
      "Number of devices: 2\n"
     ]
    }
   ],
   "source": [
    "strategy = tf.distribute.MirroredStrategy()\n",
    "print(f'Number of devices: {strategy.num_replicas_in_sync}')"
   ]
  },
  {
   "cell_type": "code",
   "execution_count": 24,
   "metadata": {
    "execution": {
     "iopub.execute_input": "2025-04-16T21:21:02.491206Z",
     "iopub.status.busy": "2025-04-16T21:21:02.490908Z",
     "iopub.status.idle": "2025-04-16T21:21:09.980966Z",
     "shell.execute_reply": "2025-04-16T21:21:09.979825Z",
     "shell.execute_reply.started": "2025-04-16T21:21:02.491185Z"
    },
    "id": "klFu4d3BlotG",
    "trusted": true
   },
   "outputs": [],
   "source": [
    "df = pd.read_csv(r'/kaggle/input/cvefixes5/ShortCVE.csv')"
   ]
  },
  {
   "cell_type": "code",
   "execution_count": 26,
   "metadata": {
    "execution": {
     "iopub.execute_input": "2025-04-16T21:21:23.864299Z",
     "iopub.status.busy": "2025-04-16T21:21:23.863987Z",
     "iopub.status.idle": "2025-04-16T21:21:23.882897Z",
     "shell.execute_reply": "2025-04-16T21:21:23.881797Z",
     "shell.execute_reply.started": "2025-04-16T21:21:23.864277Z"
    },
    "trusted": true
   },
   "outputs": [
    {
     "name": "stdout",
     "output_type": "stream",
     "text": [
      "count     18509.000000\n",
      "mean      40570.682857\n",
      "std       71604.164255\n",
      "min           8.000000\n",
      "25%        5704.000000\n",
      "50%       17765.000000\n",
      "75%       45708.000000\n",
      "max      966113.000000\n",
      "Name: code, dtype: float64\n"
     ]
    }
   ],
   "source": [
    "lengths = df[\"code\"].apply(len)\n",
    "print(lengths.describe())\n"
   ]
  },
  {
   "cell_type": "code",
   "execution_count": 27,
   "metadata": {
    "execution": {
     "iopub.execute_input": "2025-04-16T21:22:47.631590Z",
     "iopub.status.busy": "2025-04-16T21:22:47.631265Z",
     "iopub.status.idle": "2025-04-16T21:22:47.640411Z",
     "shell.execute_reply": "2025-04-16T21:22:47.639422Z",
     "shell.execute_reply.started": "2025-04-16T21:22:47.631565Z"
    },
    "id": "NtmhUXRsmDP7",
    "outputId": "f57105e6-622d-4bf5-e5dd-6e6dcc4c0c10",
    "trusted": true
   },
   "outputs": [
    {
     "data": {
      "text/html": [
       "<div>\n",
       "<style scoped>\n",
       "    .dataframe tbody tr th:only-of-type {\n",
       "        vertical-align: middle;\n",
       "    }\n",
       "\n",
       "    .dataframe tbody tr th {\n",
       "        vertical-align: top;\n",
       "    }\n",
       "\n",
       "    .dataframe thead th {\n",
       "        text-align: right;\n",
       "    }\n",
       "</style>\n",
       "<table border=\"1\" class=\"dataframe\">\n",
       "  <thead>\n",
       "    <tr style=\"text-align: right;\">\n",
       "      <th></th>\n",
       "      <th>Unnamed: 0</th>\n",
       "      <th>code</th>\n",
       "      <th>language</th>\n",
       "      <th>safety</th>\n",
       "    </tr>\n",
       "  </thead>\n",
       "  <tbody>\n",
       "    <tr>\n",
       "      <th>0</th>\n",
       "      <td>0</td>\n",
       "      <td>package org.bouncycastle.jcajce.provider.asymm...</td>\n",
       "      <td>1</td>\n",
       "      <td>1</td>\n",
       "    </tr>\n",
       "    <tr>\n",
       "      <th>1</th>\n",
       "      <td>1</td>\n",
       "      <td>&lt;?php\\n\\n\\n\\n/**\\n\\n * ownCloud - user_ldap\\n\\...</td>\n",
       "      <td>3</td>\n",
       "      <td>1</td>\n",
       "    </tr>\n",
       "    <tr>\n",
       "      <th>2</th>\n",
       "      <td>2</td>\n",
       "      <td>#!/usr/bin/env python\\n\\nfrom __future__ impor...</td>\n",
       "      <td>4</td>\n",
       "      <td>0</td>\n",
       "    </tr>\n",
       "    <tr>\n",
       "      <th>3</th>\n",
       "      <td>3</td>\n",
       "      <td>/* -*- c-basic-offset: 8 -*-\\n\\n   rdesktop: A...</td>\n",
       "      <td>0</td>\n",
       "      <td>0</td>\n",
       "    </tr>\n",
       "    <tr>\n",
       "      <th>4</th>\n",
       "      <td>6</td>\n",
       "      <td>/*\\n\\n    ettercap -- GTK+ GUI\\n\\n\\n\\n    Copy...</td>\n",
       "      <td>0</td>\n",
       "      <td>1</td>\n",
       "    </tr>\n",
       "  </tbody>\n",
       "</table>\n",
       "</div>"
      ],
      "text/plain": [
       "   Unnamed: 0                                               code  language  \\\n",
       "0           0  package org.bouncycastle.jcajce.provider.asymm...         1   \n",
       "1           1  <?php\\n\\n\\n\\n/**\\n\\n * ownCloud - user_ldap\\n\\...         3   \n",
       "2           2  #!/usr/bin/env python\\n\\nfrom __future__ impor...         4   \n",
       "3           3  /* -*- c-basic-offset: 8 -*-\\n\\n   rdesktop: A...         0   \n",
       "4           6  /*\\n\\n    ettercap -- GTK+ GUI\\n\\n\\n\\n    Copy...         0   \n",
       "\n",
       "   safety  \n",
       "0       1  \n",
       "1       1  \n",
       "2       0  \n",
       "3       0  \n",
       "4       1  "
      ]
     },
     "execution_count": 27,
     "metadata": {},
     "output_type": "execute_result"
    }
   ],
   "source": [
    "df.head(5)"
   ]
  },
  {
   "cell_type": "code",
   "execution_count": 28,
   "metadata": {
    "execution": {
     "iopub.execute_input": "2025-04-16T21:22:47.861783Z",
     "iopub.status.busy": "2025-04-16T21:22:47.861446Z",
     "iopub.status.idle": "2025-04-16T21:22:47.867537Z",
     "shell.execute_reply": "2025-04-16T21:22:47.866831Z",
     "shell.execute_reply.started": "2025-04-16T21:22:47.861759Z"
    },
    "trusted": true
   },
   "outputs": [],
   "source": [
    "df = df.drop(['Unnamed: 0'],axis=1)"
   ]
  },
  {
   "cell_type": "code",
   "execution_count": 29,
   "metadata": {
    "execution": {
     "iopub.execute_input": "2025-04-16T21:22:48.135756Z",
     "iopub.status.busy": "2025-04-16T21:22:48.135473Z",
     "iopub.status.idle": "2025-04-16T21:22:48.138845Z",
     "shell.execute_reply": "2025-04-16T21:22:48.138111Z",
     "shell.execute_reply.started": "2025-04-16T21:22:48.135733Z"
    },
    "trusted": true
   },
   "outputs": [],
   "source": [
    "\n",
    "# # Loop over a few sample rows to see a side-by-side comparison\n",
    "# for index, row in df.sample(5).iterrows():\n",
    "#     print(\"Row index:\", index)\n",
    "#     print(\"Vulnerable Code:\\n\", row[1])\n",
    "#     print(\"Safe code:\\n\", row[0])\n",
    "#     print(\"-\" * 40)\n"
   ]
  },
  {
   "cell_type": "code",
   "execution_count": 30,
   "metadata": {
    "execution": {
     "iopub.execute_input": "2025-04-16T21:22:49.852457Z",
     "iopub.status.busy": "2025-04-16T21:22:49.852134Z",
     "iopub.status.idle": "2025-04-16T21:22:49.866574Z",
     "shell.execute_reply": "2025-04-16T21:22:49.865694Z",
     "shell.execute_reply.started": "2025-04-16T21:22:49.852433Z"
    },
    "id": "xGC3fIpOmE7B",
    "outputId": "0ff790ff-f2d5-4ccf-d654-830046b7e38d",
    "trusted": true
   },
   "outputs": [
    {
     "name": "stdout",
     "output_type": "stream",
     "text": [
      "<class 'pandas.core.frame.DataFrame'>\n",
      "RangeIndex: 18509 entries, 0 to 18508\n",
      "Data columns (total 3 columns):\n",
      " #   Column    Non-Null Count  Dtype \n",
      "---  ------    --------------  ----- \n",
      " 0   code      18509 non-null  object\n",
      " 1   language  18509 non-null  int64 \n",
      " 2   safety    18509 non-null  int64 \n",
      "dtypes: int64(2), object(1)\n",
      "memory usage: 433.9+ KB\n"
     ]
    }
   ],
   "source": [
    "df.info()"
   ]
  },
  {
   "cell_type": "code",
   "execution_count": 31,
   "metadata": {
    "execution": {
     "iopub.execute_input": "2025-04-16T21:22:50.066948Z",
     "iopub.status.busy": "2025-04-16T21:22:50.066550Z",
     "iopub.status.idle": "2025-04-16T21:22:50.076152Z",
     "shell.execute_reply": "2025-04-16T21:22:50.075427Z",
     "shell.execute_reply.started": "2025-04-16T21:22:50.066924Z"
    },
    "id": "9MpeR7h1mGqO",
    "outputId": "a4a02834-a53e-4320-badd-a2bb4653a8b3",
    "trusted": true
   },
   "outputs": [
    {
     "data": {
      "text/plain": [
       "code        0\n",
       "language    0\n",
       "safety      0\n",
       "dtype: int64"
      ]
     },
     "execution_count": 31,
     "metadata": {},
     "output_type": "execute_result"
    }
   ],
   "source": [
    "df.isna().sum()"
   ]
  },
  {
   "cell_type": "code",
   "execution_count": 32,
   "metadata": {
    "execution": {
     "iopub.execute_input": "2025-04-16T21:22:50.351023Z",
     "iopub.status.busy": "2025-04-16T21:22:50.350745Z",
     "iopub.status.idle": "2025-04-16T21:22:50.372192Z",
     "shell.execute_reply": "2025-04-16T21:22:50.371309Z",
     "shell.execute_reply.started": "2025-04-16T21:22:50.351003Z"
    },
    "id": "qctBksGGmH70",
    "outputId": "85514314-5f7f-44a2-b116-ba24916073f5",
    "trusted": true
   },
   "outputs": [
    {
     "data": {
      "text/html": [
       "<div>\n",
       "<style scoped>\n",
       "    .dataframe tbody tr th:only-of-type {\n",
       "        vertical-align: middle;\n",
       "    }\n",
       "\n",
       "    .dataframe tbody tr th {\n",
       "        vertical-align: top;\n",
       "    }\n",
       "\n",
       "    .dataframe thead th {\n",
       "        text-align: right;\n",
       "    }\n",
       "</style>\n",
       "<table border=\"1\" class=\"dataframe\">\n",
       "  <thead>\n",
       "    <tr style=\"text-align: right;\">\n",
       "      <th></th>\n",
       "      <th>language</th>\n",
       "      <th>safety</th>\n",
       "    </tr>\n",
       "  </thead>\n",
       "  <tbody>\n",
       "    <tr>\n",
       "      <th>count</th>\n",
       "      <td>18509.000000</td>\n",
       "      <td>18509.000000</td>\n",
       "    </tr>\n",
       "    <tr>\n",
       "      <th>mean</th>\n",
       "      <td>1.475444</td>\n",
       "      <td>0.500027</td>\n",
       "    </tr>\n",
       "    <tr>\n",
       "      <th>std</th>\n",
       "      <td>1.514323</td>\n",
       "      <td>0.500014</td>\n",
       "    </tr>\n",
       "    <tr>\n",
       "      <th>min</th>\n",
       "      <td>0.000000</td>\n",
       "      <td>0.000000</td>\n",
       "    </tr>\n",
       "    <tr>\n",
       "      <th>25%</th>\n",
       "      <td>0.000000</td>\n",
       "      <td>0.000000</td>\n",
       "    </tr>\n",
       "    <tr>\n",
       "      <th>50%</th>\n",
       "      <td>1.000000</td>\n",
       "      <td>1.000000</td>\n",
       "    </tr>\n",
       "    <tr>\n",
       "      <th>75%</th>\n",
       "      <td>3.000000</td>\n",
       "      <td>1.000000</td>\n",
       "    </tr>\n",
       "    <tr>\n",
       "      <th>max</th>\n",
       "      <td>4.000000</td>\n",
       "      <td>1.000000</td>\n",
       "    </tr>\n",
       "  </tbody>\n",
       "</table>\n",
       "</div>"
      ],
      "text/plain": [
       "           language        safety\n",
       "count  18509.000000  18509.000000\n",
       "mean       1.475444      0.500027\n",
       "std        1.514323      0.500014\n",
       "min        0.000000      0.000000\n",
       "25%        0.000000      0.000000\n",
       "50%        1.000000      1.000000\n",
       "75%        3.000000      1.000000\n",
       "max        4.000000      1.000000"
      ]
     },
     "execution_count": 32,
     "metadata": {},
     "output_type": "execute_result"
    }
   ],
   "source": [
    "df.describe()"
   ]
  },
  {
   "cell_type": "code",
   "execution_count": 33,
   "metadata": {
    "execution": {
     "iopub.execute_input": "2025-04-16T21:22:52.220055Z",
     "iopub.status.busy": "2025-04-16T21:22:52.219727Z",
     "iopub.status.idle": "2025-04-16T21:22:52.225593Z",
     "shell.execute_reply": "2025-04-16T21:22:52.224599Z",
     "shell.execute_reply.started": "2025-04-16T21:22:52.220031Z"
    },
    "id": "NuFkRoNNOdFM",
    "outputId": "f725e413-b851-4378-fdbe-53b61663fe78",
    "trusted": true
   },
   "outputs": [
    {
     "data": {
      "text/plain": [
       "(18509, 3)"
      ]
     },
     "execution_count": 33,
     "metadata": {},
     "output_type": "execute_result"
    }
   ],
   "source": [
    "\n",
    "df.shape"
   ]
  },
  {
   "cell_type": "code",
   "execution_count": 34,
   "metadata": {
    "execution": {
     "iopub.execute_input": "2025-04-16T21:22:52.430850Z",
     "iopub.status.busy": "2025-04-16T21:22:52.430535Z",
     "iopub.status.idle": "2025-04-16T21:22:52.606021Z",
     "shell.execute_reply": "2025-04-16T21:22:52.605126Z",
     "shell.execute_reply.started": "2025-04-16T21:22:52.430826Z"
    },
    "id": "xvOnoVk8NplU",
    "outputId": "0ba168e0-e06d-4d17-c516-a84635b4033d",
    "trusted": true
   },
   "outputs": [
    {
     "data": {
      "image/png": "[encoded data removed]",
      "text/plain": [
       "<Figure size 800x600 with 1 Axes>"
      ]
     },
     "metadata": {},
     "output_type": "display_data"
    }
   ],
   "source": [
    "\n",
    "\n",
    "\n",
    "# Assuming 'label' column exists in your DataFrame 'df'\n",
    "\n",
    "# Count the occurrences of each label\n",
    "label_counts = df['safety'].value_counts()\n",
    "\n",
    "# Create the bar plot\n",
    "plt.figure(figsize=(8, 6))\n",
    "bars = plt.bar(label_counts.index, label_counts.values)\n",
    "\n",
    "# Set colors for bars\n",
    "bars[0].set_color('green')  # Color for label 0\n",
    "bars[1].set_color('red')   # Color for label 1\n",
    "\n",
    "plt.xlabel('Label')\n",
    "plt.ylabel('Count')\n",
    "plt.title('Distribution of Labels')\n",
    "plt.show()\n"
   ]
  },
  {
   "cell_type": "code",
   "execution_count": 35,
   "metadata": {
    "execution": {
     "iopub.execute_input": "2025-04-16T21:22:54.735800Z",
     "iopub.status.busy": "2025-04-16T21:22:54.735424Z",
     "iopub.status.idle": "2025-04-16T21:22:54.925895Z",
     "shell.execute_reply": "2025-04-16T21:22:54.924950Z",
     "shell.execute_reply.started": "2025-04-16T21:22:54.735763Z"
    },
    "trusted": true
   },
   "outputs": [
    {
     "data": {
      "image/png": "[encoded data removed]",
      "text/plain": [
       "<Figure size 800x600 with 1 Axes>"
      ]
     },
     "metadata": {},
     "output_type": "display_data"
    }
   ],
   "source": [
    "\n",
    "\n",
    "\n",
    "# Assuming 'label' column exists in your DataFrame 'df'\n",
    "\n",
    "# Count the occurrences of each label\n",
    "label_counts = df['language'].value_counts()\n",
    "\n",
    "# Create the bar plot\n",
    "plt.figure(figsize=(8, 6))\n",
    "bars = plt.bar(label_counts.index, label_counts.values)\n",
    "\n",
    "\n",
    "\n",
    "plt.xlabel('Label')\n",
    "plt.ylabel('Count')\n",
    "plt.title('Distribution of Labels')\n",
    "plt.show()\n"
   ]
  },
  {
   "cell_type": "code",
   "execution_count": 36,
   "metadata": {
    "execution": {
     "iopub.execute_input": "2025-04-16T21:22:56.642307Z",
     "iopub.status.busy": "2025-04-16T21:22:56.641987Z",
     "iopub.status.idle": "2025-04-16T21:22:56.646152Z",
     "shell.execute_reply": "2025-04-16T21:22:56.645203Z",
     "shell.execute_reply.started": "2025-04-16T21:22:56.642283Z"
    },
    "id": "6gGaxosEmTW5",
    "trusted": true
   },
   "outputs": [],
   "source": [
    "from datasets import Dataset"
   ]
  },
  {
   "cell_type": "code",
   "execution_count": 37,
   "metadata": {
    "execution": {
     "iopub.execute_input": "2025-04-16T21:22:57.217502Z",
     "iopub.status.busy": "2025-04-16T21:22:57.217205Z",
     "iopub.status.idle": "2025-04-16T21:23:03.735652Z",
     "shell.execute_reply": "2025-04-16T21:23:03.734929Z",
     "shell.execute_reply.started": "2025-04-16T21:22:57.217472Z"
    },
    "id": "UoAsP3lmmJ8s",
    "trusted": true
   },
   "outputs": [],
   "source": [
    "#Converting the Pandas Dataframe to a HF dataset\n",
    "dataset = Dataset.from_pandas(df)"
   ]
  },
  {
   "cell_type": "markdown",
   "metadata": {
    "id": "pLIMhJLwmtLL"
   },
   "source": [
    "**Tokenization Process**"
   ]
  },
  {
   "cell_type": "code",
   "execution_count": 38,
   "metadata": {
    "execution": {
     "iopub.execute_input": "2025-04-16T21:23:15.404892Z",
     "iopub.status.busy": "2025-04-16T21:23:15.404381Z",
     "iopub.status.idle": "2025-04-16T21:23:15.410967Z",
     "shell.execute_reply": "2025-04-16T21:23:15.409876Z",
     "shell.execute_reply.started": "2025-04-16T21:23:15.404753Z"
    },
    "trusted": true
   },
   "outputs": [],
   "source": [
    "def sliding_window_text(code_str, window_size=5000, step_size=2500):\n",
    "    \"\"\"\n",
    "    Splits a code string into overlapping segments using a sliding window.\n",
    "    \n",
    "    :param code_str: The entire code as a string.\n",
    "    :param window_size: Number of characters per window.\n",
    "    :param step_size: How far to move between windows.\n",
    "    :return: A list of overlapping code snippets.\n",
    "    \"\"\"\n",
    "    snippets = []\n",
    "    length = len(code_str)\n",
    "    \n",
    "    # If shorter than the window, just return the whole snippet\n",
    "    if length <= window_size:\n",
    "        return [code_str]\n",
    "    \n",
    "    # Move the window in increments of step_size\n",
    "    start = 0\n",
    "    while start < length - window_size + 1:\n",
    "        snippet = code_str[start:start + window_size]\n",
    "        snippets.append(snippet)\n",
    "        start += step_size\n",
    "    \n",
    "    # Optionally, include the last window if it doesn't perfectly align\n",
    "    if start < length:\n",
    "        # If you want the last chunk to be exactly window_size in length:\n",
    "        # snippets.append(code_str[-window_size:])\n",
    "        \n",
    "        # Or if you want a shorter trailing snippet:\n",
    "        snippets.append(code_str[start:])\n",
    "    \n",
    "    return snippets\n"
   ]
  },
  {
   "cell_type": "code",
   "execution_count": 39,
   "metadata": {
    "execution": {
     "iopub.execute_input": "2025-04-16T21:23:17.339491Z",
     "iopub.status.busy": "2025-04-16T21:23:17.339177Z",
     "iopub.status.idle": "2025-04-16T21:23:17.345053Z",
     "shell.execute_reply": "2025-04-16T21:23:17.343837Z",
     "shell.execute_reply.started": "2025-04-16T21:23:17.339464Z"
    },
    "trusted": true
   },
   "outputs": [],
   "source": [
    "def sliding_map_function(batch):\n",
    "    \"\"\"\n",
    "    batch: dict of lists for keys \"code\", \"language\", \"safety\"\n",
    "    Returns expanded lists of code, language, safety with each snippet as a new example.\n",
    "    \"\"\"\n",
    "    new_codes = []\n",
    "    new_langs = []\n",
    "    new_safeties = []\n",
    "    \n",
    "    # We'll iterate over each item in the batch\n",
    "    for code_str, lang, safe in zip(batch[\"code\"], batch[\"language\"], batch[\"safety\"]):\n",
    "        # Apply the sliding window to the code string\n",
    "        snippets = sliding_window_text(code_str, window_size=200, step_size=50)\n",
    "        \n",
    "        # Each snippet inherits the same language & safety labels\n",
    "        for snippet in snippets:\n",
    "            new_codes.append(snippet)\n",
    "            new_langs.append(lang)\n",
    "            new_safeties.append(safe)\n",
    "\n",
    "    # Return lists with the same length\n",
    "    return {\n",
    "        \"code\": new_codes,\n",
    "        \"language\": new_langs,\n",
    "        \"safety\": new_safeties\n",
    "    }\n"
   ]
  },
  {
   "cell_type": "code",
   "execution_count": 40,
   "metadata": {
    "execution": {
     "iopub.execute_input": "2025-04-16T21:23:20.025632Z",
     "iopub.status.busy": "2025-04-16T21:23:20.025234Z",
     "iopub.status.idle": "2025-04-16T21:23:58.163423Z",
     "shell.execute_reply": "2025-04-16T21:23:58.162508Z",
     "shell.execute_reply.started": "2025-04-16T21:23:20.025580Z"
    },
    "trusted": true
   },
   "outputs": [
    {
     "data": {
      "application/vnd.jupyter.widget-view+json": {
       "model_id": "1cf442be0cfe49919d97758fe5ed4fb8",
       "version_major": 2,
       "version_minor": 0
      },
      "text/plain": [
       "Map:   0%|          | 0/18509 [00:00<?, ? examples/s]"
      ]
     },
     "metadata": {},
     "output_type": "display_data"
    },
    {
     "name": "stdout",
     "output_type": "stream",
     "text": [
      "Train dataset after sliding window:\n",
      "Dataset({\n",
      "    features: ['code', 'language', 'safety'],\n",
      "    num_rows: 14973910\n",
      "})\n"
     ]
    }
   ],
   "source": [
    "dataset_slid = dataset.map(\n",
    "    sliding_map_function,\n",
    "    batched=True,\n",
    "    remove_columns=dataset.column_names  # remove original columns so we only keep new ones\n",
    ")\n",
    "\n",
    "# val_slid = val_dataset.map(\n",
    "#     sliding_map_function,\n",
    "#     batched=True,\n",
    "#     remove_columns=val_dataset.column_names\n",
    "# )\n",
    "\n",
    "print(\"Train dataset after sliding window:\")\n",
    "print(dataset_slid)\n",
    "\n",
    "\n"
   ]
  },
  {
   "cell_type": "code",
   "execution_count": 41,
   "metadata": {
    "execution": {
     "iopub.execute_input": "2025-04-16T21:24:04.356854Z",
     "iopub.status.busy": "2025-04-16T21:24:04.356420Z",
     "iopub.status.idle": "2025-04-16T21:24:04.362636Z",
     "shell.execute_reply": "2025-04-16T21:24:04.361485Z",
     "shell.execute_reply.started": "2025-04-16T21:24:04.356813Z"
    },
    "trusted": true
   },
   "outputs": [
    {
     "data": {
      "text/plain": [
       "(14973910, 3)"
      ]
     },
     "execution_count": 41,
     "metadata": {},
     "output_type": "execute_result"
    }
   ],
   "source": [
    "dataset_slid.shape"
   ]
  },
  {
   "cell_type": "code",
   "execution_count": 42,
   "metadata": {
    "execution": {
     "iopub.execute_input": "2025-04-16T21:24:21.450628Z",
     "iopub.status.busy": "2025-04-16T21:24:21.450281Z",
     "iopub.status.idle": "2025-04-16T21:24:21.491144Z",
     "shell.execute_reply": "2025-04-16T21:24:21.490199Z",
     "shell.execute_reply.started": "2025-04-16T21:24:21.450579Z"
    },
    "trusted": true
   },
   "outputs": [],
   "source": [
    "data_half = dataset_slid[:20000]"
   ]
  },
  {
   "cell_type": "code",
   "execution_count": 43,
   "metadata": {
    "execution": {
     "iopub.execute_input": "2025-04-16T21:24:25.248844Z",
     "iopub.status.busy": "2025-04-16T21:24:25.248470Z",
     "iopub.status.idle": "2025-04-16T21:24:25.278322Z",
     "shell.execute_reply": "2025-04-16T21:24:25.277338Z",
     "shell.execute_reply.started": "2025-04-16T21:24:25.248816Z"
    },
    "trusted": true
   },
   "outputs": [],
   "source": [
    "dataset_half = Dataset.from_dict(data_half)"
   ]
  },
  {
   "cell_type": "code",
   "execution_count": 44,
   "metadata": {
    "execution": {
     "iopub.execute_input": "2025-04-16T21:24:27.338462Z",
     "iopub.status.busy": "2025-04-16T21:24:27.338166Z",
     "iopub.status.idle": "2025-04-16T21:24:27.343772Z",
     "shell.execute_reply": "2025-04-16T21:24:27.342781Z",
     "shell.execute_reply.started": "2025-04-16T21:24:27.338440Z"
    },
    "trusted": true
   },
   "outputs": [
    {
     "data": {
      "text/plain": [
       "(20000, 3)"
      ]
     },
     "execution_count": 44,
     "metadata": {},
     "output_type": "execute_result"
    }
   ],
   "source": [
    "dataset_half.shape"
   ]
  },
  {
   "cell_type": "code",
   "execution_count": 45,
   "metadata": {
    "execution": {
     "iopub.execute_input": "2025-04-16T21:24:31.945475Z",
     "iopub.status.busy": "2025-04-16T21:24:31.945180Z",
     "iopub.status.idle": "2025-04-16T21:24:31.950078Z",
     "shell.execute_reply": "2025-04-16T21:24:31.949075Z",
     "shell.execute_reply.started": "2025-04-16T21:24:31.945454Z"
    },
    "trusted": true
   },
   "outputs": [
    {
     "name": "stdout",
     "output_type": "stream",
     "text": [
      "Dataset({\n",
      "    features: ['code', 'language', 'safety'],\n",
      "    num_rows: 20000\n",
      "})\n"
     ]
    }
   ],
   "source": [
    "print(dataset_half)"
   ]
  },
  {
   "cell_type": "code",
   "execution_count": 46,
   "metadata": {
    "execution": {
     "iopub.execute_input": "2025-04-16T21:24:32.250163Z",
     "iopub.status.busy": "2025-04-16T21:24:32.249852Z",
     "iopub.status.idle": "2025-04-16T21:24:33.132062Z",
     "shell.execute_reply": "2025-04-16T21:24:33.131123Z",
     "shell.execute_reply.started": "2025-04-16T21:24:32.250138Z"
    },
    "trusted": true
   },
   "outputs": [
    {
     "data": {
      "application/vnd.jupyter.widget-view+json": {
       "model_id": "e970d74a13644ba2baa355ac93076751",
       "version_major": 2,
       "version_minor": 0
      },
      "text/plain": [
       "tokenizer_config.json:   0%|          | 0.00/25.0 [00:00<?, ?B/s]"
      ]
     },
     "metadata": {},
     "output_type": "display_data"
    },
    {
     "data": {
      "application/vnd.jupyter.widget-view+json": {
       "model_id": "851d0afe1228428d9d96d5cdefc9c61a",
       "version_major": 2,
       "version_minor": 0
      },
      "text/plain": [
       "vocab.json:   0%|          | 0.00/899k [00:00<?, ?B/s]"
      ]
     },
     "metadata": {},
     "output_type": "display_data"
    },
    {
     "data": {
      "application/vnd.jupyter.widget-view+json": {
       "model_id": "17f3d79306b4497895e5c93dfe9cd241",
       "version_major": 2,
       "version_minor": 0
      },
      "text/plain": [
       "merges.txt:   0%|          | 0.00/456k [00:00<?, ?B/s]"
      ]
     },
     "metadata": {},
     "output_type": "display_data"
    },
    {
     "data": {
      "application/vnd.jupyter.widget-view+json": {
       "model_id": "75652b6be38d4c4aa0545b390ecf83b9",
       "version_major": 2,
       "version_minor": 0
      },
      "text/plain": [
       "special_tokens_map.json:   0%|          | 0.00/150 [00:00<?, ?B/s]"
      ]
     },
     "metadata": {},
     "output_type": "display_data"
    },
    {
     "data": {
      "application/vnd.jupyter.widget-view+json": {
       "model_id": "96397b3d2be146fc9cb60f4423e5f971",
       "version_major": 2,
       "version_minor": 0
      },
      "text/plain": [
       "config.json:   0%|          | 0.00/498 [00:00<?, ?B/s]"
      ]
     },
     "metadata": {},
     "output_type": "display_data"
    }
   ],
   "source": [
    "tokenizer = RobertaTokenizer.from_pretrained(\"microsoft/codebert-base\")"
   ]
  },
  {
   "cell_type": "code",
   "execution_count": 47,
   "metadata": {
    "execution": {
     "iopub.execute_input": "2025-04-16T21:24:33.133510Z",
     "iopub.status.busy": "2025-04-16T21:24:33.133266Z",
     "iopub.status.idle": "2025-04-16T21:24:47.352702Z",
     "shell.execute_reply": "2025-04-16T21:24:47.351772Z",
     "shell.execute_reply.started": "2025-04-16T21:24:33.133488Z"
    },
    "trusted": true
   },
   "outputs": [
    {
     "data": {
      "application/vnd.jupyter.widget-view+json": {
       "model_id": "db00bff2bfed4ce78361323103b8fa34",
       "version_major": 2,
       "version_minor": 0
      },
      "text/plain": [
       "Map:   0%|          | 0/20000 [00:00<?, ? examples/s]"
      ]
     },
     "metadata": {},
     "output_type": "display_data"
    }
   ],
   "source": [
    "def tokenize_function(examples):\n",
    "    # Tokenize the text with padding and truncation\n",
    "    return tokenizer(examples['code'], \n",
    "                     padding='max_length',\n",
    "                     max_length =512,\n",
    "                     return_tensors='tf',\n",
    "                     truncation=True)\n",
    "\n",
    "# Apply the tokenizer to both the training and validation datasets\n",
    "dataset_half = dataset_half.map(tokenize_function, batched=True)\n"
   ]
  },
  {
   "cell_type": "code",
   "execution_count": 48,
   "metadata": {
    "execution": {
     "iopub.execute_input": "2025-04-16T21:25:29.105125Z",
     "iopub.status.busy": "2025-04-16T21:25:29.104764Z",
     "iopub.status.idle": "2025-04-16T21:25:29.109068Z",
     "shell.execute_reply": "2025-04-16T21:25:29.107908Z",
     "shell.execute_reply.started": "2025-04-16T21:25:29.105100Z"
    },
    "id": "YXMJcRhKm0BU",
    "outputId": "37ac922d-d29c-4125-84cf-58aa116f2399",
    "trusted": true
   },
   "outputs": [],
   "source": [
    "# # Initialize CodeBERT AutoTokenizer\n",
    "# tokenizer = AutoTokenizer.from_pretrained(\"distilbert-base-uncased\")"
   ]
  },
  {
   "cell_type": "code",
   "execution_count": 49,
   "metadata": {
    "execution": {
     "iopub.execute_input": "2025-04-16T21:25:29.342541Z",
     "iopub.status.busy": "2025-04-16T21:25:29.342110Z",
     "iopub.status.idle": "2025-04-16T21:25:29.346489Z",
     "shell.execute_reply": "2025-04-16T21:25:29.345545Z",
     "shell.execute_reply.started": "2025-04-16T21:25:29.342489Z"
    },
    "trusted": true
   },
   "outputs": [],
   "source": [
    "# from transformers import DistilBertTokenizerFast\n",
    "\n",
    "# tokenizer = DistilBertTokenizerFast.from_pretrained(\"distilbert-base-uncased\")\n"
   ]
  },
  {
   "cell_type": "code",
   "execution_count": 50,
   "metadata": {
    "execution": {
     "iopub.execute_input": "2025-04-16T21:25:29.559994Z",
     "iopub.status.busy": "2025-04-16T21:25:29.559669Z",
     "iopub.status.idle": "2025-04-16T21:25:29.564022Z",
     "shell.execute_reply": "2025-04-16T21:25:29.562956Z",
     "shell.execute_reply.started": "2025-04-16T21:25:29.559970Z"
    },
    "id": "V5rywnRam_Zh",
    "outputId": "82beaf18-856b-456e-c083-d7e40935f654",
    "trusted": true
   },
   "outputs": [],
   "source": [
    "# def tokenize_function(examples):\n",
    "#     # Tokenize the text with padding and truncation\n",
    "#     return tokenizer(examples['code'], \n",
    "#                      padding='max_length',\n",
    "#                      max_length =512,\n",
    "#                      return_tensors='tf',\n",
    "#                      truncation=True)\n",
    "\n",
    "# # Apply the tokenizer to both the training and validation datasets\n",
    "# dataset = dataset.map(tokenize_function, batched=True)\n"
   ]
  },
  {
   "cell_type": "code",
   "execution_count": 62,
   "metadata": {
    "execution": {
     "iopub.execute_input": "2025-04-16T21:37:29.286313Z",
     "iopub.status.busy": "2025-04-16T21:37:29.285945Z",
     "iopub.status.idle": "2025-04-16T21:37:29.304120Z",
     "shell.execute_reply": "2025-04-16T21:37:29.303338Z",
     "shell.execute_reply.started": "2025-04-16T21:37:29.286286Z"
    },
    "id": "eVrhhrYtmW73",
    "trusted": true
   },
   "outputs": [],
   "source": [
    "# Split the dataset: 70% training, 30% validation\n",
    "split_dataset = dataset_half.train_test_split(test_size=0.2,seed=42)\n",
    "\n",
    "# Access training and validation datasets\n",
    "train_dataset = split_dataset['train']\n",
    "val_dataset = split_dataset['test']\n"
   ]
  },
  {
   "cell_type": "code",
   "execution_count": 63,
   "metadata": {
    "execution": {
     "iopub.execute_input": "2025-04-16T21:38:08.020147Z",
     "iopub.status.busy": "2025-04-16T21:38:08.019770Z",
     "iopub.status.idle": "2025-04-16T21:38:08.039064Z",
     "shell.execute_reply": "2025-04-16T21:38:08.038009Z",
     "shell.execute_reply.started": "2025-04-16T21:38:08.020116Z"
    },
    "trusted": true
   },
   "outputs": [],
   "source": [
    "train_dataset = train_dataset.shuffle(seed=42)\n",
    "val_dataset = val_dataset.shuffle(seed=42)"
   ]
  },
  {
   "cell_type": "code",
   "execution_count": 64,
   "metadata": {
    "execution": {
     "iopub.execute_input": "2025-04-16T21:38:09.568801Z",
     "iopub.status.busy": "2025-04-16T21:38:09.568376Z",
     "iopub.status.idle": "2025-04-16T21:38:09.574296Z",
     "shell.execute_reply": "2025-04-16T21:38:09.573013Z",
     "shell.execute_reply.started": "2025-04-16T21:38:09.568752Z"
    },
    "trusted": true
   },
   "outputs": [
    {
     "name": "stdout",
     "output_type": "stream",
     "text": [
      "Dataset({\n",
      "    features: ['code', 'language', 'safety', 'input_ids', 'attention_mask'],\n",
      "    num_rows: 16000\n",
      "})\n",
      "Dataset({\n",
      "    features: ['code', 'language', 'safety', 'input_ids', 'attention_mask'],\n",
      "    num_rows: 4000\n",
      "})\n"
     ]
    }
   ],
   "source": [
    "print(train_dataset)\n",
    "print(val_dataset)"
   ]
  },
  {
   "cell_type": "code",
   "execution_count": 65,
   "metadata": {
    "execution": {
     "iopub.execute_input": "2025-04-16T21:38:13.653009Z",
     "iopub.status.busy": "2025-04-16T21:38:13.652592Z",
     "iopub.status.idle": "2025-04-16T21:38:13.657189Z",
     "shell.execute_reply": "2025-04-16T21:38:13.656045Z",
     "shell.execute_reply.started": "2025-04-16T21:38:13.652980Z"
    },
    "trusted": true
   },
   "outputs": [],
   "source": [
    "# train_tokenized = train_dataset.remove_columns([\"code\"])\n",
    "# val_tokenized = val_dataset.remove_columns([\"code\"])"
   ]
  },
  {
   "cell_type": "code",
   "execution_count": 66,
   "metadata": {
    "execution": {
     "iopub.execute_input": "2025-04-16T21:38:13.804832Z",
     "iopub.status.busy": "2025-04-16T21:38:13.804466Z",
     "iopub.status.idle": "2025-04-16T21:38:13.808574Z",
     "shell.execute_reply": "2025-04-16T21:38:13.807524Z",
     "shell.execute_reply.started": "2025-04-16T21:38:13.804804Z"
    },
    "trusted": true
   },
   "outputs": [],
   "source": [
    "# train_tokenized.set_format(\"tf\", columns=[\"input_ids\", \"attention_mask\", \"safety\"])\n",
    "# val_tokenized.set_format(\"tf\", columns=[\"input_ids\", \"attention_mask\", \"safety\"])"
   ]
  },
  {
   "cell_type": "code",
   "execution_count": 67,
   "metadata": {
    "execution": {
     "iopub.execute_input": "2025-04-16T21:38:13.976227Z",
     "iopub.status.busy": "2025-04-16T21:38:13.975895Z",
     "iopub.status.idle": "2025-04-16T21:38:13.980037Z",
     "shell.execute_reply": "2025-04-16T21:38:13.979153Z",
     "shell.execute_reply.started": "2025-04-16T21:38:13.976202Z"
    },
    "trusted": true
   },
   "outputs": [],
   "source": [
    "# # Convert each to a tf.data.Dataset\n",
    "# batch_size = 2\n",
    "# train_tf_dataset = train_tokenized.to_tf_dataset(\n",
    "#     columns=[\"input_ids\", \"attention_mask\"],\n",
    "#     label_cols=[\"safety\"],\n",
    "#     shuffle=True,\n",
    "#     batch_size=batch_size\n",
    "# )\n",
    "# val_tf_dataset = val_tokenized.to_tf_dataset(\n",
    "#     columns=[\"input_ids\", \"attention_mask\"],\n",
    "#     label_cols=[\"safety\"],\n",
    "#     shuffle=False,\n",
    "#     batch_size=batch_size\n",
    "# )"
   ]
  },
  {
   "cell_type": "code",
   "execution_count": 68,
   "metadata": {
    "execution": {
     "iopub.execute_input": "2025-04-16T21:38:14.119031Z",
     "iopub.status.busy": "2025-04-16T21:38:14.118703Z",
     "iopub.status.idle": "2025-04-16T21:38:14.122811Z",
     "shell.execute_reply": "2025-04-16T21:38:14.121925Z",
     "shell.execute_reply.started": "2025-04-16T21:38:14.119009Z"
    },
    "trusted": true
   },
   "outputs": [],
   "source": [
    "# # Step 4: Load CodeBERT for sequence classification (TensorFlow version)\n",
    "# from transformers import TFRobertaForSequenceClassification\n",
    "# model = TFRobertaForSequenceClassification.from_pretrained(\"microsoft/codebert-base\", num_labels=2)"
   ]
  },
  {
   "cell_type": "code",
   "execution_count": 69,
   "metadata": {
    "execution": {
     "iopub.execute_input": "2025-04-16T21:38:16.183992Z",
     "iopub.status.busy": "2025-04-16T21:38:16.183595Z",
     "iopub.status.idle": "2025-04-16T21:38:16.187977Z",
     "shell.execute_reply": "2025-04-16T21:38:16.187027Z",
     "shell.execute_reply.started": "2025-04-16T21:38:16.183964Z"
    },
    "trusted": true
   },
   "outputs": [],
   "source": [
    "# # Step 5: Compile the model\n",
    "# model.compile(\n",
    "#     optimizer=\"adam\",\n",
    "#     loss=tf.keras.losses.SparseCategoricalCrossentropy(from_logits=True),\n",
    "#     metrics=[\"accuracy\"]\n",
    "# )"
   ]
  },
  {
   "cell_type": "code",
   "execution_count": 70,
   "metadata": {
    "execution": {
     "iopub.execute_input": "2025-04-16T21:38:16.446916Z",
     "iopub.status.busy": "2025-04-16T21:38:16.446539Z",
     "iopub.status.idle": "2025-04-16T21:38:16.450482Z",
     "shell.execute_reply": "2025-04-16T21:38:16.449710Z",
     "shell.execute_reply.started": "2025-04-16T21:38:16.446887Z"
    },
    "trusted": true
   },
   "outputs": [],
   "source": [
    "# # Step 6: Fine-Tune using the training and validation datasets\n",
    "# model.fit(\n",
    "#     train_tf_dataset,\n",
    "#     validation_data=val_tf_dataset,\n",
    "#     epochs=1\n",
    "# )"
   ]
  },
  {
   "cell_type": "code",
   "execution_count": 71,
   "metadata": {
    "execution": {
     "iopub.execute_input": "2025-04-16T21:38:16.973868Z",
     "iopub.status.busy": "2025-04-16T21:38:16.973373Z",
     "iopub.status.idle": "2025-04-16T21:38:16.978004Z",
     "shell.execute_reply": "2025-04-16T21:38:16.976930Z",
     "shell.execute_reply.started": "2025-04-16T21:38:16.973822Z"
    },
    "trusted": true
   },
   "outputs": [],
   "source": [
    "train2= train_dataset"
   ]
  },
  {
   "cell_type": "code",
   "execution_count": 74,
   "metadata": {
    "execution": {
     "iopub.execute_input": "2025-04-16T21:38:41.969521Z",
     "iopub.status.busy": "2025-04-16T21:38:41.969058Z",
     "iopub.status.idle": "2025-04-16T21:38:51.806160Z",
     "shell.execute_reply": "2025-04-16T21:38:51.805241Z",
     "shell.execute_reply.started": "2025-04-16T21:38:41.969494Z"
    },
    "trusted": true
   },
   "outputs": [
    {
     "data": {
      "image/png": "[encoded data removed]",
      "text/plain": [
       "<Figure size 800x600 with 1 Axes>"
      ]
     },
     "metadata": {},
     "output_type": "display_data"
    }
   ],
   "source": [
    "\n",
    "# Assuming 'label' column exists in your DataFrame 'df'\n",
    "train_df = pd.DataFrame(train2)\n",
    "# Count the occurrences of each label\n",
    "label_counts = train_df['safety'].value_counts()\n",
    "\n",
    "# Create the bar plot\n",
    "plt.figure(figsize=(8, 6))\n",
    "bars = plt.bar(label_counts.index, label_counts.values)\n",
    "\n",
    "# Set colors for bars\n",
    "bars[0].set_color('red')  # Color for label 1\n",
    "bars[1].set_color('green')   # Color for label 0\n",
    "\n",
    "plt.xlabel('Label')\n",
    "plt.ylabel('Count')\n",
    "plt.title('Distribution of Labels')\n",
    "plt.show()\n"
   ]
  },
  {
   "cell_type": "code",
   "execution_count": 75,
   "metadata": {
    "execution": {
     "iopub.execute_input": "2025-04-16T21:38:51.807796Z",
     "iopub.status.busy": "2025-04-16T21:38:51.807474Z",
     "iopub.status.idle": "2025-04-16T21:38:51.813358Z",
     "shell.execute_reply": "2025-04-16T21:38:51.812332Z",
     "shell.execute_reply.started": "2025-04-16T21:38:51.807769Z"
    },
    "trusted": true
   },
   "outputs": [
    {
     "name": "stdout",
     "output_type": "stream",
     "text": [
      "safety\n",
      "1    10351\n",
      "0     5649\n",
      "Name: count, dtype: int64\n"
     ]
    }
   ],
   "source": [
    "\n",
    "print(label_counts)"
   ]
  },
  {
   "cell_type": "code",
   "execution_count": 41,
   "metadata": {
    "execution": {
     "iopub.execute_input": "2025-04-16T19:39:42.053866Z",
     "iopub.status.busy": "2025-04-16T19:39:42.053648Z",
     "iopub.status.idle": "2025-04-16T19:39:42.067595Z",
     "shell.execute_reply": "2025-04-16T19:39:42.066820Z",
     "shell.execute_reply.started": "2025-04-16T19:39:42.053847Z"
    },
    "id": "OrB7DFjQP0Sp",
    "trusted": true
   },
   "outputs": [],
   "source": [
    "# # Shuffle the datasets separately\n",
    "# train_dataset = train_dataset.shuffle(seed=42)\n",
    "# val_dataset = val_dataset.shuffle(seed=42)\n"
   ]
  },
  {
   "cell_type": "code",
   "execution_count": 76,
   "metadata": {
    "execution": {
     "iopub.execute_input": "2025-04-16T21:40:08.586876Z",
     "iopub.status.busy": "2025-04-16T21:40:08.586323Z",
     "iopub.status.idle": "2025-04-16T21:40:08.593011Z",
     "shell.execute_reply": "2025-04-16T21:40:08.592166Z",
     "shell.execute_reply.started": "2025-04-16T21:40:08.586844Z"
    },
    "trusted": true
   },
   "outputs": [
    {
     "name": "stdout",
     "output_type": "stream",
     "text": [
      "Train: (16000, 5)\n",
      "Val: (4000, 5)\n"
     ]
    }
   ],
   "source": [
    "print('Train:', train_dataset.shape)\n",
    "print('Val:', val_dataset.shape)"
   ]
  },
  {
   "cell_type": "markdown",
   "metadata": {
    "id": "ZLZnzggIn3uN"
   },
   "source": [
    "**Model Development**"
   ]
  },
  {
   "cell_type": "code",
   "execution_count": 77,
   "metadata": {
    "execution": {
     "iopub.execute_input": "2025-04-16T21:40:09.958829Z",
     "iopub.status.busy": "2025-04-16T21:40:09.958454Z",
     "iopub.status.idle": "2025-04-16T21:40:20.535425Z",
     "shell.execute_reply": "2025-04-16T21:40:20.534663Z",
     "shell.execute_reply.started": "2025-04-16T21:40:09.958797Z"
    },
    "id": "5gut5Akuzwf8",
    "trusted": true
   },
   "outputs": [],
   "source": [
    "# Convert 'input_ids' and 'labels' into NumPy arrays for training\n",
    "X_train_input_ids = np.array(train_dataset['input_ids'])\n",
    "X_train_attention_mask = np.array(train_dataset['attention_mask'])\n",
    "y_train_lang=np.array(train_dataset['language'])\n",
    "y_train_safety = np.array(train_dataset['safety'])\n",
    "\n",
    "X_val_input_ids = np.array(val_dataset['input_ids'])\n",
    "X_val_attention_mask = np.array(val_dataset['attention_mask'])\n",
    "y_val_lang = np.array(val_dataset['language'])\n",
    "y_val_safety = np.array(val_dataset['safety'])\n"
   ]
  },
  {
   "cell_type": "code",
   "execution_count": 78,
   "metadata": {
    "execution": {
     "iopub.execute_input": "2025-04-16T21:40:20.536831Z",
     "iopub.status.busy": "2025-04-16T21:40:20.536554Z",
     "iopub.status.idle": "2025-04-16T21:40:20.546168Z",
     "shell.execute_reply": "2025-04-16T21:40:20.545210Z",
     "shell.execute_reply.started": "2025-04-16T21:40:20.536808Z"
    },
    "trusted": true
   },
   "outputs": [
    {
     "name": "stdout",
     "output_type": "stream",
     "text": [
      "Train Sample 0 input_ids length: 512\n",
      "Train Sample 1 input_ids length: 512\n",
      "Train Sample 2 input_ids length: 512\n",
      "Train Sample 3 input_ids length: 512\n",
      "Train Sample 4 input_ids length: 512\n",
      "Val Sample 0 input_ids length: 512\n",
      "Val Sample 1 input_ids length: 512\n",
      "Val Sample 2 input_ids length: 512\n",
      "Val Sample 3 input_ids length: 512\n",
      "Val Sample 4 input_ids length: 512\n"
     ]
    }
   ],
   "source": [
    "# Check first 5 training samples\n",
    "for i in range(5):\n",
    "    print(f\"Train Sample {i} input_ids length:\", len(X_train_input_ids[i]))\n",
    "    # print(f\"Train Sample {i} attention_mask length:\", len(X_train_attention_mask[i]))\n",
    "\n",
    "# Check first 5 validation samples\n",
    "for i in range(5):\n",
    "    print(f\"Val Sample {i} input_ids length:\", len(X_val_input_ids[i]))\n",
    "    # print(f\"Val Sample {i} attention_mask length:\", len(X_val_attention_mask[i]))"
   ]
  },
  {
   "cell_type": "code",
   "execution_count": 79,
   "metadata": {
    "execution": {
     "iopub.execute_input": "2025-04-16T21:40:20.548060Z",
     "iopub.status.busy": "2025-04-16T21:40:20.547794Z",
     "iopub.status.idle": "2025-04-16T21:40:20.561174Z",
     "shell.execute_reply": "2025-04-16T21:40:20.560206Z",
     "shell.execute_reply.started": "2025-04-16T21:40:20.548039Z"
    },
    "trusted": true
   },
   "outputs": [
    {
     "name": "stdout",
     "output_type": "stream",
     "text": [
      "Train input_ids shape: (16000, 512)\n",
      "Train attention_mask shape: (16000, 512)\n",
      "Train lang shape: (16000,)\n",
      "Train safety shape: (16000,)\n",
      "\n",
      "Validation Input_ids shape: (4000, 512)\n",
      "Validation attention_mask shape: (4000, 512)\n",
      "Validation lang shape: (4000,)\n",
      "Validation safety shape: (4000,)\n"
     ]
    }
   ],
   "source": [
    "print(\"Train input_ids shape:\", X_train_input_ids.shape)\n",
    "print(\"Train attention_mask shape:\", X_train_attention_mask.shape)\n",
    "print(\"Train lang shape:\", y_train_lang.shape)\n",
    "print(\"Train safety shape:\", y_train_safety.shape)\n",
    "\n",
    "print()\n",
    "\n",
    "print(\"Validation Input_ids shape:\", X_val_input_ids.shape)\n",
    "print(\"Validation attention_mask shape:\", X_val_attention_mask.shape)\n",
    "print(\"Validation lang shape:\", y_val_lang.shape)\n",
    "print(\"Validation safety shape:\", y_val_safety.shape)\n",
    "\n"
   ]
  },
  {
   "cell_type": "code",
   "execution_count": 81,
   "metadata": {
    "execution": {
     "iopub.execute_input": "2025-04-16T21:40:28.255732Z",
     "iopub.status.busy": "2025-04-16T21:40:28.255356Z",
     "iopub.status.idle": "2025-04-16T21:40:28.275665Z",
     "shell.execute_reply": "2025-04-16T21:40:28.274656Z",
     "shell.execute_reply.started": "2025-04-16T21:40:28.255701Z"
    },
    "trusted": true
   },
   "outputs": [
    {
     "name": "stdout",
     "output_type": "stream",
     "text": [
      "Sample # 13983\n",
      "Input: [    0   417  1722  1215  8738  1215 14413  1640 18266   530  1215 44815\n",
      "  4581    36 43735  2154   238 11045   530  1215 28974  1215 42740  1215\n",
      " 31152  2076  4397 50140  1437  1437   821 37001  1215 42996  1215  8738\n",
      "  1215  1535 38142  1640 18266   530  1215 44815  4581    36 43735  2154\n",
      "   238 46007  4397 50140  1437  1437   821 37001  1215 48972  1215 12005\n",
      "  1640 43735  2154  4397 50140 50140  1437  1437 48565    13 11045   530\n",
      "     7  2332     5 25730   122 48404 50140  1437  1437  8401   718     2\n",
      "     1     1     1     1     1     1     1     1     1     1     1     1\n",
      "     1     1     1     1     1     1     1     1     1     1     1     1\n",
      "     1     1     1     1     1     1     1     1     1     1     1     1\n",
      "     1     1     1     1     1     1     1     1     1     1     1     1\n",
      "     1     1     1     1     1     1     1     1     1     1     1     1\n",
      "     1     1     1     1     1     1     1     1     1     1     1     1\n",
      "     1     1     1     1     1     1     1     1     1     1     1     1\n",
      "     1     1     1     1     1     1     1     1     1     1     1     1\n",
      "     1     1     1     1     1     1     1     1     1     1     1     1\n",
      "     1     1     1     1     1     1     1     1     1     1     1     1\n",
      "     1     1     1     1     1     1     1     1     1     1     1     1\n",
      "     1     1     1     1     1     1     1     1     1     1     1     1\n",
      "     1     1     1     1     1     1     1     1     1     1     1     1\n",
      "     1     1     1     1     1     1     1     1     1     1     1     1\n",
      "     1     1     1     1     1     1     1     1     1     1     1     1\n",
      "     1     1     1     1     1     1     1     1     1     1     1     1\n",
      "     1     1     1     1     1     1     1     1     1     1     1     1\n",
      "     1     1     1     1     1     1     1     1     1     1     1     1\n",
      "     1     1     1     1     1     1     1     1     1     1     1     1\n",
      "     1     1     1     1     1     1     1     1     1     1     1     1\n",
      "     1     1     1     1     1     1     1     1     1     1     1     1\n",
      "     1     1     1     1     1     1     1     1     1     1     1     1\n",
      "     1     1     1     1     1     1     1     1     1     1     1     1\n",
      "     1     1     1     1     1     1     1     1     1     1     1     1\n",
      "     1     1     1     1     1     1     1     1     1     1     1     1\n",
      "     1     1     1     1     1     1     1     1     1     1     1     1\n",
      "     1     1     1     1     1     1     1     1     1     1     1     1\n",
      "     1     1     1     1     1     1     1     1     1     1     1     1\n",
      "     1     1     1     1     1     1     1     1     1     1     1     1\n",
      "     1     1     1     1     1     1     1     1     1     1     1     1\n",
      "     1     1     1     1     1     1     1     1     1     1     1     1\n",
      "     1     1     1     1     1     1     1     1     1     1     1     1\n",
      "     1     1     1     1     1     1     1     1     1     1     1     1\n",
      "     1     1     1     1     1     1     1     1     1     1     1     1\n",
      "     1     1     1     1     1     1     1     1     1     1     1     1\n",
      "     1     1     1     1     1     1     1     1]\n",
      "Label Languagae: 0\n",
      "Label Safety: 1\n",
      "Sample # 1315\n",
      "Input: [    0 14682 11543    16   723    87  2853 11543 37457   282  1297 50140\n",
      " 50117 50117 50117 30529 48901 30529  4397 50140 50117 50117 30921   111\n",
      "  2076 27917   131 50140 50117 24303 50140 50140 50117  1588  1215 15597\n",
      "  1215 49439  1215 44273  1640 36245   438 46613  2001     6   359   417\n",
      " 49439     6   359  1906   990 46613 49439  4397 50140 50140 50117 49051\n",
      " 50140 50117  1009  4254   114     5 15357   416  8785    11     5   889\n",
      " 50140 50117  1009     2     1     1     1     1     1     1     1     1\n",
      "     1     1     1     1     1     1     1     1     1     1     1     1\n",
      "     1     1     1     1     1     1     1     1     1     1     1     1\n",
      "     1     1     1     1     1     1     1     1     1     1     1     1\n",
      "     1     1     1     1     1     1     1     1     1     1     1     1\n",
      "     1     1     1     1     1     1     1     1     1     1     1     1\n",
      "     1     1     1     1     1     1     1     1     1     1     1     1\n",
      "     1     1     1     1     1     1     1     1     1     1     1     1\n",
      "     1     1     1     1     1     1     1     1     1     1     1     1\n",
      "     1     1     1     1     1     1     1     1     1     1     1     1\n",
      "     1     1     1     1     1     1     1     1     1     1     1     1\n",
      "     1     1     1     1     1     1     1     1     1     1     1     1\n",
      "     1     1     1     1     1     1     1     1     1     1     1     1\n",
      "     1     1     1     1     1     1     1     1     1     1     1     1\n",
      "     1     1     1     1     1     1     1     1     1     1     1     1\n",
      "     1     1     1     1     1     1     1     1     1     1     1     1\n",
      "     1     1     1     1     1     1     1     1     1     1     1     1\n",
      "     1     1     1     1     1     1     1     1     1     1     1     1\n",
      "     1     1     1     1     1     1     1     1     1     1     1     1\n",
      "     1     1     1     1     1     1     1     1     1     1     1     1\n",
      "     1     1     1     1     1     1     1     1     1     1     1     1\n",
      "     1     1     1     1     1     1     1     1     1     1     1     1\n",
      "     1     1     1     1     1     1     1     1     1     1     1     1\n",
      "     1     1     1     1     1     1     1     1     1     1     1     1\n",
      "     1     1     1     1     1     1     1     1     1     1     1     1\n",
      "     1     1     1     1     1     1     1     1     1     1     1     1\n",
      "     1     1     1     1     1     1     1     1     1     1     1     1\n",
      "     1     1     1     1     1     1     1     1     1     1     1     1\n",
      "     1     1     1     1     1     1     1     1     1     1     1     1\n",
      "     1     1     1     1     1     1     1     1     1     1     1     1\n",
      "     1     1     1     1     1     1     1     1     1     1     1     1\n",
      "     1     1     1     1     1     1     1     1     1     1     1     1\n",
      "     1     1     1     1     1     1     1     1     1     1     1     1\n",
      "     1     1     1     1     1     1     1     1     1     1     1     1\n",
      "     1     1     1     1     1     1     1     1     1     1     1     1\n",
      "     1     1     1     1     1     1     1     1     1     1     1     1\n",
      "     1     1     1     1     1     1     1     1]\n",
      "Label Languagae: 0\n",
      "Label Safety: 1\n",
      "Sample # 12463\n",
      "Input: [    0    29 47006 50140  1437  1437  1437  1437  1437  1437  1437 40854\n",
      "    36 24344    43 25522 50140  1437  1437  1437  1437  1437  1437  1437\n",
      "  1437  1437  1437  1437 12377     4 44957 33977 49371 38744   131 50140\n",
      "  1437  1437  1437  1437  1437  1437  1437  1437  1437  1437  1437 12377\n",
      "     4 21747 49789 50140  1437  1437  1437  1437  1437  1437  1437  1437\n",
      "  1437  1437  1437  1606 38657 19673  1640 24344     6 12377     4 44957\n",
      " 33977  4397 50140  1437  1437  1437  1437  1437  1437  1437  1437  1437\n",
      "  1437  1437 12377     4 13751 39962 39599    29 41967   438  5457 11183\n",
      "   718     2     1     1     1     1     1     1     1     1     1     1\n",
      "     1     1     1     1     1     1     1     1     1     1     1     1\n",
      "     1     1     1     1     1     1     1     1     1     1     1     1\n",
      "     1     1     1     1     1     1     1     1     1     1     1     1\n",
      "     1     1     1     1     1     1     1     1     1     1     1     1\n",
      "     1     1     1     1     1     1     1     1     1     1     1     1\n",
      "     1     1     1     1     1     1     1     1     1     1     1     1\n",
      "     1     1     1     1     1     1     1     1     1     1     1     1\n",
      "     1     1     1     1     1     1     1     1     1     1     1     1\n",
      "     1     1     1     1     1     1     1     1     1     1     1     1\n",
      "     1     1     1     1     1     1     1     1     1     1     1     1\n",
      "     1     1     1     1     1     1     1     1     1     1     1     1\n",
      "     1     1     1     1     1     1     1     1     1     1     1     1\n",
      "     1     1     1     1     1     1     1     1     1     1     1     1\n",
      "     1     1     1     1     1     1     1     1     1     1     1     1\n",
      "     1     1     1     1     1     1     1     1     1     1     1     1\n",
      "     1     1     1     1     1     1     1     1     1     1     1     1\n",
      "     1     1     1     1     1     1     1     1     1     1     1     1\n",
      "     1     1     1     1     1     1     1     1     1     1     1     1\n",
      "     1     1     1     1     1     1     1     1     1     1     1     1\n",
      "     1     1     1     1     1     1     1     1     1     1     1     1\n",
      "     1     1     1     1     1     1     1     1     1     1     1     1\n",
      "     1     1     1     1     1     1     1     1     1     1     1     1\n",
      "     1     1     1     1     1     1     1     1     1     1     1     1\n",
      "     1     1     1     1     1     1     1     1     1     1     1     1\n",
      "     1     1     1     1     1     1     1     1     1     1     1     1\n",
      "     1     1     1     1     1     1     1     1     1     1     1     1\n",
      "     1     1     1     1     1     1     1     1     1     1     1     1\n",
      "     1     1     1     1     1     1     1     1     1     1     1     1\n",
      "     1     1     1     1     1     1     1     1     1     1     1     1\n",
      "     1     1     1     1     1     1     1     1     1     1     1     1\n",
      "     1     1     1     1     1     1     1     1     1     1     1     1\n",
      "     1     1     1     1     1     1     1     1     1     1     1     1\n",
      "     1     1     1     1     1     1     1     1     1     1     1     1\n",
      "     1     1     1     1     1     1     1     1]\n",
      "Label Languagae: 1\n",
      "Label Safety: 1\n",
      "Sample # 1429\n",
      "Input: [    0 50117  1437  1437    22  1437 43839  7606  3669  1000    35   207\n",
      "  3387  1000  1437  1437  1437  1437  1437    22 50140 50117 50117 50117\n",
      " 50117 50117  1437  1437    22 27868   406    29  7606    12   401   417\n",
      "  7606    12   698   417  7606    12   698   417 37457   282  1297 50140\n",
      " 50117 50117 50117 50117 50117  1437  1437   295    90 24466  1640 31549\n",
      " 46613 49439     4  1588   238 50140 50117 50117 50117 50117 50117  1437\n",
      "  1437   295    90  2678    29  1640 31549 46613  3427   238 50140 50117\n",
      " 50117 50117 50117 50117  1437  1437 36180  1215 15597  1215   506 41564\n",
      "  1215 13650  1640 45826  1215 12745 49763 31549 46613 22854  1215 46760\n",
      " 46934 50140 50117 50117 50117 50117 50117  1437  1437 21495  1215 12745\n",
      "  1640     2     1     1     1     1     1     1     1     1     1     1\n",
      "     1     1     1     1     1     1     1     1     1     1     1     1\n",
      "     1     1     1     1     1     1     1     1     1     1     1     1\n",
      "     1     1     1     1     1     1     1     1     1     1     1     1\n",
      "     1     1     1     1     1     1     1     1     1     1     1     1\n",
      "     1     1     1     1     1     1     1     1     1     1     1     1\n",
      "     1     1     1     1     1     1     1     1     1     1     1     1\n",
      "     1     1     1     1     1     1     1     1     1     1     1     1\n",
      "     1     1     1     1     1     1     1     1     1     1     1     1\n",
      "     1     1     1     1     1     1     1     1     1     1     1     1\n",
      "     1     1     1     1     1     1     1     1     1     1     1     1\n",
      "     1     1     1     1     1     1     1     1     1     1     1     1\n",
      "     1     1     1     1     1     1     1     1     1     1     1     1\n",
      "     1     1     1     1     1     1     1     1     1     1     1     1\n",
      "     1     1     1     1     1     1     1     1     1     1     1     1\n",
      "     1     1     1     1     1     1     1     1     1     1     1     1\n",
      "     1     1     1     1     1     1     1     1     1     1     1     1\n",
      "     1     1     1     1     1     1     1     1     1     1     1     1\n",
      "     1     1     1     1     1     1     1     1     1     1     1     1\n",
      "     1     1     1     1     1     1     1     1     1     1     1     1\n",
      "     1     1     1     1     1     1     1     1     1     1     1     1\n",
      "     1     1     1     1     1     1     1     1     1     1     1     1\n",
      "     1     1     1     1     1     1     1     1     1     1     1     1\n",
      "     1     1     1     1     1     1     1     1     1     1     1     1\n",
      "     1     1     1     1     1     1     1     1     1     1     1     1\n",
      "     1     1     1     1     1     1     1     1     1     1     1     1\n",
      "     1     1     1     1     1     1     1     1     1     1     1     1\n",
      "     1     1     1     1     1     1     1     1     1     1     1     1\n",
      "     1     1     1     1     1     1     1     1     1     1     1     1\n",
      "     1     1     1     1     1     1     1     1     1     1     1     1\n",
      "     1     1     1     1     1     1     1     1     1     1     1     1\n",
      "     1     1     1     1     1     1     1     1     1     1     1     1\n",
      "     1     1     1     1     1     1     1     1]\n",
      "Label Languagae: 0\n",
      "Label Safety: 1\n",
      "Sample # 13846\n",
      "Input: [    0  1437  1009   787 10162 48847 44128 49695 45621 18816 48847 50140\n",
      "  1437  1437  1437  1437 48404 50140  1437  1437  1437   285  5043  1296\n",
      " 14181 12667 15876 10653  1178   918 49695 49474 31723 43048 50140  1437\n",
      "  1437  1437 25522 50140  1437  1437  1437  1437  1437  1437  1437 18593\n",
      " 38304 32845 45803  8166   640 46781     4   175    73 47033 50140  1437\n",
      "  1437  1437  1437  1437  1437  1437 18593 38304  6460   565  2070     2\n",
      "     1     1     1     1     1     1     1     1     1     1     1     1\n",
      "     1     1     1     1     1     1     1     1     1     1     1     1\n",
      "     1     1     1     1     1     1     1     1     1     1     1     1\n",
      "     1     1     1     1     1     1     1     1     1     1     1     1\n",
      "     1     1     1     1     1     1     1     1     1     1     1     1\n",
      "     1     1     1     1     1     1     1     1     1     1     1     1\n",
      "     1     1     1     1     1     1     1     1     1     1     1     1\n",
      "     1     1     1     1     1     1     1     1     1     1     1     1\n",
      "     1     1     1     1     1     1     1     1     1     1     1     1\n",
      "     1     1     1     1     1     1     1     1     1     1     1     1\n",
      "     1     1     1     1     1     1     1     1     1     1     1     1\n",
      "     1     1     1     1     1     1     1     1     1     1     1     1\n",
      "     1     1     1     1     1     1     1     1     1     1     1     1\n",
      "     1     1     1     1     1     1     1     1     1     1     1     1\n",
      "     1     1     1     1     1     1     1     1     1     1     1     1\n",
      "     1     1     1     1     1     1     1     1     1     1     1     1\n",
      "     1     1     1     1     1     1     1     1     1     1     1     1\n",
      "     1     1     1     1     1     1     1     1     1     1     1     1\n",
      "     1     1     1     1     1     1     1     1     1     1     1     1\n",
      "     1     1     1     1     1     1     1     1     1     1     1     1\n",
      "     1     1     1     1     1     1     1     1     1     1     1     1\n",
      "     1     1     1     1     1     1     1     1     1     1     1     1\n",
      "     1     1     1     1     1     1     1     1     1     1     1     1\n",
      "     1     1     1     1     1     1     1     1     1     1     1     1\n",
      "     1     1     1     1     1     1     1     1     1     1     1     1\n",
      "     1     1     1     1     1     1     1     1     1     1     1     1\n",
      "     1     1     1     1     1     1     1     1     1     1     1     1\n",
      "     1     1     1     1     1     1     1     1     1     1     1     1\n",
      "     1     1     1     1     1     1     1     1     1     1     1     1\n",
      "     1     1     1     1     1     1     1     1     1     1     1     1\n",
      "     1     1     1     1     1     1     1     1     1     1     1     1\n",
      "     1     1     1     1     1     1     1     1     1     1     1     1\n",
      "     1     1     1     1     1     1     1     1     1     1     1     1\n",
      "     1     1     1     1     1     1     1     1     1     1     1     1\n",
      "     1     1     1     1     1     1     1     1     1     1     1     1\n",
      "     1     1     1     1     1     1     1     1     1     1     1     1\n",
      "     1     1     1     1     1     1     1     1]\n",
      "Label Languagae: 3\n",
      "Label Safety: 0\n"
     ]
    }
   ],
   "source": [
    "\n",
    "\n",
    "# Select 5 random indices and inspect the corresponding entries\n",
    "indices = np.random.choice(range(len(X_train_input_ids)), size=5, replace=False)\n",
    "for i in indices:\n",
    "    print(\"Sample #\", i)\n",
    "    print(\"Input:\", X_train_input_ids[i])\n",
    "    print(\"Label Languagae:\", y_train_lang[i])\n",
    "    print(\"Label Safety:\", y_train_safety[i])\n",
    "    \n"
   ]
  },
  {
   "cell_type": "code",
   "execution_count": 82,
   "metadata": {
    "execution": {
     "iopub.execute_input": "2025-04-16T21:40:32.667785Z",
     "iopub.status.busy": "2025-04-16T21:40:32.667412Z",
     "iopub.status.idle": "2025-04-16T21:40:32.673817Z",
     "shell.execute_reply": "2025-04-16T21:40:32.672782Z",
     "shell.execute_reply.started": "2025-04-16T21:40:32.667750Z"
    },
    "trusted": true
   },
   "outputs": [
    {
     "name": "stdout",
     "output_type": "stream",
     "text": [
      "Unique language labels: [0 1 2 3 4]\n"
     ]
    }
   ],
   "source": [
    "print(\"Unique language labels:\", np.unique(y_train_lang))\n"
   ]
  },
  {
   "cell_type": "code",
   "execution_count": 83,
   "metadata": {
    "execution": {
     "iopub.execute_input": "2025-04-16T21:40:32.877512Z",
     "iopub.status.busy": "2025-04-16T21:40:32.877197Z",
     "iopub.status.idle": "2025-04-16T21:40:32.883868Z",
     "shell.execute_reply": "2025-04-16T21:40:32.882712Z",
     "shell.execute_reply.started": "2025-04-16T21:40:32.877487Z"
    },
    "trusted": true
   },
   "outputs": [
    {
     "name": "stdout",
     "output_type": "stream",
     "text": [
      "Unique language labels: [0 1]\n"
     ]
    }
   ],
   "source": [
    "print(\"Unique language labels:\", np.unique(y_train_safety))\n"
   ]
  },
  {
   "cell_type": "code",
   "execution_count": 84,
   "metadata": {
    "execution": {
     "iopub.execute_input": "2025-04-16T21:40:33.398790Z",
     "iopub.status.busy": "2025-04-16T21:40:33.398366Z",
     "iopub.status.idle": "2025-04-16T21:40:34.692577Z",
     "shell.execute_reply": "2025-04-16T21:40:34.691627Z",
     "shell.execute_reply.started": "2025-04-16T21:40:33.398746Z"
    },
    "trusted": true
   },
   "outputs": [],
   "source": [
    "from transformers import TFRobertaModel"
   ]
  },
  {
   "cell_type": "code",
   "execution_count": 85,
   "metadata": {
    "execution": {
     "iopub.execute_input": "2025-04-16T21:40:35.650857Z",
     "iopub.status.busy": "2025-04-16T21:40:35.650484Z",
     "iopub.status.idle": "2025-04-16T21:40:35.656712Z",
     "shell.execute_reply": "2025-04-16T21:40:35.655716Z",
     "shell.execute_reply.started": "2025-04-16T21:40:35.650829Z"
    },
    "id": "-PJddC5v2u89",
    "trusted": true
   },
   "outputs": [],
   "source": [
    "class CodeBertLayer(tf.keras.layers.Layer):\n",
    "    \n",
    "    def __init__(self, model_name=\"microsoft/codebert-base\", **kwargs):\n",
    "        super().__init__(**kwargs)\n",
    "        self.codebert = TFRobertaModel.from_pretrained(model_name)\n",
    "        self.codebert.trainable = True\n",
    "    \n",
    "    def call(self, inputs, **kwargs):\n",
    "        input_ids, attention_mask = inputs\n",
    "        # Ensure the input shapes are consistent\n",
    "        tf.debugging.assert_equal(\n",
    "            tf.shape(input_ids),\n",
    "            tf.shape(attention_mask),\n",
    "            message=\"Input IDs and Attention Mask must have the same shape!\"\n",
    "        )\n",
    "        outputs = self.codebert(input_ids=input_ids, attention_mask=attention_mask)\n",
    "        return outputs.last_hidden_state  # Shape: (batch_size, sequence_length, hidden_size)\n"
   ]
  },
  {
   "cell_type": "code",
   "execution_count": 86,
   "metadata": {
    "execution": {
     "iopub.execute_input": "2025-04-16T21:40:37.163008Z",
     "iopub.status.busy": "2025-04-16T21:40:37.162668Z",
     "iopub.status.idle": "2025-04-16T21:40:37.167810Z",
     "shell.execute_reply": "2025-04-16T21:40:37.166690Z",
     "shell.execute_reply.started": "2025-04-16T21:40:37.162981Z"
    },
    "id": "Tbkuh8Itsxqa",
    "trusted": true
   },
   "outputs": [],
   "source": [
    "# def model_architecture(max_length=512,num_neurons=64,device='cuda'):\n",
    "#   #input layer\n",
    "#   input_ids = tf.keras.Input(shape=(max_length,), dtype=tf.int32, name='input_ids')\n",
    "#   attention_mask = tf.keras.Input(shape=(max_length,), dtype=tf.int32, name='attention_mask')\n",
    "\n",
    "#   # Wrap DistilBert in a Lambda\n",
    "#   bert_embedding = Lambda(distilbert_lambda,output_shape=(max_length, 768))([input_ids, attention_mask])\n",
    "\n",
    "\n",
    "#   dropout_rate = 0.2\n",
    "#   pool_size = 2\n",
    "#   l2_reg=0.001\n",
    "#   #CNN block:\n",
    "#   cnn1 = Conv1D(filters=128, kernel_size=3, activation='relu', padding='same',)(bert_embedding)\n",
    "#   cnn1 = MaxPooling1D(pool_size=pool_size)(cnn1)\n",
    "#   cnn1 = BatchNormalization()(cnn1)\n",
    "#   cnn1 = Dropout(dropout_rate)(cnn1)\n",
    "\n",
    "#   cnn2 = Conv1D(filters=128, kernel_size=3, activation='relu', padding='same')(cnn1)\n",
    "#   cnn2 = MaxPooling1D(pool_size=pool_size)(cnn2)\n",
    "#   cnn2 = BatchNormalization()(cnn2)\n",
    "#   cnn2 = Dropout(dropout_rate)(cnn2)\n",
    "\n",
    "#   cnn3 = Conv1D(filters=128, kernel_size=3, activation='relu', padding='same')(cnn2)\n",
    "#   cnn3 = MaxPooling1D()(cnn3)\n",
    "#   cnn3 = BatchNormalization()(cnn3)\n",
    "#   #cnn3 = Attention()([cnn3,cnn3])\n",
    "#   cnn3 = GlobalMaxPooling1D()(cnn3)\n",
    "#   cnn3 = Dropout(dropout_rate)(cnn3)\n",
    "\n",
    "\n",
    "\n",
    "\n",
    "#   #Bilstm block:\n",
    "#   bilstm1 = Bidirectional(LSTM(num_neurons, return_sequences=True))(bert_embedding)\n",
    "#   #bilstm1 = BatchNormalization()(bilstm1)\n",
    "#   bilstm1 = Dropout(dropout_rate)(bilstm1)\n",
    "#   #bilstm1 = GlobalMaxPooling1D()(bilstm1)\n",
    "\n",
    "#   bilstm2 = Bidirectional(LSTM(num_neurons, return_sequences=True))(bilstm1)\n",
    "#   #bilstm2 = BatchNormalization()(bilstm2)\n",
    "#   bilstm2 = Dropout(dropout_rate)(bilstm2)\n",
    "\n",
    "\n",
    "#   bilstm3 = Bidirectional(LSTM(num_neurons, return_sequences=False))(bilstm2)\n",
    "#   bilstm3 = BatchNormalization()(bilstm3)\n",
    "#   #bilstm3 = Attention()([bilstm3, bilstm3])\n",
    "#   #bilstm3 = GlobalMaxPooling1D()(bilstm3)\n",
    "#   bilstm3 = Dropout(dropout_rate)(bilstm3)\n",
    "\n",
    "\n",
    "\n",
    "\n",
    "\n",
    "#   #Merging block(CNN+biLSTM):\n",
    "#   merged = concatenate([cnn3, bilstm3])\n",
    "#   merged = Dropout(dropout_rate)(merged)\n",
    "#   #Dense block:\n",
    "#   dense = Dense(64, activation='relu')(merged)\n",
    "#   #dense = BatchNormalization()(dense)\n",
    "#   dense = Dropout(dropout_rate)(dense)\n",
    "#   output = Dense(1, activation='sigmoid')(dense)\n",
    "\n",
    "\n",
    "#   #Compiling the model\n",
    "#   optimizer = Adam(\n",
    "#     learning_rate=tf.keras.optimizers.schedules.ExponentialDecay(\n",
    "#             initial_learning_rate=0.0001,\n",
    "#             decay_steps=1000,\n",
    "#             decay_rate=0.95\n",
    "#         ),\n",
    "#     weight_decay=0.01\n",
    "#   )\n",
    "\n",
    "\n",
    "#   model = Model(inputs=[input_ids, attention_mask], outputs=output)\n",
    "#   model.compile(optimizer=optimizer,loss='binary_crossentropy', metrics=['accuracy',tf.keras.metrics.Precision(name='precision'),\n",
    "#             tf.keras.metrics.Recall(name='recall')])\n",
    "\n",
    "#   return model\n",
    "\n",
    "\n"
   ]
  },
  {
   "cell_type": "code",
   "execution_count": 87,
   "metadata": {
    "execution": {
     "iopub.execute_input": "2025-04-16T21:40:37.462076Z",
     "iopub.status.busy": "2025-04-16T21:40:37.461709Z",
     "iopub.status.idle": "2025-04-16T21:40:37.467715Z",
     "shell.execute_reply": "2025-04-16T21:40:37.466711Z",
     "shell.execute_reply.started": "2025-04-16T21:40:37.462044Z"
    },
    "id": "S5BaZeOojkrM",
    "trusted": true
   },
   "outputs": [],
   "source": [
    "# def model_architecture(max_length=512,\n",
    "#                 cnn_filters=162,\n",
    "#                 num_neurons=250,\n",
    "#                 dropout_rate=0.3,\n",
    "#                 l2_reg=0.002,\n",
    "#                 num_classes_language=5,\n",
    "#                 num_classes_safety=2):\n",
    "    \n",
    "#     # Inputs for token ids and attention masks\n",
    "#     input_ids = Input(shape=(max_length,), dtype=tf.int32, name='input_ids')\n",
    "#     attention_mask = Input(shape=(max_length,), dtype=tf.int32, name='attention_mask')\n",
    "    \n",
    "#     # Obtain BERT embeddings\n",
    "#     bert_embedding = DistilBertLayer()( [input_ids, attention_mask] )\n",
    "    \n",
    "#     # ====================\n",
    "#     # CNN Block\n",
    "#     # # ====================\n",
    "#     cnn1 = Conv1D(filters=cnn_filters, kernel_size=3, padding='same',strides = 1, activation='relu')(bert_embedding)\n",
    "#     cnn1 = MaxPooling1D(pool_size=2, padding='same')(cnn1)\n",
    "#     cnn1 = BatchNormalization()(cnn1)\n",
    "#     # cnn1 = Dropout(dropout_rate)(cnn1)\n",
    "    \n",
    "#     cnn2 = Conv1D(filters=cnn_filters, kernel_size=3, padding='same',strides=1, activation='relu')(cnn1)\n",
    "#     cnn2 = MaxPooling1D(pool_size=2, padding='same')(cnn2)\n",
    "#     cnn2 = BatchNormalization()(cnn2)\n",
    "#     cnn2 = Dropout(dropout_rate)(cnn2)\n",
    "#     cnn2 = GlobalAveragePooling1D()(cnn2)\n",
    "    \n",
    "#     # ====================\n",
    "#     # BiLSTM Block\n",
    "#     # ====================\n",
    "#     bilstm1 = Bidirectional(LSTM(num_neurons, return_sequences=True))(bert_embedding)\n",
    "#     bilstm1 = LayerNormalization()(bilstm1)\n",
    "#     bilstm1 = Dropout(dropout_rate)(bilstm1)\n",
    "    \n",
    "#     bilstm2 = Bidirectional(LSTM(num_neurons, return_sequences=True))(bilstm1)\n",
    "#     bilstm2 = LayerNormalization()(bilstm2)\n",
    "#     bilstm2 = Dropout(dropout_rate)(bilstm2)\n",
    "    \n",
    "\n",
    "#     # bilstm3 = Bidirectional(LSTM(num_neurons, return_sequences=True))(bilstm2)\n",
    "#     # bilstm3 = LayerNormalization()(bilstm3)\n",
    "#     # bilstm3 = Dropout(dropout_rate)(bilstm3)\n",
    "    \n",
    "#     # bilstm4 = Bidirectional(LSTM(num_neurons, return_sequences=True))(bilstm3)\n",
    "#     # bilstm4 = LayerNormalization()(bilstm4)\n",
    "#     # bilstm4 = Dropout(dropout_rate)(bilstm4)\n",
    "#     # bilstm4 = GlobalAveragePooling1D()(bilstm4)\n",
    "    \n",
    "#     # ====================\n",
    "#     # Merge CNN and BiLSTM outputs\n",
    "#     # ====================\n",
    "#     attention = Attention()([bilstm2, bilstm2])\n",
    "#     attention = GlobalMaxPooling1D()(attention)\n",
    "#     merged = concatenate([cnn2, attention])\n",
    "#     # merge = GlobalAverage1D()(merge)\n",
    "#     # Fully connected layer for further processing\n",
    "#     fc1 = Dense(128, activation='relu', kernel_regularizer=tf.keras.regularizers.l2(l2_reg))(merged)\n",
    "#     fc1 = LayerNormalization()(fc1)\n",
    "#     fc1 = Dropout(dropout_rate)(fc1)\n",
    "    \n",
    "#     # ====================\n",
    "#     # Output Heads\n",
    "#     # ====================\n",
    "#     language_output = Dense(num_classes_language, activation='softmax', name='language_output')(fc1)\n",
    "\n",
    "#     cnn3 = Conv1D(filters=cnn_filters, kernel_size=3, padding='same',strides = 1, activation='relu')(bert_embedding)\n",
    "#     cnn3 = MaxPooling1D(pool_size=2, padding='same')(cnn3)\n",
    "#     cnn3 = BatchNormalization()(cnn3)\n",
    "#     # cnn1 = Dropout(dropout_rate)(cnn1)\n",
    "    \n",
    "#     cnn4 = Conv1D(filters=cnn_filters, kernel_size=3, padding='same',strides=1, activation='relu')(cnn3)\n",
    "#     cnn4 = MaxPooling1D(pool_size=2, padding='same')(cnn4)\n",
    "#     cnn4 = BatchNormalization()(cnn4)\n",
    "#     cnn4 = Dropout(dropout_rate)(cnn4)\n",
    "#     cnn4 = GlobalAveragePooling1D()(cnn4)\n",
    "\n",
    "#     bilstm4 = Bidirectional(LSTM(num_neurons, return_sequences=True))(bert_embedding)\n",
    "#     bilstm4 = LayerNormalization()(bilstm4)\n",
    "#     bilstm4 = Dropout(dropout_rate)(bilstm4)\n",
    "    \n",
    "#     bilstm5 = Bidirectional(LSTM(num_neurons, return_sequences=True))(bilstm4)\n",
    "#     bilstm5 = LayerNormalization()(bilstm5)\n",
    "#     bilstm5 = Dropout(dropout_rate)(bilstm5)\n",
    "    \n",
    "\n",
    "#     # bilstm6 = Bidirectional(LSTM(num_neurons, return_sequences=True))(bilstm5)\n",
    "#     # bilstm6 = LayerNormalization()(bilstm6)\n",
    "#     # bilstm6 = Dropout(dropout_rate)(bilstm6)\n",
    "    \n",
    "#     attention2 = Attention()([bilstm5, bilstm5])\n",
    "#     attention2 = GlobalMaxPooling1D()(attention2)\n",
    "#     merged2 = concatenate([cnn4, attention2])\n",
    "\n",
    "#     fc2 = Dense(128, activation='relu', kernel_regularizer=tf.keras.regularizers.l2(l2_reg))(merged2)\n",
    "#     fc2 = LayerNormalization()(fc2)\n",
    "#     fc2 = Dropout(dropout_rate)(fc2)\n",
    "    \n",
    "#     # #Safety Dense\n",
    "#     # safety_branch1 = Dense(128, activation='relu')(fc)\n",
    "#     # safety_branch1 = LayerNormalization()(safety_branch1)\n",
    "#     # # safety_branch1 = Dropout(dropout_rate)(safety_branch1)\n",
    "\n",
    "\n",
    "#     safety_branch2 = Dense(128, activation='relu')(fc2)\n",
    "#     safety_branch2 = LayerNormalization()(safety_branch2)\n",
    "#     safety_branch2 = Dropout(dropout_rate)(safety_branch2)\n",
    "#     safety_output = Dense(1, activation='sigmoid', name='safety_output')(safety_branch2)\n",
    "    \n",
    "    \n",
    "    \n",
    "#     model = Model(inputs=[input_ids, attention_mask], outputs=[language_output, safety_output])\n",
    "    \n",
    "#     # Define optimizer and compile the model\n",
    "#     optimizer = Adam(learning_rate=1e-4, clipvalue=1.0)\n",
    "#     model.compile(optimizer=optimizer,\n",
    "#                   loss={'language_output': 'sparse_categorical_crossentropy',\n",
    "#                         'safety_output': 'binary_crossentropy'},\n",
    "#                   loss_weights={'language_output': 0.5, 'safety_output': 1.5},\n",
    "#                     metrics={\n",
    "#                         'language_output':'accuracy',\n",
    "#                         'safety_output':['accuracy',AUC(), Precision(), Recall()]\n",
    "#                     # 'safety_output':'ROC'\n",
    "#                     }\n",
    "#                  )\n",
    "#     return model\n",
    "\n",
    "\n"
   ]
  },
  {
   "cell_type": "code",
   "execution_count": 88,
   "metadata": {
    "execution": {
     "iopub.execute_input": "2025-04-16T21:40:43.839936Z",
     "iopub.status.busy": "2025-04-16T21:40:43.839522Z",
     "iopub.status.idle": "2025-04-16T21:40:43.853728Z",
     "shell.execute_reply": "2025-04-16T21:40:43.852686Z",
     "shell.execute_reply.started": "2025-04-16T21:40:43.839892Z"
    },
    "trusted": true
   },
   "outputs": [],
   "source": [
    "def model_architecture(max_length=512,\n",
    "                       cnn_filters=162,\n",
    "                       num_neurons=250,\n",
    "                       dropout_rate=0.3,\n",
    "                       l2_reg=0.002,\n",
    "                       num_classes_language=5,\n",
    "                       num_classes_safety=2):\n",
    "    \n",
    "    # Inputs\n",
    "    input_ids = Input(shape=(max_length,), dtype=tf.int32, name='input_ids')\n",
    "    attention_mask = Input(shape=(max_length,), dtype=tf.int32, name='attention_mask')\n",
    "    \n",
    "    # BERT embeddings\n",
    "    bert_embedding = CodeBertLayer()([input_ids, attention_mask])\n",
    "    \n",
    "    # ====================\n",
    "    # Language Branch\n",
    "    # ====================\n",
    "    # CNN Block for language branch\n",
    "    cnn1 = Conv1D(filters=cnn_filters, kernel_size=3, padding='same', strides=1, activation='relu')(bert_embedding)\n",
    "    cnn1 = MaxPooling1D(pool_size=2, padding='same')(cnn1)\n",
    "    cnn1 = BatchNormalization()(cnn1)\n",
    "    \n",
    "    cnn2 = Conv1D(filters=cnn_filters, kernel_size=3, padding='same', strides=1, activation='relu')(cnn1)\n",
    "    cnn2 = MaxPooling1D(pool_size=2, padding='same')(cnn2)\n",
    "    cnn2 = BatchNormalization()(cnn2)\n",
    "    cnn2 = Dropout(dropout_rate)(cnn2)\n",
    "    cnn2 = GlobalAveragePooling1D()(cnn2)\n",
    "    \n",
    "    # BiLSTM Block for language branch\n",
    "    bilstm1 = Bidirectional(LSTM(num_neurons, return_sequences=True))(bert_embedding)\n",
    "    bilstm1 = LayerNormalization()(bilstm1)\n",
    "    bilstm1 = Dropout(dropout_rate)(bilstm1)\n",
    "    \n",
    "    bilstm2 = Bidirectional(LSTM(num_neurons, return_sequences=True))(bilstm1)\n",
    "    bilstm2 = LayerNormalization()(bilstm2)\n",
    "    bilstm2 = Dropout(dropout_rate)(bilstm2)\n",
    "    \n",
    "    # Attention on BiLSTM outputs\n",
    "    attention = Attention()([bilstm2, bilstm2])\n",
    "    attention = GlobalMaxPooling1D()(attention)\n",
    "    \n",
    "    merged_lang = concatenate([cnn2, attention])\n",
    "    \n",
    "    fc1 = Dense(128, activation='relu', kernel_regularizer=tf.keras.regularizers.l2(l2_reg))(merged_lang)\n",
    "    fc1 = LayerNormalization()(fc1)\n",
    "    fc1 = Dropout(dropout_rate)(fc1)\n",
    "    \n",
    "    # Language output (softmax for multi-class)\n",
    "    language_output = Dense(num_classes_language, activation='softmax', name='language_output')(fc1)\n",
    "    \n",
    "    \n",
    "    # ====================\n",
    "    # Safety Branch (Dedicated)\n",
    "    # ====================\n",
    "    # CNN Block for safety branch\n",
    "    cnn3 = Conv1D(filters=cnn_filters, kernel_size=3, padding='same', strides=1, activation='relu')(bert_embedding)\n",
    "    cnn3 = MaxPooling1D(pool_size=2, padding='same')(cnn3)\n",
    "    cnn3 = BatchNormalization()(cnn3)\n",
    "    \n",
    "    cnn4 = Conv1D(filters=cnn_filters, kernel_size=3, padding='same', strides=1, activation='relu')(cnn3)\n",
    "    cnn4 = MaxPooling1D(pool_size=2, padding='same')(cnn4)\n",
    "    cnn4 = BatchNormalization()(cnn4)\n",
    "    cnn4 = Dropout(dropout_rate)(cnn4)\n",
    "    cnn4 = GlobalAveragePooling1D()(cnn4)\n",
    "    \n",
    "    # BiLSTM Block for safety branch\n",
    "    bilstm4 = Bidirectional(LSTM(num_neurons, return_sequences=True))(bert_embedding)\n",
    "    bilstm4 = LayerNormalization()(bilstm4)\n",
    "    bilstm4 = Dropout(dropout_rate)(bilstm4)\n",
    "    \n",
    "    bilstm5 = Bidirectional(LSTM(num_neurons, return_sequences=True))(bilstm4)\n",
    "    bilstm5 = LayerNormalization()(bilstm5)\n",
    "    bilstm5 = Dropout(dropout_rate)(bilstm5)\n",
    "    \n",
    "    # Attention on safety BiLSTM outputs\n",
    "    attention2 = Attention()([bilstm5, bilstm5])\n",
    "    attention2 = GlobalMaxPooling1D()(attention2)\n",
    "    \n",
    "    # Merge the CNN and BiLSTM paths for safety\n",
    "    merged_safe = concatenate([cnn4, attention2])\n",
    "    \n",
    "    fc2 = Dense(128, activation='relu', kernel_regularizer=tf.keras.regularizers.l2(l2_reg))(merged_safe)\n",
    "    fc2 = LayerNormalization()(fc2)\n",
    "    fc2 = Dropout(dropout_rate)(fc2)\n",
    "    \n",
    "    # Extra hidden layer dedicated to safety prediction\n",
    "    safety_branch = Dense(128, activation='relu', kernel_regularizer=tf.keras.regularizers.l2(l2_reg))(fc2)\n",
    "    safety_branch = LayerNormalization()(safety_branch)\n",
    "    safety_branch = Dropout(dropout_rate)(safety_branch)\n",
    "    \n",
    "    # Safety output (1 neuron with sigmoid for binary classification)\n",
    "    safety_output = Dense(1, activation='sigmoid', name='safety_output')(safety_branch)\n",
    "    \n",
    "    # Define model with both outputs\n",
    "    model = Model(inputs=[input_ids, attention_mask], outputs=[language_output, safety_output])\n",
    "    \n",
    "    optimizer = Adam(learning_rate=1e-4, clipvalue=1.0)\n",
    "    model.compile(optimizer=optimizer,\n",
    "                  loss={'language_output': 'sparse_categorical_crossentropy',\n",
    "                        'safety_output': 'binary_crossentropy'},\n",
    "                  loss_weights={'language_output': 0.5, 'safety_output': 1.5},\n",
    "                  metrics={'language_output': 'accuracy',\n",
    "                           'safety_output': ['accuracy', AUC(), Precision(), Recall()]})\n",
    "    return model\n"
   ]
  },
  {
   "cell_type": "code",
   "execution_count": 89,
   "metadata": {
    "execution": {
     "iopub.execute_input": "2025-04-16T21:40:47.333173Z",
     "iopub.status.busy": "2025-04-16T21:40:47.332845Z",
     "iopub.status.idle": "2025-04-16T21:41:03.933554Z",
     "shell.execute_reply": "2025-04-16T21:41:03.932676Z",
     "shell.execute_reply.started": "2025-04-16T21:40:47.333148Z"
    },
    "id": "1uhjYrTyurz6",
    "outputId": "704f2108-9c0f-4ee0-d20e-5a1f247c0a61",
    "trusted": true
   },
   "outputs": [
    {
     "data": {
      "application/vnd.jupyter.widget-view+json": {
       "model_id": "134f0ed9350c4c5f85e18368c9f34967",
       "version_major": 2,
       "version_minor": 0
      },
      "text/plain": [
       "tf_model.h5:   0%|          | 0.00/499M [00:00<?, ?B/s]"
      ]
     },
     "metadata": {},
     "output_type": "display_data"
    },
    {
     "name": "stderr",
     "output_type": "stream",
     "text": [
      "All model checkpoint layers were used when initializing TFRobertaModel.\n",
      "\n",
      "All the layers of TFRobertaModel were initialized from the model checkpoint at microsoft/codebert-base.\n",
      "If your task is similar to the task the model of the checkpoint was trained on, you can already use TFRobertaModel for predictions without further training.\n"
     ]
    },
    {
     "data": {
      "text/html": [
       "<pre style=\"white-space:pre;overflow-x:auto;line-height:normal;font-family:Menlo,'DejaVu Sans Mono',consolas,'Courier New',monospace\"><span style=\"font-weight: bold\">Model: \"functional\"</span>\n",
       "</pre>\n"
      ],
      "text/plain": [
       "\u001b[1mModel: \"functional\"\u001b[0m\n"
      ]
     },
     "metadata": {},
     "output_type": "display_data"
    },
    {
     "data": {
      "text/html": [
       "<pre style=\"white-space:pre;overflow-x:auto;line-height:normal;font-family:Menlo,'DejaVu Sans Mono',consolas,'Courier New',monospace\">┏━━━━━━━━━━━━━━━━━━━━━━━━━━━┳━━━━━━━━━━━━━━━━━━━━━━━━┳━━━━━━━━━━━━━━━━┳━━━━━━━━━━━━━━━━━━━━━━━━┓\n",
       "┃<span style=\"font-weight: bold\"> Layer (type)              </span>┃<span style=\"font-weight: bold\"> Output Shape           </span>┃<span style=\"font-weight: bold\">        Param # </span>┃<span style=\"font-weight: bold\"> Connected to           </span>┃\n",
       "┡━━━━━━━━━━━━━━━━━━━━━━━━━━━╇━━━━━━━━━━━━━━━━━━━━━━━━╇━━━━━━━━━━━━━━━━╇━━━━━━━━━━━━━━━━━━━━━━━━┩\n",
       "│ input_ids (<span style=\"color: #0087ff; text-decoration-color: #0087ff\">InputLayer</span>)    │ (<span style=\"color: #00d7ff; text-decoration-color: #00d7ff\">None</span>, <span style=\"color: #00af00; text-decoration-color: #00af00\">512</span>)            │              <span style=\"color: #00af00; text-decoration-color: #00af00\">0</span> │ -                      │\n",
       "├───────────────────────────┼────────────────────────┼────────────────┼────────────────────────┤\n",
       "│ attention_mask            │ (<span style=\"color: #00d7ff; text-decoration-color: #00d7ff\">None</span>, <span style=\"color: #00af00; text-decoration-color: #00af00\">512</span>)            │              <span style=\"color: #00af00; text-decoration-color: #00af00\">0</span> │ -                      │\n",
       "│ (<span style=\"color: #0087ff; text-decoration-color: #0087ff\">InputLayer</span>)              │                        │                │                        │\n",
       "├───────────────────────────┼────────────────────────┼────────────────┼────────────────────────┤\n",
       "│ code_bert_layer           │ (<span style=\"color: #00d7ff; text-decoration-color: #00d7ff\">None</span>, <span style=\"color: #00af00; text-decoration-color: #00af00\">512</span>, <span style=\"color: #00af00; text-decoration-color: #00af00\">768</span>)       │              <span style=\"color: #00af00; text-decoration-color: #00af00\">0</span> │ input_ids[<span style=\"color: #00af00; text-decoration-color: #00af00\">0</span>][<span style=\"color: #00af00; text-decoration-color: #00af00\">0</span>],       │\n",
       "│ (<span style=\"color: #0087ff; text-decoration-color: #0087ff\">CodeBertLayer</span>)           │                        │                │ attention_mask[<span style=\"color: #00af00; text-decoration-color: #00af00\">0</span>][<span style=\"color: #00af00; text-decoration-color: #00af00\">0</span>]   │\n",
       "├───────────────────────────┼────────────────────────┼────────────────┼────────────────────────┤\n",
       "│ conv1d_2 (<span style=\"color: #0087ff; text-decoration-color: #0087ff\">Conv1D</span>)         │ (<span style=\"color: #00d7ff; text-decoration-color: #00d7ff\">None</span>, <span style=\"color: #00af00; text-decoration-color: #00af00\">512</span>, <span style=\"color: #00af00; text-decoration-color: #00af00\">162</span>)       │        <span style=\"color: #00af00; text-decoration-color: #00af00\">373,410</span> │ code_bert_layer[<span style=\"color: #00af00; text-decoration-color: #00af00\">0</span>][<span style=\"color: #00af00; text-decoration-color: #00af00\">0</span>]  │\n",
       "├───────────────────────────┼────────────────────────┼────────────────┼────────────────────────┤\n",
       "│ bidirectional_2           │ (<span style=\"color: #00d7ff; text-decoration-color: #00d7ff\">None</span>, <span style=\"color: #00af00; text-decoration-color: #00af00\">512</span>, <span style=\"color: #00af00; text-decoration-color: #00af00\">500</span>)       │      <span style=\"color: #00af00; text-decoration-color: #00af00\">2,038,000</span> │ code_bert_layer[<span style=\"color: #00af00; text-decoration-color: #00af00\">0</span>][<span style=\"color: #00af00; text-decoration-color: #00af00\">0</span>]  │\n",
       "│ (<span style=\"color: #0087ff; text-decoration-color: #0087ff\">Bidirectional</span>)           │                        │                │                        │\n",
       "├───────────────────────────┼────────────────────────┼────────────────┼────────────────────────┤\n",
       "│ max_pooling1d_2           │ (<span style=\"color: #00d7ff; text-decoration-color: #00d7ff\">None</span>, <span style=\"color: #00af00; text-decoration-color: #00af00\">256</span>, <span style=\"color: #00af00; text-decoration-color: #00af00\">162</span>)       │              <span style=\"color: #00af00; text-decoration-color: #00af00\">0</span> │ conv1d_2[<span style=\"color: #00af00; text-decoration-color: #00af00\">0</span>][<span style=\"color: #00af00; text-decoration-color: #00af00\">0</span>]         │\n",
       "│ (<span style=\"color: #0087ff; text-decoration-color: #0087ff\">MaxPooling1D</span>)            │                        │                │                        │\n",
       "├───────────────────────────┼────────────────────────┼────────────────┼────────────────────────┤\n",
       "│ layer_normalization_3     │ (<span style=\"color: #00d7ff; text-decoration-color: #00d7ff\">None</span>, <span style=\"color: #00af00; text-decoration-color: #00af00\">512</span>, <span style=\"color: #00af00; text-decoration-color: #00af00\">500</span>)       │          <span style=\"color: #00af00; text-decoration-color: #00af00\">1,000</span> │ bidirectional_2[<span style=\"color: #00af00; text-decoration-color: #00af00\">0</span>][<span style=\"color: #00af00; text-decoration-color: #00af00\">0</span>]  │\n",
       "│ (<span style=\"color: #0087ff; text-decoration-color: #0087ff\">LayerNormalization</span>)      │                        │                │                        │\n",
       "├───────────────────────────┼────────────────────────┼────────────────┼────────────────────────┤\n",
       "│ batch_normalization_2     │ (<span style=\"color: #00d7ff; text-decoration-color: #00d7ff\">None</span>, <span style=\"color: #00af00; text-decoration-color: #00af00\">256</span>, <span style=\"color: #00af00; text-decoration-color: #00af00\">162</span>)       │            <span style=\"color: #00af00; text-decoration-color: #00af00\">648</span> │ max_pooling1d_2[<span style=\"color: #00af00; text-decoration-color: #00af00\">0</span>][<span style=\"color: #00af00; text-decoration-color: #00af00\">0</span>]  │\n",
       "│ (<span style=\"color: #0087ff; text-decoration-color: #0087ff\">BatchNormalization</span>)      │                        │                │                        │\n",
       "├───────────────────────────┼────────────────────────┼────────────────┼────────────────────────┤\n",
       "│ dropout_5 (<span style=\"color: #0087ff; text-decoration-color: #0087ff\">Dropout</span>)       │ (<span style=\"color: #00d7ff; text-decoration-color: #00d7ff\">None</span>, <span style=\"color: #00af00; text-decoration-color: #00af00\">512</span>, <span style=\"color: #00af00; text-decoration-color: #00af00\">500</span>)       │              <span style=\"color: #00af00; text-decoration-color: #00af00\">0</span> │ layer_normalization_3… │\n",
       "├───────────────────────────┼────────────────────────┼────────────────┼────────────────────────┤\n",
       "│ conv1d (<span style=\"color: #0087ff; text-decoration-color: #0087ff\">Conv1D</span>)           │ (<span style=\"color: #00d7ff; text-decoration-color: #00d7ff\">None</span>, <span style=\"color: #00af00; text-decoration-color: #00af00\">512</span>, <span style=\"color: #00af00; text-decoration-color: #00af00\">162</span>)       │        <span style=\"color: #00af00; text-decoration-color: #00af00\">373,410</span> │ code_bert_layer[<span style=\"color: #00af00; text-decoration-color: #00af00\">0</span>][<span style=\"color: #00af00; text-decoration-color: #00af00\">0</span>]  │\n",
       "├───────────────────────────┼────────────────────────┼────────────────┼────────────────────────┤\n",
       "│ bidirectional             │ (<span style=\"color: #00d7ff; text-decoration-color: #00d7ff\">None</span>, <span style=\"color: #00af00; text-decoration-color: #00af00\">512</span>, <span style=\"color: #00af00; text-decoration-color: #00af00\">500</span>)       │      <span style=\"color: #00af00; text-decoration-color: #00af00\">2,038,000</span> │ code_bert_layer[<span style=\"color: #00af00; text-decoration-color: #00af00\">0</span>][<span style=\"color: #00af00; text-decoration-color: #00af00\">0</span>]  │\n",
       "│ (<span style=\"color: #0087ff; text-decoration-color: #0087ff\">Bidirectional</span>)           │                        │                │                        │\n",
       "├───────────────────────────┼────────────────────────┼────────────────┼────────────────────────┤\n",
       "│ conv1d_3 (<span style=\"color: #0087ff; text-decoration-color: #0087ff\">Conv1D</span>)         │ (<span style=\"color: #00d7ff; text-decoration-color: #00d7ff\">None</span>, <span style=\"color: #00af00; text-decoration-color: #00af00\">256</span>, <span style=\"color: #00af00; text-decoration-color: #00af00\">162</span>)       │         <span style=\"color: #00af00; text-decoration-color: #00af00\">78,894</span> │ batch_normalization_2… │\n",
       "├───────────────────────────┼────────────────────────┼────────────────┼────────────────────────┤\n",
       "│ bidirectional_3           │ (<span style=\"color: #00d7ff; text-decoration-color: #00d7ff\">None</span>, <span style=\"color: #00af00; text-decoration-color: #00af00\">512</span>, <span style=\"color: #00af00; text-decoration-color: #00af00\">500</span>)       │      <span style=\"color: #00af00; text-decoration-color: #00af00\">1,502,000</span> │ dropout_5[<span style=\"color: #00af00; text-decoration-color: #00af00\">0</span>][<span style=\"color: #00af00; text-decoration-color: #00af00\">0</span>]        │\n",
       "│ (<span style=\"color: #0087ff; text-decoration-color: #0087ff\">Bidirectional</span>)           │                        │                │                        │\n",
       "├───────────────────────────┼────────────────────────┼────────────────┼────────────────────────┤\n",
       "│ max_pooling1d             │ (<span style=\"color: #00d7ff; text-decoration-color: #00d7ff\">None</span>, <span style=\"color: #00af00; text-decoration-color: #00af00\">256</span>, <span style=\"color: #00af00; text-decoration-color: #00af00\">162</span>)       │              <span style=\"color: #00af00; text-decoration-color: #00af00\">0</span> │ conv1d[<span style=\"color: #00af00; text-decoration-color: #00af00\">0</span>][<span style=\"color: #00af00; text-decoration-color: #00af00\">0</span>]           │\n",
       "│ (<span style=\"color: #0087ff; text-decoration-color: #0087ff\">MaxPooling1D</span>)            │                        │                │                        │\n",
       "├───────────────────────────┼────────────────────────┼────────────────┼────────────────────────┤\n",
       "│ layer_normalization       │ (<span style=\"color: #00d7ff; text-decoration-color: #00d7ff\">None</span>, <span style=\"color: #00af00; text-decoration-color: #00af00\">512</span>, <span style=\"color: #00af00; text-decoration-color: #00af00\">500</span>)       │          <span style=\"color: #00af00; text-decoration-color: #00af00\">1,000</span> │ bidirectional[<span style=\"color: #00af00; text-decoration-color: #00af00\">0</span>][<span style=\"color: #00af00; text-decoration-color: #00af00\">0</span>]    │\n",
       "│ (<span style=\"color: #0087ff; text-decoration-color: #0087ff\">LayerNormalization</span>)      │                        │                │                        │\n",
       "├───────────────────────────┼────────────────────────┼────────────────┼────────────────────────┤\n",
       "│ max_pooling1d_3           │ (<span style=\"color: #00d7ff; text-decoration-color: #00d7ff\">None</span>, <span style=\"color: #00af00; text-decoration-color: #00af00\">128</span>, <span style=\"color: #00af00; text-decoration-color: #00af00\">162</span>)       │              <span style=\"color: #00af00; text-decoration-color: #00af00\">0</span> │ conv1d_3[<span style=\"color: #00af00; text-decoration-color: #00af00\">0</span>][<span style=\"color: #00af00; text-decoration-color: #00af00\">0</span>]         │\n",
       "│ (<span style=\"color: #0087ff; text-decoration-color: #0087ff\">MaxPooling1D</span>)            │                        │                │                        │\n",
       "├───────────────────────────┼────────────────────────┼────────────────┼────────────────────────┤\n",
       "│ layer_normalization_4     │ (<span style=\"color: #00d7ff; text-decoration-color: #00d7ff\">None</span>, <span style=\"color: #00af00; text-decoration-color: #00af00\">512</span>, <span style=\"color: #00af00; text-decoration-color: #00af00\">500</span>)       │          <span style=\"color: #00af00; text-decoration-color: #00af00\">1,000</span> │ bidirectional_3[<span style=\"color: #00af00; text-decoration-color: #00af00\">0</span>][<span style=\"color: #00af00; text-decoration-color: #00af00\">0</span>]  │\n",
       "│ (<span style=\"color: #0087ff; text-decoration-color: #0087ff\">LayerNormalization</span>)      │                        │                │                        │\n",
       "├───────────────────────────┼────────────────────────┼────────────────┼────────────────────────┤\n",
       "│ batch_normalization       │ (<span style=\"color: #00d7ff; text-decoration-color: #00d7ff\">None</span>, <span style=\"color: #00af00; text-decoration-color: #00af00\">256</span>, <span style=\"color: #00af00; text-decoration-color: #00af00\">162</span>)       │            <span style=\"color: #00af00; text-decoration-color: #00af00\">648</span> │ max_pooling1d[<span style=\"color: #00af00; text-decoration-color: #00af00\">0</span>][<span style=\"color: #00af00; text-decoration-color: #00af00\">0</span>]    │\n",
       "│ (<span style=\"color: #0087ff; text-decoration-color: #0087ff\">BatchNormalization</span>)      │                        │                │                        │\n",
       "├───────────────────────────┼────────────────────────┼────────────────┼────────────────────────┤\n",
       "│ dropout_1 (<span style=\"color: #0087ff; text-decoration-color: #0087ff\">Dropout</span>)       │ (<span style=\"color: #00d7ff; text-decoration-color: #00d7ff\">None</span>, <span style=\"color: #00af00; text-decoration-color: #00af00\">512</span>, <span style=\"color: #00af00; text-decoration-color: #00af00\">500</span>)       │              <span style=\"color: #00af00; text-decoration-color: #00af00\">0</span> │ layer_normalization[<span style=\"color: #00af00; text-decoration-color: #00af00\">0</span>… │\n",
       "├───────────────────────────┼────────────────────────┼────────────────┼────────────────────────┤\n",
       "│ batch_normalization_3     │ (<span style=\"color: #00d7ff; text-decoration-color: #00d7ff\">None</span>, <span style=\"color: #00af00; text-decoration-color: #00af00\">128</span>, <span style=\"color: #00af00; text-decoration-color: #00af00\">162</span>)       │            <span style=\"color: #00af00; text-decoration-color: #00af00\">648</span> │ max_pooling1d_3[<span style=\"color: #00af00; text-decoration-color: #00af00\">0</span>][<span style=\"color: #00af00; text-decoration-color: #00af00\">0</span>]  │\n",
       "│ (<span style=\"color: #0087ff; text-decoration-color: #0087ff\">BatchNormalization</span>)      │                        │                │                        │\n",
       "├───────────────────────────┼────────────────────────┼────────────────┼────────────────────────┤\n",
       "│ dropout_6 (<span style=\"color: #0087ff; text-decoration-color: #0087ff\">Dropout</span>)       │ (<span style=\"color: #00d7ff; text-decoration-color: #00d7ff\">None</span>, <span style=\"color: #00af00; text-decoration-color: #00af00\">512</span>, <span style=\"color: #00af00; text-decoration-color: #00af00\">500</span>)       │              <span style=\"color: #00af00; text-decoration-color: #00af00\">0</span> │ layer_normalization_4… │\n",
       "├───────────────────────────┼────────────────────────┼────────────────┼────────────────────────┤\n",
       "│ conv1d_1 (<span style=\"color: #0087ff; text-decoration-color: #0087ff\">Conv1D</span>)         │ (<span style=\"color: #00d7ff; text-decoration-color: #00d7ff\">None</span>, <span style=\"color: #00af00; text-decoration-color: #00af00\">256</span>, <span style=\"color: #00af00; text-decoration-color: #00af00\">162</span>)       │         <span style=\"color: #00af00; text-decoration-color: #00af00\">78,894</span> │ batch_normalization[<span style=\"color: #00af00; text-decoration-color: #00af00\">0</span>… │\n",
       "├───────────────────────────┼────────────────────────┼────────────────┼────────────────────────┤\n",
       "│ bidirectional_1           │ (<span style=\"color: #00d7ff; text-decoration-color: #00d7ff\">None</span>, <span style=\"color: #00af00; text-decoration-color: #00af00\">512</span>, <span style=\"color: #00af00; text-decoration-color: #00af00\">500</span>)       │      <span style=\"color: #00af00; text-decoration-color: #00af00\">1,502,000</span> │ dropout_1[<span style=\"color: #00af00; text-decoration-color: #00af00\">0</span>][<span style=\"color: #00af00; text-decoration-color: #00af00\">0</span>]        │\n",
       "│ (<span style=\"color: #0087ff; text-decoration-color: #0087ff\">Bidirectional</span>)           │                        │                │                        │\n",
       "├───────────────────────────┼────────────────────────┼────────────────┼────────────────────────┤\n",
       "│ dropout_4 (<span style=\"color: #0087ff; text-decoration-color: #0087ff\">Dropout</span>)       │ (<span style=\"color: #00d7ff; text-decoration-color: #00d7ff\">None</span>, <span style=\"color: #00af00; text-decoration-color: #00af00\">128</span>, <span style=\"color: #00af00; text-decoration-color: #00af00\">162</span>)       │              <span style=\"color: #00af00; text-decoration-color: #00af00\">0</span> │ batch_normalization_3… │\n",
       "├───────────────────────────┼────────────────────────┼────────────────┼────────────────────────┤\n",
       "│ attention_1 (<span style=\"color: #0087ff; text-decoration-color: #0087ff\">Attention</span>)   │ (<span style=\"color: #00d7ff; text-decoration-color: #00d7ff\">None</span>, <span style=\"color: #00af00; text-decoration-color: #00af00\">512</span>, <span style=\"color: #00af00; text-decoration-color: #00af00\">500</span>)       │              <span style=\"color: #00af00; text-decoration-color: #00af00\">0</span> │ dropout_6[<span style=\"color: #00af00; text-decoration-color: #00af00\">0</span>][<span style=\"color: #00af00; text-decoration-color: #00af00\">0</span>],       │\n",
       "│                           │                        │                │ dropout_6[<span style=\"color: #00af00; text-decoration-color: #00af00\">0</span>][<span style=\"color: #00af00; text-decoration-color: #00af00\">0</span>]        │\n",
       "├───────────────────────────┼────────────────────────┼────────────────┼────────────────────────┤\n",
       "│ max_pooling1d_1           │ (<span style=\"color: #00d7ff; text-decoration-color: #00d7ff\">None</span>, <span style=\"color: #00af00; text-decoration-color: #00af00\">128</span>, <span style=\"color: #00af00; text-decoration-color: #00af00\">162</span>)       │              <span style=\"color: #00af00; text-decoration-color: #00af00\">0</span> │ conv1d_1[<span style=\"color: #00af00; text-decoration-color: #00af00\">0</span>][<span style=\"color: #00af00; text-decoration-color: #00af00\">0</span>]         │\n",
       "│ (<span style=\"color: #0087ff; text-decoration-color: #0087ff\">MaxPooling1D</span>)            │                        │                │                        │\n",
       "├───────────────────────────┼────────────────────────┼────────────────┼────────────────────────┤\n",
       "│ layer_normalization_1     │ (<span style=\"color: #00d7ff; text-decoration-color: #00d7ff\">None</span>, <span style=\"color: #00af00; text-decoration-color: #00af00\">512</span>, <span style=\"color: #00af00; text-decoration-color: #00af00\">500</span>)       │          <span style=\"color: #00af00; text-decoration-color: #00af00\">1,000</span> │ bidirectional_1[<span style=\"color: #00af00; text-decoration-color: #00af00\">0</span>][<span style=\"color: #00af00; text-decoration-color: #00af00\">0</span>]  │\n",
       "│ (<span style=\"color: #0087ff; text-decoration-color: #0087ff\">LayerNormalization</span>)      │                        │                │                        │\n",
       "├───────────────────────────┼────────────────────────┼────────────────┼────────────────────────┤\n",
       "│ global_average_pooling1d… │ (<span style=\"color: #00d7ff; text-decoration-color: #00d7ff\">None</span>, <span style=\"color: #00af00; text-decoration-color: #00af00\">162</span>)            │              <span style=\"color: #00af00; text-decoration-color: #00af00\">0</span> │ dropout_4[<span style=\"color: #00af00; text-decoration-color: #00af00\">0</span>][<span style=\"color: #00af00; text-decoration-color: #00af00\">0</span>]        │\n",
       "│ (<span style=\"color: #0087ff; text-decoration-color: #0087ff\">GlobalAveragePooling1D</span>)  │                        │                │                        │\n",
       "├───────────────────────────┼────────────────────────┼────────────────┼────────────────────────┤\n",
       "│ global_max_pooling1d_1    │ (<span style=\"color: #00d7ff; text-decoration-color: #00d7ff\">None</span>, <span style=\"color: #00af00; text-decoration-color: #00af00\">500</span>)            │              <span style=\"color: #00af00; text-decoration-color: #00af00\">0</span> │ attention_1[<span style=\"color: #00af00; text-decoration-color: #00af00\">0</span>][<span style=\"color: #00af00; text-decoration-color: #00af00\">0</span>]      │\n",
       "│ (<span style=\"color: #0087ff; text-decoration-color: #0087ff\">GlobalMaxPooling1D</span>)      │                        │                │                        │\n",
       "├───────────────────────────┼────────────────────────┼────────────────┼────────────────────────┤\n",
       "│ batch_normalization_1     │ (<span style=\"color: #00d7ff; text-decoration-color: #00d7ff\">None</span>, <span style=\"color: #00af00; text-decoration-color: #00af00\">128</span>, <span style=\"color: #00af00; text-decoration-color: #00af00\">162</span>)       │            <span style=\"color: #00af00; text-decoration-color: #00af00\">648</span> │ max_pooling1d_1[<span style=\"color: #00af00; text-decoration-color: #00af00\">0</span>][<span style=\"color: #00af00; text-decoration-color: #00af00\">0</span>]  │\n",
       "│ (<span style=\"color: #0087ff; text-decoration-color: #0087ff\">BatchNormalization</span>)      │                        │                │                        │\n",
       "├───────────────────────────┼────────────────────────┼────────────────┼────────────────────────┤\n",
       "│ dropout_2 (<span style=\"color: #0087ff; text-decoration-color: #0087ff\">Dropout</span>)       │ (<span style=\"color: #00d7ff; text-decoration-color: #00d7ff\">None</span>, <span style=\"color: #00af00; text-decoration-color: #00af00\">512</span>, <span style=\"color: #00af00; text-decoration-color: #00af00\">500</span>)       │              <span style=\"color: #00af00; text-decoration-color: #00af00\">0</span> │ layer_normalization_1… │\n",
       "├───────────────────────────┼────────────────────────┼────────────────┼────────────────────────┤\n",
       "│ concatenate_1             │ (<span style=\"color: #00d7ff; text-decoration-color: #00d7ff\">None</span>, <span style=\"color: #00af00; text-decoration-color: #00af00\">662</span>)            │              <span style=\"color: #00af00; text-decoration-color: #00af00\">0</span> │ global_average_poolin… │\n",
       "│ (<span style=\"color: #0087ff; text-decoration-color: #0087ff\">Concatenate</span>)             │                        │                │ global_max_pooling1d_… │\n",
       "├───────────────────────────┼────────────────────────┼────────────────┼────────────────────────┤\n",
       "│ dropout (<span style=\"color: #0087ff; text-decoration-color: #0087ff\">Dropout</span>)         │ (<span style=\"color: #00d7ff; text-decoration-color: #00d7ff\">None</span>, <span style=\"color: #00af00; text-decoration-color: #00af00\">128</span>, <span style=\"color: #00af00; text-decoration-color: #00af00\">162</span>)       │              <span style=\"color: #00af00; text-decoration-color: #00af00\">0</span> │ batch_normalization_1… │\n",
       "├───────────────────────────┼────────────────────────┼────────────────┼────────────────────────┤\n",
       "│ attention (<span style=\"color: #0087ff; text-decoration-color: #0087ff\">Attention</span>)     │ (<span style=\"color: #00d7ff; text-decoration-color: #00d7ff\">None</span>, <span style=\"color: #00af00; text-decoration-color: #00af00\">512</span>, <span style=\"color: #00af00; text-decoration-color: #00af00\">500</span>)       │              <span style=\"color: #00af00; text-decoration-color: #00af00\">0</span> │ dropout_2[<span style=\"color: #00af00; text-decoration-color: #00af00\">0</span>][<span style=\"color: #00af00; text-decoration-color: #00af00\">0</span>],       │\n",
       "│                           │                        │                │ dropout_2[<span style=\"color: #00af00; text-decoration-color: #00af00\">0</span>][<span style=\"color: #00af00; text-decoration-color: #00af00\">0</span>]        │\n",
       "├───────────────────────────┼────────────────────────┼────────────────┼────────────────────────┤\n",
       "│ dense_1 (<span style=\"color: #0087ff; text-decoration-color: #0087ff\">Dense</span>)           │ (<span style=\"color: #00d7ff; text-decoration-color: #00d7ff\">None</span>, <span style=\"color: #00af00; text-decoration-color: #00af00\">128</span>)            │         <span style=\"color: #00af00; text-decoration-color: #00af00\">84,864</span> │ concatenate_1[<span style=\"color: #00af00; text-decoration-color: #00af00\">0</span>][<span style=\"color: #00af00; text-decoration-color: #00af00\">0</span>]    │\n",
       "├───────────────────────────┼────────────────────────┼────────────────┼────────────────────────┤\n",
       "│ global_average_pooling1d  │ (<span style=\"color: #00d7ff; text-decoration-color: #00d7ff\">None</span>, <span style=\"color: #00af00; text-decoration-color: #00af00\">162</span>)            │              <span style=\"color: #00af00; text-decoration-color: #00af00\">0</span> │ dropout[<span style=\"color: #00af00; text-decoration-color: #00af00\">0</span>][<span style=\"color: #00af00; text-decoration-color: #00af00\">0</span>]          │\n",
       "│ (<span style=\"color: #0087ff; text-decoration-color: #0087ff\">GlobalAveragePooling1D</span>)  │                        │                │                        │\n",
       "├───────────────────────────┼────────────────────────┼────────────────┼────────────────────────┤\n",
       "│ global_max_pooling1d      │ (<span style=\"color: #00d7ff; text-decoration-color: #00d7ff\">None</span>, <span style=\"color: #00af00; text-decoration-color: #00af00\">500</span>)            │              <span style=\"color: #00af00; text-decoration-color: #00af00\">0</span> │ attention[<span style=\"color: #00af00; text-decoration-color: #00af00\">0</span>][<span style=\"color: #00af00; text-decoration-color: #00af00\">0</span>]        │\n",
       "│ (<span style=\"color: #0087ff; text-decoration-color: #0087ff\">GlobalMaxPooling1D</span>)      │                        │                │                        │\n",
       "├───────────────────────────┼────────────────────────┼────────────────┼────────────────────────┤\n",
       "│ layer_normalization_5     │ (<span style=\"color: #00d7ff; text-decoration-color: #00d7ff\">None</span>, <span style=\"color: #00af00; text-decoration-color: #00af00\">128</span>)            │            <span style=\"color: #00af00; text-decoration-color: #00af00\">256</span> │ dense_1[<span style=\"color: #00af00; text-decoration-color: #00af00\">0</span>][<span style=\"color: #00af00; text-decoration-color: #00af00\">0</span>]          │\n",
       "│ (<span style=\"color: #0087ff; text-decoration-color: #0087ff\">LayerNormalization</span>)      │                        │                │                        │\n",
       "├───────────────────────────┼────────────────────────┼────────────────┼────────────────────────┤\n",
       "│ concatenate (<span style=\"color: #0087ff; text-decoration-color: #0087ff\">Concatenate</span>) │ (<span style=\"color: #00d7ff; text-decoration-color: #00d7ff\">None</span>, <span style=\"color: #00af00; text-decoration-color: #00af00\">662</span>)            │              <span style=\"color: #00af00; text-decoration-color: #00af00\">0</span> │ global_average_poolin… │\n",
       "│                           │                        │                │ global_max_pooling1d[<span style=\"color: #00af00; text-decoration-color: #00af00\">…</span> │\n",
       "├───────────────────────────┼────────────────────────┼────────────────┼────────────────────────┤\n",
       "│ dropout_7 (<span style=\"color: #0087ff; text-decoration-color: #0087ff\">Dropout</span>)       │ (<span style=\"color: #00d7ff; text-decoration-color: #00d7ff\">None</span>, <span style=\"color: #00af00; text-decoration-color: #00af00\">128</span>)            │              <span style=\"color: #00af00; text-decoration-color: #00af00\">0</span> │ layer_normalization_5… │\n",
       "├───────────────────────────┼────────────────────────┼────────────────┼────────────────────────┤\n",
       "│ dense (<span style=\"color: #0087ff; text-decoration-color: #0087ff\">Dense</span>)             │ (<span style=\"color: #00d7ff; text-decoration-color: #00d7ff\">None</span>, <span style=\"color: #00af00; text-decoration-color: #00af00\">128</span>)            │         <span style=\"color: #00af00; text-decoration-color: #00af00\">84,864</span> │ concatenate[<span style=\"color: #00af00; text-decoration-color: #00af00\">0</span>][<span style=\"color: #00af00; text-decoration-color: #00af00\">0</span>]      │\n",
       "├───────────────────────────┼────────────────────────┼────────────────┼────────────────────────┤\n",
       "│ dense_2 (<span style=\"color: #0087ff; text-decoration-color: #0087ff\">Dense</span>)           │ (<span style=\"color: #00d7ff; text-decoration-color: #00d7ff\">None</span>, <span style=\"color: #00af00; text-decoration-color: #00af00\">128</span>)            │         <span style=\"color: #00af00; text-decoration-color: #00af00\">16,512</span> │ dropout_7[<span style=\"color: #00af00; text-decoration-color: #00af00\">0</span>][<span style=\"color: #00af00; text-decoration-color: #00af00\">0</span>]        │\n",
       "├───────────────────────────┼────────────────────────┼────────────────┼────────────────────────┤\n",
       "│ layer_normalization_2     │ (<span style=\"color: #00d7ff; text-decoration-color: #00d7ff\">None</span>, <span style=\"color: #00af00; text-decoration-color: #00af00\">128</span>)            │            <span style=\"color: #00af00; text-decoration-color: #00af00\">256</span> │ dense[<span style=\"color: #00af00; text-decoration-color: #00af00\">0</span>][<span style=\"color: #00af00; text-decoration-color: #00af00\">0</span>]            │\n",
       "│ (<span style=\"color: #0087ff; text-decoration-color: #0087ff\">LayerNormalization</span>)      │                        │                │                        │\n",
       "├───────────────────────────┼────────────────────────┼────────────────┼────────────────────────┤\n",
       "│ layer_normalization_6     │ (<span style=\"color: #00d7ff; text-decoration-color: #00d7ff\">None</span>, <span style=\"color: #00af00; text-decoration-color: #00af00\">128</span>)            │            <span style=\"color: #00af00; text-decoration-color: #00af00\">256</span> │ dense_2[<span style=\"color: #00af00; text-decoration-color: #00af00\">0</span>][<span style=\"color: #00af00; text-decoration-color: #00af00\">0</span>]          │\n",
       "│ (<span style=\"color: #0087ff; text-decoration-color: #0087ff\">LayerNormalization</span>)      │                        │                │                        │\n",
       "├───────────────────────────┼────────────────────────┼────────────────┼────────────────────────┤\n",
       "│ dropout_3 (<span style=\"color: #0087ff; text-decoration-color: #0087ff\">Dropout</span>)       │ (<span style=\"color: #00d7ff; text-decoration-color: #00d7ff\">None</span>, <span style=\"color: #00af00; text-decoration-color: #00af00\">128</span>)            │              <span style=\"color: #00af00; text-decoration-color: #00af00\">0</span> │ layer_normalization_2… │\n",
       "├───────────────────────────┼────────────────────────┼────────────────┼────────────────────────┤\n",
       "│ dropout_8 (<span style=\"color: #0087ff; text-decoration-color: #0087ff\">Dropout</span>)       │ (<span style=\"color: #00d7ff; text-decoration-color: #00d7ff\">None</span>, <span style=\"color: #00af00; text-decoration-color: #00af00\">128</span>)            │              <span style=\"color: #00af00; text-decoration-color: #00af00\">0</span> │ layer_normalization_6… │\n",
       "├───────────────────────────┼────────────────────────┼────────────────┼────────────────────────┤\n",
       "│ language_output (<span style=\"color: #0087ff; text-decoration-color: #0087ff\">Dense</span>)   │ (<span style=\"color: #00d7ff; text-decoration-color: #00d7ff\">None</span>, <span style=\"color: #00af00; text-decoration-color: #00af00\">5</span>)              │            <span style=\"color: #00af00; text-decoration-color: #00af00\">645</span> │ dropout_3[<span style=\"color: #00af00; text-decoration-color: #00af00\">0</span>][<span style=\"color: #00af00; text-decoration-color: #00af00\">0</span>]        │\n",
       "├───────────────────────────┼────────────────────────┼────────────────┼────────────────────────┤\n",
       "│ safety_output (<span style=\"color: #0087ff; text-decoration-color: #0087ff\">Dense</span>)     │ (<span style=\"color: #00d7ff; text-decoration-color: #00d7ff\">None</span>, <span style=\"color: #00af00; text-decoration-color: #00af00\">1</span>)              │            <span style=\"color: #00af00; text-decoration-color: #00af00\">129</span> │ dropout_8[<span style=\"color: #00af00; text-decoration-color: #00af00\">0</span>][<span style=\"color: #00af00; text-decoration-color: #00af00\">0</span>]        │\n",
       "└───────────────────────────┴────────────────────────┴────────────────┴────────────────────────┘\n",
       "</pre>\n"
      ],
      "text/plain": [
       "┏━━━━━━━━━━━━━━━━━━━━━━━━━━━┳━━━━━━━━━━━━━━━━━━━━━━━━┳━━━━━━━━━━━━━━━━┳━━━━━━━━━━━━━━━━━━━━━━━━┓\n",
       "┃\u001b[1m \u001b[0m\u001b[1mLayer (type)             \u001b[0m\u001b[1m \u001b[0m┃\u001b[1m \u001b[0m\u001b[1mOutput Shape          \u001b[0m\u001b[1m \u001b[0m┃\u001b[1m \u001b[0m\u001b[1m       Param #\u001b[0m\u001b[1m \u001b[0m┃\u001b[1m \u001b[0m\u001b[1mConnected to          \u001b[0m\u001b[1m \u001b[0m┃\n",
       "┡━━━━━━━━━━━━━━━━━━━━━━━━━━━╇━━━━━━━━━━━━━━━━━━━━━━━━╇━━━━━━━━━━━━━━━━╇━━━━━━━━━━━━━━━━━━━━━━━━┩\n",
       "│ input_ids (\u001b[38;5;33mInputLayer\u001b[0m)    │ (\u001b[38;5;45mNone\u001b[0m, \u001b[38;5;34m512\u001b[0m)            │              \u001b[38;5;34m0\u001b[0m │ -                      │\n",
       "├───────────────────────────┼────────────────────────┼────────────────┼────────────────────────┤\n",
       "│ attention_mask            │ (\u001b[38;5;45mNone\u001b[0m, \u001b[38;5;34m512\u001b[0m)            │              \u001b[38;5;34m0\u001b[0m │ -                      │\n",
       "│ (\u001b[38;5;33mInputLayer\u001b[0m)              │                        │                │                        │\n",
       "├───────────────────────────┼────────────────────────┼────────────────┼────────────────────────┤\n",
       "│ code_bert_layer           │ (\u001b[38;5;45mNone\u001b[0m, \u001b[38;5;34m512\u001b[0m, \u001b[38;5;34m768\u001b[0m)       │              \u001b[38;5;34m0\u001b[0m │ input_ids[\u001b[38;5;34m0\u001b[0m][\u001b[38;5;34m0\u001b[0m],       │\n",
       "│ (\u001b[38;5;33mCodeBertLayer\u001b[0m)           │                        │                │ attention_mask[\u001b[38;5;34m0\u001b[0m][\u001b[38;5;34m0\u001b[0m]   │\n",
       "├───────────────────────────┼────────────────────────┼────────────────┼────────────────────────┤\n",
       "│ conv1d_2 (\u001b[38;5;33mConv1D\u001b[0m)         │ (\u001b[38;5;45mNone\u001b[0m, \u001b[38;5;34m512\u001b[0m, \u001b[38;5;34m162\u001b[0m)       │        \u001b[38;5;34m373,410\u001b[0m │ code_bert_layer[\u001b[38;5;34m0\u001b[0m][\u001b[38;5;34m0\u001b[0m]  │\n",
       "├───────────────────────────┼────────────────────────┼────────────────┼────────────────────────┤\n",
       "│ bidirectional_2           │ (\u001b[38;5;45mNone\u001b[0m, \u001b[38;5;34m512\u001b[0m, \u001b[38;5;34m500\u001b[0m)       │      \u001b[38;5;34m2,038,000\u001b[0m │ code_bert_layer[\u001b[38;5;34m0\u001b[0m][\u001b[38;5;34m0\u001b[0m]  │\n",
       "│ (\u001b[38;5;33mBidirectional\u001b[0m)           │                        │                │                        │\n",
       "├───────────────────────────┼────────────────────────┼────────────────┼────────────────────────┤\n",
       "│ max_pooling1d_2           │ (\u001b[38;5;45mNone\u001b[0m, \u001b[38;5;34m256\u001b[0m, \u001b[38;5;34m162\u001b[0m)       │              \u001b[38;5;34m0\u001b[0m │ conv1d_2[\u001b[38;5;34m0\u001b[0m][\u001b[38;5;34m0\u001b[0m]         │\n",
       "│ (\u001b[38;5;33mMaxPooling1D\u001b[0m)            │                        │                │                        │\n",
       "├───────────────────────────┼────────────────────────┼────────────────┼────────────────────────┤\n",
       "│ layer_normalization_3     │ (\u001b[38;5;45mNone\u001b[0m, \u001b[38;5;34m512\u001b[0m, \u001b[38;5;34m500\u001b[0m)       │          \u001b[38;5;34m1,000\u001b[0m │ bidirectional_2[\u001b[38;5;34m0\u001b[0m][\u001b[38;5;34m0\u001b[0m]  │\n",
       "│ (\u001b[38;5;33mLayerNormalization\u001b[0m)      │                        │                │                        │\n",
       "├───────────────────────────┼────────────────────────┼────────────────┼────────────────────────┤\n",
       "│ batch_normalization_2     │ (\u001b[38;5;45mNone\u001b[0m, \u001b[38;5;34m256\u001b[0m, \u001b[38;5;34m162\u001b[0m)       │            \u001b[38;5;34m648\u001b[0m │ max_pooling1d_2[\u001b[38;5;34m0\u001b[0m][\u001b[38;5;34m0\u001b[0m]  │\n",
       "│ (\u001b[38;5;33mBatchNormalization\u001b[0m)      │                        │                │                        │\n",
       "├───────────────────────────┼────────────────────────┼────────────────┼────────────────────────┤\n",
       "│ dropout_5 (\u001b[38;5;33mDropout\u001b[0m)       │ (\u001b[38;5;45mNone\u001b[0m, \u001b[38;5;34m512\u001b[0m, \u001b[38;5;34m500\u001b[0m)       │              \u001b[38;5;34m0\u001b[0m │ layer_normalization_3… │\n",
       "├───────────────────────────┼────────────────────────┼────────────────┼────────────────────────┤\n",
       "│ conv1d (\u001b[38;5;33mConv1D\u001b[0m)           │ (\u001b[38;5;45mNone\u001b[0m, \u001b[38;5;34m512\u001b[0m, \u001b[38;5;34m162\u001b[0m)       │        \u001b[38;5;34m373,410\u001b[0m │ code_bert_layer[\u001b[38;5;34m0\u001b[0m][\u001b[38;5;34m0\u001b[0m]  │\n",
       "├───────────────────────────┼────────────────────────┼────────────────┼────────────────────────┤\n",
       "│ bidirectional             │ (\u001b[38;5;45mNone\u001b[0m, \u001b[38;5;34m512\u001b[0m, \u001b[38;5;34m500\u001b[0m)       │      \u001b[38;5;34m2,038,000\u001b[0m │ code_bert_layer[\u001b[38;5;34m0\u001b[0m][\u001b[38;5;34m0\u001b[0m]  │\n",
       "│ (\u001b[38;5;33mBidirectional\u001b[0m)           │                        │                │                        │\n",
       "├───────────────────────────┼────────────────────────┼────────────────┼────────────────────────┤\n",
       "│ conv1d_3 (\u001b[38;5;33mConv1D\u001b[0m)         │ (\u001b[38;5;45mNone\u001b[0m, \u001b[38;5;34m256\u001b[0m, \u001b[38;5;34m162\u001b[0m)       │         \u001b[38;5;34m78,894\u001b[0m │ batch_normalization_2… │\n",
       "├───────────────────────────┼────────────────────────┼────────────────┼────────────────────────┤\n",
       "│ bidirectional_3           │ (\u001b[38;5;45mNone\u001b[0m, \u001b[38;5;34m512\u001b[0m, \u001b[38;5;34m500\u001b[0m)       │      \u001b[38;5;34m1,502,000\u001b[0m │ dropout_5[\u001b[38;5;34m0\u001b[0m][\u001b[38;5;34m0\u001b[0m]        │\n",
       "│ (\u001b[38;5;33mBidirectional\u001b[0m)           │                        │                │                        │\n",
       "├───────────────────────────┼────────────────────────┼────────────────┼────────────────────────┤\n",
       "│ max_pooling1d             │ (\u001b[38;5;45mNone\u001b[0m, \u001b[38;5;34m256\u001b[0m, \u001b[38;5;34m162\u001b[0m)       │              \u001b[38;5;34m0\u001b[0m │ conv1d[\u001b[38;5;34m0\u001b[0m][\u001b[38;5;34m0\u001b[0m]           │\n",
       "│ (\u001b[38;5;33mMaxPooling1D\u001b[0m)            │                        │                │                        │\n",
       "├───────────────────────────┼────────────────────────┼────────────────┼────────────────────────┤\n",
       "│ layer_normalization       │ (\u001b[38;5;45mNone\u001b[0m, \u001b[38;5;34m512\u001b[0m, \u001b[38;5;34m500\u001b[0m)       │          \u001b[38;5;34m1,000\u001b[0m │ bidirectional[\u001b[38;5;34m0\u001b[0m][\u001b[38;5;34m0\u001b[0m]    │\n",
       "│ (\u001b[38;5;33mLayerNormalization\u001b[0m)      │                        │                │                        │\n",
       "├───────────────────────────┼────────────────────────┼────────────────┼────────────────────────┤\n",
       "│ max_pooling1d_3           │ (\u001b[38;5;45mNone\u001b[0m, \u001b[38;5;34m128\u001b[0m, \u001b[38;5;34m162\u001b[0m)       │              \u001b[38;5;34m0\u001b[0m │ conv1d_3[\u001b[38;5;34m0\u001b[0m][\u001b[38;5;34m0\u001b[0m]         │\n",
       "│ (\u001b[38;5;33mMaxPooling1D\u001b[0m)            │                        │                │                        │\n",
       "├───────────────────────────┼────────────────────────┼────────────────┼────────────────────────┤\n",
       "│ layer_normalization_4     │ (\u001b[38;5;45mNone\u001b[0m, \u001b[38;5;34m512\u001b[0m, \u001b[38;5;34m500\u001b[0m)       │          \u001b[38;5;34m1,000\u001b[0m │ bidirectional_3[\u001b[38;5;34m0\u001b[0m][\u001b[38;5;34m0\u001b[0m]  │\n",
       "│ (\u001b[38;5;33mLayerNormalization\u001b[0m)      │                        │                │                        │\n",
       "├───────────────────────────┼────────────────────────┼────────────────┼────────────────────────┤\n",
       "│ batch_normalization       │ (\u001b[38;5;45mNone\u001b[0m, \u001b[38;5;34m256\u001b[0m, \u001b[38;5;34m162\u001b[0m)       │            \u001b[38;5;34m648\u001b[0m │ max_pooling1d[\u001b[38;5;34m0\u001b[0m][\u001b[38;5;34m0\u001b[0m]    │\n",
       "│ (\u001b[38;5;33mBatchNormalization\u001b[0m)      │                        │                │                        │\n",
       "├───────────────────────────┼────────────────────────┼────────────────┼────────────────────────┤\n",
       "│ dropout_1 (\u001b[38;5;33mDropout\u001b[0m)       │ (\u001b[38;5;45mNone\u001b[0m, \u001b[38;5;34m512\u001b[0m, \u001b[38;5;34m500\u001b[0m)       │              \u001b[38;5;34m0\u001b[0m │ layer_normalization[\u001b[38;5;34m0\u001b[0m… │\n",
       "├───────────────────────────┼────────────────────────┼────────────────┼────────────────────────┤\n",
       "│ batch_normalization_3     │ (\u001b[38;5;45mNone\u001b[0m, \u001b[38;5;34m128\u001b[0m, \u001b[38;5;34m162\u001b[0m)       │            \u001b[38;5;34m648\u001b[0m │ max_pooling1d_3[\u001b[38;5;34m0\u001b[0m][\u001b[38;5;34m0\u001b[0m]  │\n",
       "│ (\u001b[38;5;33mBatchNormalization\u001b[0m)      │                        │                │                        │\n",
       "├───────────────────────────┼────────────────────────┼────────────────┼────────────────────────┤\n",
       "│ dropout_6 (\u001b[38;5;33mDropout\u001b[0m)       │ (\u001b[38;5;45mNone\u001b[0m, \u001b[38;5;34m512\u001b[0m, \u001b[38;5;34m500\u001b[0m)       │              \u001b[38;5;34m0\u001b[0m │ layer_normalization_4… │\n",
       "├───────────────────────────┼────────────────────────┼────────────────┼────────────────────────┤\n",
       "│ conv1d_1 (\u001b[38;5;33mConv1D\u001b[0m)         │ (\u001b[38;5;45mNone\u001b[0m, \u001b[38;5;34m256\u001b[0m, \u001b[38;5;34m162\u001b[0m)       │         \u001b[38;5;34m78,894\u001b[0m │ batch_normalization[\u001b[38;5;34m0\u001b[0m… │\n",
       "├───────────────────────────┼────────────────────────┼────────────────┼────────────────────────┤\n",
       "│ bidirectional_1           │ (\u001b[38;5;45mNone\u001b[0m, \u001b[38;5;34m512\u001b[0m, \u001b[38;5;34m500\u001b[0m)       │      \u001b[38;5;34m1,502,000\u001b[0m │ dropout_1[\u001b[38;5;34m0\u001b[0m][\u001b[38;5;34m0\u001b[0m]        │\n",
       "│ (\u001b[38;5;33mBidirectional\u001b[0m)           │                        │                │                        │\n",
       "├───────────────────────────┼────────────────────────┼────────────────┼────────────────────────┤\n",
       "│ dropout_4 (\u001b[38;5;33mDropout\u001b[0m)       │ (\u001b[38;5;45mNone\u001b[0m, \u001b[38;5;34m128\u001b[0m, \u001b[38;5;34m162\u001b[0m)       │              \u001b[38;5;34m0\u001b[0m │ batch_normalization_3… │\n",
       "├───────────────────────────┼────────────────────────┼────────────────┼────────────────────────┤\n",
       "│ attention_1 (\u001b[38;5;33mAttention\u001b[0m)   │ (\u001b[38;5;45mNone\u001b[0m, \u001b[38;5;34m512\u001b[0m, \u001b[38;5;34m500\u001b[0m)       │              \u001b[38;5;34m0\u001b[0m │ dropout_6[\u001b[38;5;34m0\u001b[0m][\u001b[38;5;34m0\u001b[0m],       │\n",
       "│                           │                        │                │ dropout_6[\u001b[38;5;34m0\u001b[0m][\u001b[38;5;34m0\u001b[0m]        │\n",
       "├───────────────────────────┼────────────────────────┼────────────────┼────────────────────────┤\n",
       "│ max_pooling1d_1           │ (\u001b[38;5;45mNone\u001b[0m, \u001b[38;5;34m128\u001b[0m, \u001b[38;5;34m162\u001b[0m)       │              \u001b[38;5;34m0\u001b[0m │ conv1d_1[\u001b[38;5;34m0\u001b[0m][\u001b[38;5;34m0\u001b[0m]         │\n",
       "│ (\u001b[38;5;33mMaxPooling1D\u001b[0m)            │                        │                │                        │\n",
       "├───────────────────────────┼────────────────────────┼────────────────┼────────────────────────┤\n",
       "│ layer_normalization_1     │ (\u001b[38;5;45mNone\u001b[0m, \u001b[38;5;34m512\u001b[0m, \u001b[38;5;34m500\u001b[0m)       │          \u001b[38;5;34m1,000\u001b[0m │ bidirectional_1[\u001b[38;5;34m0\u001b[0m][\u001b[38;5;34m0\u001b[0m]  │\n",
       "│ (\u001b[38;5;33mLayerNormalization\u001b[0m)      │                        │                │                        │\n",
       "├───────────────────────────┼────────────────────────┼────────────────┼────────────────────────┤\n",
       "│ global_average_pooling1d… │ (\u001b[38;5;45mNone\u001b[0m, \u001b[38;5;34m162\u001b[0m)            │              \u001b[38;5;34m0\u001b[0m │ dropout_4[\u001b[38;5;34m0\u001b[0m][\u001b[38;5;34m0\u001b[0m]        │\n",
       "│ (\u001b[38;5;33mGlobalAveragePooling1D\u001b[0m)  │                        │                │                        │\n",
       "├───────────────────────────┼────────────────────────┼────────────────┼────────────────────────┤\n",
       "│ global_max_pooling1d_1    │ (\u001b[38;5;45mNone\u001b[0m, \u001b[38;5;34m500\u001b[0m)            │              \u001b[38;5;34m0\u001b[0m │ attention_1[\u001b[38;5;34m0\u001b[0m][\u001b[38;5;34m0\u001b[0m]      │\n",
       "│ (\u001b[38;5;33mGlobalMaxPooling1D\u001b[0m)      │                        │                │                        │\n",
       "├───────────────────────────┼────────────────────────┼────────────────┼────────────────────────┤\n",
       "│ batch_normalization_1     │ (\u001b[38;5;45mNone\u001b[0m, \u001b[38;5;34m128\u001b[0m, \u001b[38;5;34m162\u001b[0m)       │            \u001b[38;5;34m648\u001b[0m │ max_pooling1d_1[\u001b[38;5;34m0\u001b[0m][\u001b[38;5;34m0\u001b[0m]  │\n",
       "│ (\u001b[38;5;33mBatchNormalization\u001b[0m)      │                        │                │                        │\n",
       "├───────────────────────────┼────────────────────────┼────────────────┼────────────────────────┤\n",
       "│ dropout_2 (\u001b[38;5;33mDropout\u001b[0m)       │ (\u001b[38;5;45mNone\u001b[0m, \u001b[38;5;34m512\u001b[0m, \u001b[38;5;34m500\u001b[0m)       │              \u001b[38;5;34m0\u001b[0m │ layer_normalization_1… │\n",
       "├───────────────────────────┼────────────────────────┼────────────────┼────────────────────────┤\n",
       "│ concatenate_1             │ (\u001b[38;5;45mNone\u001b[0m, \u001b[38;5;34m662\u001b[0m)            │              \u001b[38;5;34m0\u001b[0m │ global_average_poolin… │\n",
       "│ (\u001b[38;5;33mConcatenate\u001b[0m)             │                        │                │ global_max_pooling1d_… │\n",
       "├───────────────────────────┼────────────────────────┼────────────────┼────────────────────────┤\n",
       "│ dropout (\u001b[38;5;33mDropout\u001b[0m)         │ (\u001b[38;5;45mNone\u001b[0m, \u001b[38;5;34m128\u001b[0m, \u001b[38;5;34m162\u001b[0m)       │              \u001b[38;5;34m0\u001b[0m │ batch_normalization_1… │\n",
       "├───────────────────────────┼────────────────────────┼────────────────┼────────────────────────┤\n",
       "│ attention (\u001b[38;5;33mAttention\u001b[0m)     │ (\u001b[38;5;45mNone\u001b[0m, \u001b[38;5;34m512\u001b[0m, \u001b[38;5;34m500\u001b[0m)       │              \u001b[38;5;34m0\u001b[0m │ dropout_2[\u001b[38;5;34m0\u001b[0m][\u001b[38;5;34m0\u001b[0m],       │\n",
       "│                           │                        │                │ dropout_2[\u001b[38;5;34m0\u001b[0m][\u001b[38;5;34m0\u001b[0m]        │\n",
       "├───────────────────────────┼────────────────────────┼────────────────┼────────────────────────┤\n",
       "│ dense_1 (\u001b[38;5;33mDense\u001b[0m)           │ (\u001b[38;5;45mNone\u001b[0m, \u001b[38;5;34m128\u001b[0m)            │         \u001b[38;5;34m84,864\u001b[0m │ concatenate_1[\u001b[38;5;34m0\u001b[0m][\u001b[38;5;34m0\u001b[0m]    │\n",
       "├───────────────────────────┼────────────────────────┼────────────────┼────────────────────────┤\n",
       "│ global_average_pooling1d  │ (\u001b[38;5;45mNone\u001b[0m, \u001b[38;5;34m162\u001b[0m)            │              \u001b[38;5;34m0\u001b[0m │ dropout[\u001b[38;5;34m0\u001b[0m][\u001b[38;5;34m0\u001b[0m]          │\n",
       "│ (\u001b[38;5;33mGlobalAveragePooling1D\u001b[0m)  │                        │                │                        │\n",
       "├───────────────────────────┼────────────────────────┼────────────────┼────────────────────────┤\n",
       "│ global_max_pooling1d      │ (\u001b[38;5;45mNone\u001b[0m, \u001b[38;5;34m500\u001b[0m)            │              \u001b[38;5;34m0\u001b[0m │ attention[\u001b[38;5;34m0\u001b[0m][\u001b[38;5;34m0\u001b[0m]        │\n",
       "│ (\u001b[38;5;33mGlobalMaxPooling1D\u001b[0m)      │                        │                │                        │\n",
       "├───────────────────────────┼────────────────────────┼────────────────┼────────────────────────┤\n",
       "│ layer_normalization_5     │ (\u001b[38;5;45mNone\u001b[0m, \u001b[38;5;34m128\u001b[0m)            │            \u001b[38;5;34m256\u001b[0m │ dense_1[\u001b[38;5;34m0\u001b[0m][\u001b[38;5;34m0\u001b[0m]          │\n",
       "│ (\u001b[38;5;33mLayerNormalization\u001b[0m)      │                        │                │                        │\n",
       "├───────────────────────────┼────────────────────────┼────────────────┼────────────────────────┤\n",
       "│ concatenate (\u001b[38;5;33mConcatenate\u001b[0m) │ (\u001b[38;5;45mNone\u001b[0m, \u001b[38;5;34m662\u001b[0m)            │              \u001b[38;5;34m0\u001b[0m │ global_average_poolin… │\n",
       "│                           │                        │                │ global_max_pooling1d[\u001b[38;5;34m…\u001b[0m │\n",
       "├───────────────────────────┼────────────────────────┼────────────────┼────────────────────────┤\n",
       "│ dropout_7 (\u001b[38;5;33mDropout\u001b[0m)       │ (\u001b[38;5;45mNone\u001b[0m, \u001b[38;5;34m128\u001b[0m)            │              \u001b[38;5;34m0\u001b[0m │ layer_normalization_5… │\n",
       "├───────────────────────────┼────────────────────────┼────────────────┼────────────────────────┤\n",
       "│ dense (\u001b[38;5;33mDense\u001b[0m)             │ (\u001b[38;5;45mNone\u001b[0m, \u001b[38;5;34m128\u001b[0m)            │         \u001b[38;5;34m84,864\u001b[0m │ concatenate[\u001b[38;5;34m0\u001b[0m][\u001b[38;5;34m0\u001b[0m]      │\n",
       "├───────────────────────────┼────────────────────────┼────────────────┼────────────────────────┤\n",
       "│ dense_2 (\u001b[38;5;33mDense\u001b[0m)           │ (\u001b[38;5;45mNone\u001b[0m, \u001b[38;5;34m128\u001b[0m)            │         \u001b[38;5;34m16,512\u001b[0m │ dropout_7[\u001b[38;5;34m0\u001b[0m][\u001b[38;5;34m0\u001b[0m]        │\n",
       "├───────────────────────────┼────────────────────────┼────────────────┼────────────────────────┤\n",
       "│ layer_normalization_2     │ (\u001b[38;5;45mNone\u001b[0m, \u001b[38;5;34m128\u001b[0m)            │            \u001b[38;5;34m256\u001b[0m │ dense[\u001b[38;5;34m0\u001b[0m][\u001b[38;5;34m0\u001b[0m]            │\n",
       "│ (\u001b[38;5;33mLayerNormalization\u001b[0m)      │                        │                │                        │\n",
       "├───────────────────────────┼────────────────────────┼────────────────┼────────────────────────┤\n",
       "│ layer_normalization_6     │ (\u001b[38;5;45mNone\u001b[0m, \u001b[38;5;34m128\u001b[0m)            │            \u001b[38;5;34m256\u001b[0m │ dense_2[\u001b[38;5;34m0\u001b[0m][\u001b[38;5;34m0\u001b[0m]          │\n",
       "│ (\u001b[38;5;33mLayerNormalization\u001b[0m)      │                        │                │                        │\n",
       "├───────────────────────────┼────────────────────────┼────────────────┼────────────────────────┤\n",
       "│ dropout_3 (\u001b[38;5;33mDropout\u001b[0m)       │ (\u001b[38;5;45mNone\u001b[0m, \u001b[38;5;34m128\u001b[0m)            │              \u001b[38;5;34m0\u001b[0m │ layer_normalization_2… │\n",
       "├───────────────────────────┼────────────────────────┼────────────────┼────────────────────────┤\n",
       "│ dropout_8 (\u001b[38;5;33mDropout\u001b[0m)       │ (\u001b[38;5;45mNone\u001b[0m, \u001b[38;5;34m128\u001b[0m)            │              \u001b[38;5;34m0\u001b[0m │ layer_normalization_6… │\n",
       "├───────────────────────────┼────────────────────────┼────────────────┼────────────────────────┤\n",
       "│ language_output (\u001b[38;5;33mDense\u001b[0m)   │ (\u001b[38;5;45mNone\u001b[0m, \u001b[38;5;34m5\u001b[0m)              │            \u001b[38;5;34m645\u001b[0m │ dropout_3[\u001b[38;5;34m0\u001b[0m][\u001b[38;5;34m0\u001b[0m]        │\n",
       "├───────────────────────────┼────────────────────────┼────────────────┼────────────────────────┤\n",
       "│ safety_output (\u001b[38;5;33mDense\u001b[0m)     │ (\u001b[38;5;45mNone\u001b[0m, \u001b[38;5;34m1\u001b[0m)              │            \u001b[38;5;34m129\u001b[0m │ dropout_8[\u001b[38;5;34m0\u001b[0m][\u001b[38;5;34m0\u001b[0m]        │\n",
       "└───────────────────────────┴────────────────────────┴────────────────┴────────────────────────┘\n"
      ]
     },
     "metadata": {},
     "output_type": "display_data"
    },
    {
     "data": {
      "text/html": [
       "<pre style=\"white-space:pre;overflow-x:auto;line-height:normal;font-family:Menlo,'DejaVu Sans Mono',consolas,'Courier New',monospace\"><span style=\"font-weight: bold\"> Total params: </span><span style=\"color: #00af00; text-decoration-color: #00af00\">8,178,982</span> (31.20 MB)\n",
       "</pre>\n"
      ],
      "text/plain": [
       "\u001b[1m Total params: \u001b[0m\u001b[38;5;34m8,178,982\u001b[0m (31.20 MB)\n"
      ]
     },
     "metadata": {},
     "output_type": "display_data"
    },
    {
     "data": {
      "text/html": [
       "<pre style=\"white-space:pre;overflow-x:auto;line-height:normal;font-family:Menlo,'DejaVu Sans Mono',consolas,'Courier New',monospace\"><span style=\"font-weight: bold\"> Trainable params: </span><span style=\"color: #00af00; text-decoration-color: #00af00\">8,177,686</span> (31.20 MB)\n",
       "</pre>\n"
      ],
      "text/plain": [
       "\u001b[1m Trainable params: \u001b[0m\u001b[38;5;34m8,177,686\u001b[0m (31.20 MB)\n"
      ]
     },
     "metadata": {},
     "output_type": "display_data"
    },
    {
     "data": {
      "text/html": [
       "<pre style=\"white-space:pre;overflow-x:auto;line-height:normal;font-family:Menlo,'DejaVu Sans Mono',consolas,'Courier New',monospace\"><span style=\"font-weight: bold\"> Non-trainable params: </span><span style=\"color: #00af00; text-decoration-color: #00af00\">1,296</span> (5.06 KB)\n",
       "</pre>\n"
      ],
      "text/plain": [
       "\u001b[1m Non-trainable params: \u001b[0m\u001b[38;5;34m1,296\u001b[0m (5.06 KB)\n"
      ]
     },
     "metadata": {},
     "output_type": "display_data"
    }
   ],
   "source": [
    "with strategy.scope():\n",
    "    model = model_architecture(max_length=512)\n",
    "    model.summary()\n",
    "    "
   ]
  },
  {
   "cell_type": "code",
   "execution_count": 55,
   "metadata": {
    "execution": {
     "iopub.execute_input": "2025-04-16T19:41:34.223654Z",
     "iopub.status.busy": "2025-04-16T19:41:34.223306Z",
     "iopub.status.idle": "2025-04-16T19:41:34.227301Z",
     "shell.execute_reply": "2025-04-16T19:41:34.226284Z",
     "shell.execute_reply.started": "2025-04-16T19:41:34.223591Z"
    },
    "trusted": true
   },
   "outputs": [],
   "source": [
    "# print(distilbert.summary())\n"
   ]
  },
  {
   "cell_type": "markdown",
   "metadata": {},
   "source": [
    "**Sparrow Search Algorithm**"
   ]
  },
  {
   "cell_type": "code",
   "execution_count": 56,
   "metadata": {
    "execution": {
     "iopub.execute_input": "2025-04-16T19:41:34.228523Z",
     "iopub.status.busy": "2025-04-16T19:41:34.228230Z",
     "iopub.status.idle": "2025-04-16T19:41:34.243387Z",
     "shell.execute_reply": "2025-04-16T19:41:34.242676Z",
     "shell.execute_reply.started": "2025-04-16T19:41:34.228494Z"
    },
    "trusted": true
   },
   "outputs": [],
   "source": [
    "\n",
    "# #Initialize range of hyperparameters\n",
    "# bounds = {\n",
    "#     'dropout_rate': (0.2, 0.6),\n",
    "#     'cnn_filters': (100, 250),\n",
    "#     'initial_learning_rate': (1e-4, 5e-4),\n",
    "#     'num_neurons': (64, 150),\n",
    "#     'l2_reg': (0.001, 0.005)\n",
    "# }\n",
    "\n",
    "\n",
    "# #Initialize sparrow population\n",
    "# def initialize_population(pop_size):\n",
    "#     population = []\n",
    "#     for _ in range(pop_size):\n",
    "#         candidate = {key: np.random.uniform(low, high) for key, (low, high) in bounds.items()}\n",
    "#         # Convert discrete hyperparameters to integers\n",
    "#         candidate['cnn_filters'] = int(candidate['cnn_filters'])\n",
    "#         candidate['num_neurons'] = int(candidate['num_neurons'])\n",
    "#         population.append(candidate)\n",
    "#     return population\n",
    "\n",
    "# #Update Position\n",
    "# def update_position(candidate, best_candidate, global_iter, max_iter):\n",
    "#     new_candidate = candidate.copy()\n",
    "#     for key in candidate.keys():\n",
    "#         r = np.random.rand()  # Generate a random number for the update step\n",
    "#         # Update rule: move toward the best candidate by a random fraction of the difference\n",
    "#         new_candidate[key] = candidate[key] + r * (best_candidate[key] - candidate[key])\n",
    "#         # Enforce boundaries using np.clip\n",
    "#         low, high = bounds[key]\n",
    "#         new_candidate[key] = np.clip(new_candidate[key], low, high)\n",
    "#     # Ensure discrete hyperparameters remain integers\n",
    "#     new_candidate['cnn_filters'] = int(new_candidate['cnn_filters'])\n",
    "#     new_candidate['num_neurons'] = int(new_candidate['num_neurons'])\n",
    "#     return new_candidate\n",
    "\n",
    "# #Fitness Function\n",
    "# def objective_function(hyperparams, train_data, val_data):\n",
    "    \n",
    "#     # Unpack the hyperparameters from the dictionary\n",
    "#     dropout_rate = hyperparams['dropout_rate']\n",
    "#     cnn_filters = int(hyperparams['cnn_filters'])\n",
    "#     initial_learning_rate = hyperparams['initial_learning_rate']\n",
    "#     num_neurons = int(hyperparams['num_neurons'])\n",
    "#     l2_reg = hyperparams['l2_reg']\n",
    "    \n",
    "#     # Build the model using these hyperparameters.\n",
    "#     model = model_architecture(\n",
    "#         max_length=512,\n",
    "#         num_neurons=num_neurons,\n",
    "#         device='cuda',\n",
    "#         dropout_rate=dropout_rate,           # You must modify the model to accept these parameters\n",
    "#         cnn_filters=cnn_filters,\n",
    "#         initial_learning_rate=initial_learning_rate,\n",
    "#         l2_reg=l2_reg\n",
    "#     )\n",
    "    \n",
    "#     # Train the model briefly to evaluate performance (for example, 5 epochs)\n",
    "#     history = model.fit(x=X_train_input_ids,\n",
    "#                         y=y_train,\n",
    "#                         validation_data=(X_val_input_ids,y_val),\n",
    "#                         epochs=10,\n",
    "#                         batch_size=32,\n",
    "#                         verbose=0)\n",
    "    \n",
    "#     # Return the validation accuracy from the last epoch as the fitness\n",
    "#     return history.history['val_accuracy'][-1]\n",
    "\n",
    "\n"
   ]
  },
  {
   "cell_type": "code",
   "execution_count": 57,
   "metadata": {
    "execution": {
     "iopub.execute_input": "2025-04-16T19:41:34.244482Z",
     "iopub.status.busy": "2025-04-16T19:41:34.244208Z",
     "iopub.status.idle": "2025-04-16T19:41:34.258418Z",
     "shell.execute_reply": "2025-04-16T19:41:34.257746Z",
     "shell.execute_reply.started": "2025-04-16T19:41:34.244453Z"
    },
    "trusted": true
   },
   "outputs": [],
   "source": [
    "# population_size =10\n",
    "# max_iterations = 6\n",
    "# train_data = (X_train_input_ids, y_train)\n",
    "# val_data = (X_val_input_ids, y_val)\n",
    "\n",
    "# # Initialize population and evaluate fitness\n",
    "# population = initialize_population(population_size)\n",
    "# fitness = [objective_function(candidate, train_data, val_data) for candidate in population]\n",
    "\n",
    "# best_global_fitness = max(fitness)\n",
    "# best_global_candidate = population[np.argmax(fitness)]\n",
    "\n",
    "# for iter in range(max_iterations):\n",
    "#     # Track improvements\n",
    "#     improved = False\n",
    "    \n",
    "#     new_population = []\n",
    "#     new_fitness = []\n",
    "    \n",
    "#     for idx, candidate in enumerate(population):\n",
    "#         # Update position toward best candidate\n",
    "#         new_candidate = update_position(candidate, best_global_candidate, iter, max_iterations)\n",
    "        \n",
    "#         # Add random mutation (10% chance to perturb a parameter)\n",
    "#         if np.random.rand() < 0.1:\n",
    "#             mut_key = np.random.choice(list(bounds.keys()))\n",
    "#             mutation = np.random.uniform(-0.1, 0.1) * (bounds[mut_key][1] - bounds[mut_key][0])\n",
    "#             new_candidate[mut_key] = np.clip(new_candidate[mut_key] + mutation, bounds[mut_key][0], bounds[mut_key][1])\n",
    "#             # Ensure integers for discrete params\n",
    "#             if mut_key in ['cnn_filters', 'num_neurons']:\n",
    "#                 new_candidate[mut_key] = int(new_candidate[mut_key])\n",
    "        \n",
    "#         # Evaluate new candidate (only if not already evaluated)\n",
    "#         new_candidate_fitness = objective_function(new_candidate, train_data, val_data)\n",
    "        \n",
    "#         # Acceptance: Greedy selection (keep if better)\n",
    "#         if new_candidate_fitness > fitness[idx]:\n",
    "#             new_population.append(new_candidate)\n",
    "#             new_fitness.append(new_candidate_fitness)\n",
    "#             improved = True\n",
    "#         else:\n",
    "#             new_population.append(candidate)\n",
    "#             new_fitness.append(fitness[idx])\n",
    "    \n",
    "#     # Elitism: Ensure best candidate is preserved\n",
    "#     worst_idx = np.argmin(new_fitness)\n",
    "#     new_population[worst_idx] = best_global_candidate\n",
    "#     new_fitness[worst_idx] = best_global_fitness\n",
    "    \n",
    "#     # Update global best\n",
    "#     current_best_fitness = max(new_fitness)\n",
    "#     if current_best_fitness > best_global_fitness:\n",
    "#         best_global_fitness = current_best_fitness\n",
    "#         best_global_candidate = new_population[np.argmax(new_fitness)]\n",
    "#         improved = True\n",
    "    \n",
    "#     # Update population and fitness\n",
    "#     population = new_population\n",
    "#     fitness = new_fitness\n",
    "    \n",
    "#     print(f\"Iteration {iter+1}/{max_iterations}, Best Val Accuracy: {best_global_fitness:.4f}\")\n",
    "    \n",
    "#     # Early stopping if no improvement for 5 iterations\n",
    "#     if not improved and iter > 5:\n",
    "#         print(\"No improvement for 5 iterations. Stopping early.\")\n",
    "#         break\n",
    "\n",
    "# # Final best candidate\n",
    "# optimal_hyperparams = best_global_candidate\n",
    "# print(\"Optimal Hyperparameters:\", optimal_hyperparams)"
   ]
  },
  {
   "cell_type": "code",
   "execution_count": 90,
   "metadata": {
    "execution": {
     "iopub.execute_input": "2025-04-16T21:41:12.770945Z",
     "iopub.status.busy": "2025-04-16T21:41:12.770552Z",
     "iopub.status.idle": "2025-04-16T21:41:12.774818Z",
     "shell.execute_reply": "2025-04-16T21:41:12.773829Z",
     "shell.execute_reply.started": "2025-04-16T21:41:12.770916Z"
    },
    "id": "yt2_idFgu0aU",
    "trusted": true
   },
   "outputs": [],
   "source": [
    "mkdir = 'logs'"
   ]
  },
  {
   "cell_type": "code",
   "execution_count": 91,
   "metadata": {
    "execution": {
     "iopub.execute_input": "2025-04-16T21:41:12.970310Z",
     "iopub.status.busy": "2025-04-16T21:41:12.970019Z",
     "iopub.status.idle": "2025-04-16T21:41:12.974258Z",
     "shell.execute_reply": "2025-04-16T21:41:12.973144Z",
     "shell.execute_reply.started": "2025-04-16T21:41:12.970287Z"
    },
    "id": "rLlEpZQb_mUE",
    "trusted": true
   },
   "outputs": [],
   "source": [
    "logdir = 'logs'"
   ]
  },
  {
   "cell_type": "code",
   "execution_count": 92,
   "metadata": {
    "execution": {
     "iopub.execute_input": "2025-04-16T21:41:13.236319Z",
     "iopub.status.busy": "2025-04-16T21:41:13.236070Z",
     "iopub.status.idle": "2025-04-16T21:41:13.241197Z",
     "shell.execute_reply": "2025-04-16T21:41:13.240214Z",
     "shell.execute_reply.started": "2025-04-16T21:41:13.236299Z"
    },
    "id": "ctKmmqpcCM_9",
    "trusted": true
   },
   "outputs": [],
   "source": [
    "#Early Stopping to avoid overfitting\n",
    "early_stopping = EarlyStopping(\n",
    "    monitor='val_loss',\n",
    "    patience=10,\n",
    "    restore_best_weights=True\n",
    ")\n",
    "\n",
    "tensorboard_callback = tf.keras.callbacks.TensorBoard(log_dir=logdir)\n",
    "\n",
    "\n",
    "model_checkpoint = tf.keras.callbacks.ModelCheckpoint(\n",
    "        'best_vulnerability_model.keras',\n",
    "        monitor='val_loss',\n",
    "        save_best_only=True,\n",
    "        mode='max',\n",
    "        save_weights_only=False,\n",
    "        verbose=1\n",
    "    )\n",
    "\n",
    "reduce_lr = tf.keras.callbacks.ReduceLROnPlateau(\n",
    "        monitor='val_loss',\n",
    "        factor=0.5,\n",
    "        patience=3,\n",
    "        min_lr=0.00001,\n",
    "        verbose=1\n",
    "    )\n",
    "\n"
   ]
  },
  {
   "cell_type": "code",
   "execution_count": 93,
   "metadata": {
    "execution": {
     "iopub.execute_input": "2025-04-16T21:41:15.486490Z",
     "iopub.status.busy": "2025-04-16T21:41:15.486133Z",
     "iopub.status.idle": "2025-04-16T23:20:35.168324Z",
     "shell.execute_reply": "2025-04-16T23:20:35.167448Z",
     "shell.execute_reply.started": "2025-04-16T21:41:15.486459Z"
    },
    "trusted": true
   },
   "outputs": [
    {
     "name": "stdout",
     "output_type": "stream",
     "text": [
      "Epoch 1/10\n",
      "\u001b[1m250/250\u001b[0m \u001b[32m━━━━━━━━━━━━━━━━━━━━\u001b[0m\u001b[37m\u001b[0m \u001b[1m0s\u001b[0m 2s/step - language_output_accuracy: 0.8337 - language_output_loss: 0.2521 - loss: 2.3256 - safety_output_accuracy: 0.6581 - safety_output_auc: 0.6433 - safety_output_loss: 1.0179 - safety_output_precision: 0.7115 - safety_output_recall: 0.7976\n",
      "Epoch 1: val_loss improved from -inf to 1.55999, saving model to best_vulnerability_model.keras\n",
      "\u001b[1m250/250\u001b[0m \u001b[32m━━━━━━━━━━━━━━━━━━━━\u001b[0m\u001b[37m\u001b[0m \u001b[1m640s\u001b[0m 2s/step - language_output_accuracy: 0.8340 - language_output_loss: 0.2516 - loss: 2.3244 - safety_output_accuracy: 0.6583 - safety_output_auc: 0.6436 - safety_output_loss: 1.0174 - safety_output_precision: 0.7116 - safety_output_recall: 0.7978 - val_language_output_accuracy: 0.9665 - val_language_output_loss: 0.0526 - val_loss: 1.5600 - val_safety_output_accuracy: 0.8280 - val_safety_output_auc: 0.9034 - val_safety_output_loss: 0.5896 - val_safety_output_precision: 0.8100 - val_safety_output_recall: 0.9472 - learning_rate: 1.0000e-04\n",
      "Epoch 2/10\n",
      "\u001b[1m250/250\u001b[0m \u001b[32m━━━━━━━━━━━━━━━━━━━━\u001b[0m\u001b[37m\u001b[0m \u001b[1m0s\u001b[0m 2s/step - language_output_accuracy: 0.9763 - language_output_loss: 0.0372 - loss: 1.5337 - safety_output_accuracy: 0.8221 - safety_output_auc: 0.8782 - safety_output_loss: 0.6128 - safety_output_precision: 0.8408 - safety_output_recall: 0.8954\n",
      "Epoch 2: val_loss did not improve from 1.55999\n",
      "\u001b[1m250/250\u001b[0m \u001b[32m━━━━━━━━━━━━━━━━━━━━\u001b[0m\u001b[37m\u001b[0m \u001b[1m595s\u001b[0m 2s/step - language_output_accuracy: 0.9763 - language_output_loss: 0.0372 - loss: 1.5334 - safety_output_accuracy: 0.8222 - safety_output_auc: 0.8783 - safety_output_loss: 0.6126 - safety_output_precision: 0.8409 - safety_output_recall: 0.8955 - val_language_output_accuracy: 0.9790 - val_language_output_loss: 0.0354 - val_loss: 1.2771 - val_safety_output_accuracy: 0.8755 - val_safety_output_auc: 0.9429 - val_safety_output_loss: 0.4436 - val_safety_output_precision: 0.8983 - val_safety_output_recall: 0.9033 - learning_rate: 1.0000e-04\n",
      "Epoch 3/10\n",
      "\u001b[1m250/250\u001b[0m \u001b[32m━━━━━━━━━━━━━━━━━━━━\u001b[0m\u001b[37m\u001b[0m \u001b[1m0s\u001b[0m 2s/step - language_output_accuracy: 0.9883 - language_output_loss: 0.0208 - loss: 1.2240 - safety_output_accuracy: 0.8842 - safety_output_auc: 0.9425 - safety_output_loss: 0.4271 - safety_output_precision: 0.8991 - safety_output_recall: 0.9255\n",
      "Epoch 3: val_loss did not improve from 1.55999\n",
      "\u001b[1m250/250\u001b[0m \u001b[32m━━━━━━━━━━━━━━━━━━━━\u001b[0m\u001b[37m\u001b[0m \u001b[1m592s\u001b[0m 2s/step - language_output_accuracy: 0.9883 - language_output_loss: 0.0208 - loss: 1.2238 - safety_output_accuracy: 0.8842 - safety_output_auc: 0.9425 - safety_output_loss: 0.4270 - safety_output_precision: 0.8991 - safety_output_recall: 0.9255 - val_language_output_accuracy: 0.9865 - val_language_output_loss: 0.0221 - val_loss: 1.2122 - val_safety_output_accuracy: 0.8725 - val_safety_output_auc: 0.9721 - val_safety_output_loss: 0.4734 - val_safety_output_precision: 0.8360 - val_safety_output_recall: 0.9904 - learning_rate: 1.0000e-04\n",
      "Epoch 4/10\n",
      "\u001b[1m250/250\u001b[0m \u001b[32m━━━━━━━━━━━━━━━━━━━━\u001b[0m\u001b[37m\u001b[0m \u001b[1m0s\u001b[0m 2s/step - language_output_accuracy: 0.9894 - language_output_loss: 0.0170 - loss: 1.0287 - safety_output_accuracy: 0.9209 - safety_output_auc: 0.9691 - safety_output_loss: 0.3109 - safety_output_precision: 0.9277 - safety_output_recall: 0.9523\n",
      "Epoch 4: val_loss did not improve from 1.55999\n",
      "\u001b[1m250/250\u001b[0m \u001b[32m━━━━━━━━━━━━━━━━━━━━\u001b[0m\u001b[37m\u001b[0m \u001b[1m590s\u001b[0m 2s/step - language_output_accuracy: 0.9894 - language_output_loss: 0.0171 - loss: 1.0286 - safety_output_accuracy: 0.9209 - safety_output_auc: 0.9691 - safety_output_loss: 0.3109 - safety_output_precision: 0.9277 - safety_output_recall: 0.9523 - val_language_output_accuracy: 0.9920 - val_language_output_loss: 0.0150 - val_loss: 0.8968 - val_safety_output_accuracy: 0.9420 - val_safety_output_auc: 0.9858 - val_safety_output_loss: 0.2256 - val_safety_output_precision: 0.9529 - val_safety_output_recall: 0.9544 - learning_rate: 1.0000e-04\n",
      "Epoch 5/10\n",
      "\u001b[1m250/250\u001b[0m \u001b[32m━━━━━━━━━━━━━━━━━━━━\u001b[0m\u001b[37m\u001b[0m \u001b[1m0s\u001b[0m 2s/step - language_output_accuracy: 0.9937 - language_output_loss: 0.0106 - loss: 0.8945 - safety_output_accuracy: 0.9374 - safety_output_auc: 0.9813 - safety_output_loss: 0.2413 - safety_output_precision: 0.9466 - safety_output_recall: 0.9574\n",
      "Epoch 5: val_loss did not improve from 1.55999\n",
      "\u001b[1m250/250\u001b[0m \u001b[32m━━━━━━━━━━━━━━━━━━━━\u001b[0m\u001b[37m\u001b[0m \u001b[1m589s\u001b[0m 2s/step - language_output_accuracy: 0.9937 - language_output_loss: 0.0106 - loss: 0.8943 - safety_output_accuracy: 0.9374 - safety_output_auc: 0.9813 - safety_output_loss: 0.2412 - safety_output_precision: 0.9466 - safety_output_recall: 0.9574 - val_language_output_accuracy: 0.9765 - val_language_output_loss: 0.0312 - val_loss: 0.9138 - val_safety_output_accuracy: 0.9320 - val_safety_output_auc: 0.9866 - val_safety_output_loss: 0.2771 - val_safety_output_precision: 0.9120 - val_safety_output_recall: 0.9864 - learning_rate: 1.0000e-04\n",
      "Epoch 6/10\n",
      "\u001b[1m250/250\u001b[0m \u001b[32m━━━━━━━━━━━━━━━━━━━━\u001b[0m\u001b[37m\u001b[0m \u001b[1m0s\u001b[0m 2s/step - language_output_accuracy: 0.9950 - language_output_loss: 0.0082 - loss: 0.7995 - safety_output_accuracy: 0.9494 - safety_output_auc: 0.9875 - safety_output_loss: 0.1969 - safety_output_precision: 0.9573 - safety_output_recall: 0.9653\n",
      "Epoch 6: val_loss did not improve from 1.55999\n",
      "\u001b[1m250/250\u001b[0m \u001b[32m━━━━━━━━━━━━━━━━━━━━\u001b[0m\u001b[37m\u001b[0m \u001b[1m590s\u001b[0m 2s/step - language_output_accuracy: 0.9950 - language_output_loss: 0.0082 - loss: 0.7994 - safety_output_accuracy: 0.9494 - safety_output_auc: 0.9875 - safety_output_loss: 0.1968 - safety_output_precision: 0.9573 - safety_output_recall: 0.9653 - val_language_output_accuracy: 0.9900 - val_language_output_loss: 0.0148 - val_loss: 0.7539 - val_safety_output_accuracy: 0.9605 - val_safety_output_auc: 0.9915 - val_safety_output_loss: 0.1756 - val_safety_output_precision: 0.9607 - val_safety_output_recall: 0.9768 - learning_rate: 1.0000e-04\n",
      "Epoch 7/10\n",
      "\u001b[1m250/250\u001b[0m \u001b[32m━━━━━━━━━━━━━━━━━━━━\u001b[0m\u001b[37m\u001b[0m \u001b[1m0s\u001b[0m 2s/step - language_output_accuracy: 0.9951 - language_output_loss: 0.0073 - loss: 0.6841 - safety_output_accuracy: 0.9720 - safety_output_auc: 0.9945 - safety_output_loss: 0.1242 - safety_output_precision: 0.9766 - safety_output_recall: 0.9803\n",
      "Epoch 7: val_loss did not improve from 1.55999\n",
      "\u001b[1m250/250\u001b[0m \u001b[32m━━━━━━━━━━━━━━━━━━━━\u001b[0m\u001b[37m\u001b[0m \u001b[1m588s\u001b[0m 2s/step - language_output_accuracy: 0.9951 - language_output_loss: 0.0073 - loss: 0.6841 - safety_output_accuracy: 0.9720 - safety_output_auc: 0.9945 - safety_output_loss: 0.1242 - safety_output_precision: 0.9766 - safety_output_recall: 0.9803 - val_language_output_accuracy: 0.9880 - val_language_output_loss: 0.0212 - val_loss: 0.9167 - val_safety_output_accuracy: 0.9260 - val_safety_output_auc: 0.9871 - val_safety_output_loss: 0.3715 - val_safety_output_precision: 0.9955 - val_safety_output_recall: 0.8857 - learning_rate: 1.0000e-04\n",
      "Epoch 8/10\n",
      "\u001b[1m250/250\u001b[0m \u001b[32m━━━━━━━━━━━━━━━━━━━━\u001b[0m\u001b[37m\u001b[0m \u001b[1m0s\u001b[0m 2s/step - language_output_accuracy: 0.9966 - language_output_loss: 0.0056 - loss: 0.6066 - safety_output_accuracy: 0.9809 - safety_output_auc: 0.9969 - safety_output_loss: 0.0854 - safety_output_precision: 0.9838 - safety_output_recall: 0.9869\n",
      "Epoch 8: val_loss did not improve from 1.55999\n",
      "\u001b[1m250/250\u001b[0m \u001b[32m━━━━━━━━━━━━━━━━━━━━\u001b[0m\u001b[37m\u001b[0m \u001b[1m591s\u001b[0m 2s/step - language_output_accuracy: 0.9966 - language_output_loss: 0.0056 - loss: 0.6065 - safety_output_accuracy: 0.9809 - safety_output_auc: 0.9969 - safety_output_loss: 0.0854 - safety_output_precision: 0.9838 - safety_output_recall: 0.9869 - val_language_output_accuracy: 0.9840 - val_language_output_loss: 0.0221 - val_loss: 1.0559 - val_safety_output_accuracy: 0.9065 - val_safety_output_auc: 0.9716 - val_safety_output_loss: 0.5450 - val_safety_output_precision: 0.9881 - val_safety_output_recall: 0.8609 - learning_rate: 1.0000e-04\n",
      "Epoch 9/10\n",
      "\u001b[1m250/250\u001b[0m \u001b[32m━━━━━━━━━━━━━━━━━━━━\u001b[0m\u001b[37m\u001b[0m \u001b[1m0s\u001b[0m 2s/step - language_output_accuracy: 0.9969 - language_output_loss: 0.0055 - loss: 0.5771 - safety_output_accuracy: 0.9785 - safety_output_auc: 0.9970 - safety_output_loss: 0.0898 - safety_output_precision: 0.9811 - safety_output_recall: 0.9857\n",
      "Epoch 9: val_loss did not improve from 1.55999\n",
      "\u001b[1m250/250\u001b[0m \u001b[32m━━━━━━━━━━━━━━━━━━━━\u001b[0m\u001b[37m\u001b[0m \u001b[1m589s\u001b[0m 2s/step - language_output_accuracy: 0.9969 - language_output_loss: 0.0055 - loss: 0.5771 - safety_output_accuracy: 0.9785 - safety_output_auc: 0.9970 - safety_output_loss: 0.0898 - safety_output_precision: 0.9811 - safety_output_recall: 0.9857 - val_language_output_accuracy: 0.9925 - val_language_output_loss: 0.0127 - val_loss: 0.5678 - val_safety_output_accuracy: 0.9785 - val_safety_output_auc: 0.9969 - val_safety_output_loss: 0.0957 - val_safety_output_precision: 0.9848 - val_safety_output_recall: 0.9808 - learning_rate: 1.0000e-04\n",
      "Epoch 10/10\n",
      "\u001b[1m250/250\u001b[0m \u001b[32m━━━━━━━━━━━━━━━━━━━━\u001b[0m\u001b[37m\u001b[0m \u001b[1m0s\u001b[0m 2s/step - language_output_accuracy: 0.9972 - language_output_loss: 0.0043 - loss: 0.5051 - safety_output_accuracy: 0.9886 - safety_output_auc: 0.9989 - safety_output_loss: 0.0497 - safety_output_precision: 0.9913 - safety_output_recall: 0.9913\n",
      "Epoch 10: val_loss did not improve from 1.55999\n",
      "\u001b[1m250/250\u001b[0m \u001b[32m━━━━━━━━━━━━━━━━━━━━\u001b[0m\u001b[37m\u001b[0m \u001b[1m592s\u001b[0m 2s/step - language_output_accuracy: 0.9972 - language_output_loss: 0.0043 - loss: 0.5050 - safety_output_accuracy: 0.9886 - safety_output_auc: 0.9989 - safety_output_loss: 0.0497 - safety_output_precision: 0.9913 - safety_output_recall: 0.9913 - val_language_output_accuracy: 0.9945 - val_language_output_loss: 0.0082 - val_loss: 0.6786 - val_safety_output_accuracy: 0.9545 - val_safety_output_auc: 0.9899 - val_safety_output_loss: 0.2404 - val_safety_output_precision: 0.9924 - val_safety_output_recall: 0.9345 - learning_rate: 1.0000e-04\n"
     ]
    }
   ],
   "source": [
    "history = model.fit(x=[X_train_input_ids, X_train_attention_mask],\n",
    "                    y=[y_train_lang, y_train_safety],\n",
    "                    validation_data=([X_val_input_ids, X_val_attention_mask], [y_val_lang, y_val_safety]),\n",
    "                    epochs=10,\n",
    "                    batch_size=64,\n",
    "                    callbacks=[early_stopping, model_checkpoint, tensorboard_callback,reduce_lr],\n",
    "                    verbose=1)\n"
   ]
  },
  {
   "cell_type": "code",
   "execution_count": null,
   "metadata": {
    "execution": {
     "iopub.status.busy": "2025-04-16T19:44:22.365560Z",
     "iopub.status.idle": "2025-04-16T19:44:22.365817Z",
     "shell.execute_reply": "2025-04-16T19:44:22.365715Z"
    },
    "trusted": true
   },
   "outputs": [],
   "source": [
    "# # Then freeze language layers and train safety\n",
    "# for layer in model.layers:\n",
    "#     if 'language' not in layer.name:\n",
    "#         layer.trainable = False\n",
    "        \n",
    "# model.compile(\n",
    "#     optimizer=optimizer,\n",
    "#     loss={'language_output': 'sparse_categorical_crossentropy', \n",
    "#           'safety_output': 'binary_crossentropy'},\n",
    "#     loss_weights={'language_output': 0.0, 'safety_output': 1.0},  # Now focus on safety\n",
    "# )"
   ]
  },
  {
   "cell_type": "code",
   "execution_count": null,
   "metadata": {
    "execution": {
     "iopub.status.busy": "2025-04-16T19:44:22.366614Z",
     "iopub.status.idle": "2025-04-16T19:44:22.367030Z",
     "shell.execute_reply": "2025-04-16T19:44:22.366843Z"
    },
    "trusted": true
   },
   "outputs": [],
   "source": [
    "# history = model.fit(x=[X_train_input_ids, X_train_attention_mask],\n",
    "#                     y=[y_train_lang, y_train_safety],\n",
    "#                     validation_data=([X_val_input_ids, X_val_attention_mask], [y_val_lang, y_val_safety]),\n",
    "#                     epochs=10,\n",
    "#                     batch_size=64,\n",
    "#                     callbacks=[early_stopping, model_checkpoint, tensorboard_callback,reduce_lr],\n",
    "#                     verbose=1)\n"
   ]
  },
  {
   "cell_type": "code",
   "execution_count": null,
   "metadata": {
    "execution": {
     "iopub.status.busy": "2025-04-16T19:44:22.367710Z",
     "iopub.status.idle": "2025-04-16T19:44:22.368099Z",
     "shell.execute_reply": "2025-04-16T19:44:22.367915Z"
    },
    "id": "UBJE0HQTAKWX",
    "outputId": "a3c7ddeb-4949-4fa3-dc74-ce83e7f6503b",
    "trusted": true
   },
   "outputs": [],
   "source": [
    "# #Train the model\n",
    "\n",
    "# hist = model.fit(x={\n",
    "#         'input_ids': X_train_input_ids,\n",
    "#         'attention_mask': X_train_attention_mask\n",
    "#     },\n",
    "#     y={\n",
    "#         'language_output': y_train_lang,\n",
    "#         'safety_output': y_train_safety\n",
    "#     },\n",
    "#      validation_data=(\n",
    "#         {\n",
    "#             'input_ids': X_val_input_ids,\n",
    "#             'attention_mask': X_val_attention_mask\n",
    "#         },\n",
    "#         {\n",
    "#             'language_output': y_val_lang,\n",
    "#             'safety_output': y_val_safety\n",
    "#         }\n",
    "#     ),\n",
    "#     epochs = 2,\n",
    "#     batch_size=16,\n",
    "#     verbose = 1,\n",
    "#     callbacks=[tensorboard_callback,early_stopping,model_checkpoint]\n",
    "\n",
    "#  )"
   ]
  },
  {
   "cell_type": "code",
   "execution_count": 94,
   "metadata": {
    "execution": {
     "iopub.execute_input": "2025-04-16T23:22:27.386671Z",
     "iopub.status.busy": "2025-04-16T23:22:27.386259Z",
     "iopub.status.idle": "2025-04-16T23:24:18.766487Z",
     "shell.execute_reply": "2025-04-16T23:24:18.765279Z",
     "shell.execute_reply.started": "2025-04-16T23:22:27.386629Z"
    },
    "trusted": true
   },
   "outputs": [
    {
     "name": "stdout",
     "output_type": "stream",
     "text": [
      "\u001b[1m125/125\u001b[0m \u001b[32m━━━━━━━━━━━━━━━━━━━━\u001b[0m\u001b[37m\u001b[0m \u001b[1m111s\u001b[0m 843ms/step\n"
     ]
    }
   ],
   "source": [
    "# Obtain probabilities from the model (returns a list of two arrays)\n",
    "pred_lang_prob, pred_safety_prob = model.predict([X_val_input_ids, X_val_attention_mask])\n",
    "\n",
    "# For each output, get the index with the highest probability\n",
    "pred_lang_labels = np.argmax(pred_lang_prob, axis=1)\n",
    "# if pred_safety_prob is shape (N, 1)\n",
    "pred_safety_labels = (pred_safety_prob.flatten() > 0.5).astype(int)\n",
    "\n"
   ]
  },
  {
   "cell_type": "code",
   "execution_count": 95,
   "metadata": {
    "execution": {
     "iopub.execute_input": "2025-04-16T23:24:18.768041Z",
     "iopub.status.busy": "2025-04-16T23:24:18.767755Z",
     "iopub.status.idle": "2025-04-16T23:24:18.779692Z",
     "shell.execute_reply": "2025-04-16T23:24:18.778418Z",
     "shell.execute_reply.started": "2025-04-16T23:24:18.768006Z"
    },
    "trusted": true
   },
   "outputs": [
    {
     "name": "stdout",
     "output_type": "stream",
     "text": [
      "F1 Score for Language Classification: 0.9635481822891391\n",
      "F1 Score for Safety Classification: 0.9784651527016445\n"
     ]
    }
   ],
   "source": [
    "from sklearn.metrics import f1_score\n",
    "\n",
    "f1_lang = f1_score(y_val_lang, pred_lang_labels, average='macro')\n",
    "f1_safety = f1_score(y_val_safety, pred_safety_labels, average='binary')\n",
    "\n",
    "print(\"F1 Score for Language Classification:\", f1_lang) \n",
    "print(\"F1 Score for Safety Classification:\", f1_safety)\n"
   ]
  },
  {
   "cell_type": "code",
   "execution_count": 96,
   "metadata": {
    "execution": {
     "iopub.execute_input": "2025-04-16T23:24:18.782255Z",
     "iopub.status.busy": "2025-04-16T23:24:18.781962Z",
     "iopub.status.idle": "2025-04-16T23:24:18.791803Z",
     "shell.execute_reply": "2025-04-16T23:24:18.790883Z",
     "shell.execute_reply.started": "2025-04-16T23:24:18.782230Z"
    },
    "trusted": true
   },
   "outputs": [],
   "source": [
    "from sklearn.metrics import f1_score, precision_score, recall_score, classification_report"
   ]
  },
  {
   "cell_type": "code",
   "execution_count": 97,
   "metadata": {
    "execution": {
     "iopub.execute_input": "2025-04-16T23:24:18.793295Z",
     "iopub.status.busy": "2025-04-16T23:24:18.792959Z",
     "iopub.status.idle": "2025-04-16T23:24:18.822285Z",
     "shell.execute_reply": "2025-04-16T23:24:18.821215Z",
     "shell.execute_reply.started": "2025-04-16T23:24:18.793257Z"
    },
    "trusted": true
   },
   "outputs": [
    {
     "name": "stdout",
     "output_type": "stream",
     "text": [
      "Safety → Precision: 0.980, Recall: 0.977,  F1: 0.978\n",
      "\n",
      "Full classification report:\n",
      "               precision    recall  f1-score   support\n",
      "\n",
      "        safe       0.96      0.96      0.96      1442\n",
      "  vulnerable       0.98      0.98      0.98      2558\n",
      "\n",
      "    accuracy                           0.97      4000\n",
      "   macro avg       0.97      0.97      0.97      4000\n",
      "weighted avg       0.97      0.97      0.97      4000\n",
      "\n"
     ]
    }
   ],
   "source": [
    "# y_val_safety should be your ground‑truth 0/1 array of length N\n",
    "f1 = f1_score(y_val_safety, pred_safety_labels)\n",
    "prec = precision_score(y_val_safety, pred_safety_labels)\n",
    "rec  = recall_score(y_val_safety, pred_safety_labels)\n",
    "\n",
    "print(f\"Safety → Precision: {prec:.3f}, Recall: {rec:.3f},  F1: {f1:.3f}\\n\")\n",
    "print(\"Full classification report:\\n\", \n",
    "      classification_report(y_val_safety, pred_safety_labels, target_names=[\"safe\",\"vulnerable\"]))"
   ]
  },
  {
   "cell_type": "code",
   "execution_count": 98,
   "metadata": {
    "execution": {
     "iopub.execute_input": "2025-04-16T23:24:18.823709Z",
     "iopub.status.busy": "2025-04-16T23:24:18.823374Z",
     "iopub.status.idle": "2025-04-16T23:24:19.079580Z",
     "shell.execute_reply": "2025-04-16T23:24:19.078655Z",
     "shell.execute_reply.started": "2025-04-16T23:24:18.823685Z"
    },
    "trusted": true
   },
   "outputs": [
    {
     "data": {
      "image/png": "[encoded data removed]",
      "text/plain": [
       "<Figure size 1000x600 with 1 Axes>"
      ]
     },
     "metadata": {},
     "output_type": "display_data"
    }
   ],
   "source": [
    "plt.figure(figsize=(10, 6))\n",
    "\n",
    "# Language output accuracies\n",
    "plt.plot(history.history['language_output_accuracy'], label='Train Language Accuracy')\n",
    "plt.plot(history.history['val_language_output_accuracy'], label='Val Language Accuracy')\n",
    "\n",
    "# Safety output accuracies\n",
    "plt.plot(history.history['safety_output_accuracy'], label='Train Safety Accuracy')\n",
    "plt.plot(history.history['val_safety_output_accuracy'], label='Val Safety Accuracy')\n",
    "\n",
    "plt.xlabel('Epochs')\n",
    "plt.ylabel('Accuracy')\n",
    "plt.title('Training and Validation Accuracy for Language and Safety')\n",
    "plt.legend()\n",
    "plt.grid(True)\n",
    "plt.show()\n"
   ]
  },
  {
   "cell_type": "code",
   "execution_count": 99,
   "metadata": {
    "execution": {
     "iopub.execute_input": "2025-04-16T23:26:49.475323Z",
     "iopub.status.busy": "2025-04-16T23:26:49.474906Z",
     "iopub.status.idle": "2025-04-16T23:26:55.740252Z",
     "shell.execute_reply": "2025-04-16T23:26:55.739482Z",
     "shell.execute_reply.started": "2025-04-16T23:26:49.475281Z"
    },
    "trusted": true
   },
   "outputs": [
    {
     "name": "stdout",
     "output_type": "stream",
     "text": [
      "\u001b[1m1/1\u001b[0m \u001b[32m━━━━━━━━━━━━━━━━━━━━\u001b[0m\u001b[37m\u001b[0m \u001b[1m6s\u001b[0m 6s/step\n",
      "\n",
      "--- Sample #1 ---\n",
      "import sqlite3⏎def get_user(username):⏎    conn = sqlite3.connect('users.db')⏎    c = conn.cursor()⏎    # vulnerable: string concatenation⏎    c.execute(\"SELECT * FROM users WHERE name = '\" + username…\n",
      "→ Predicted language:   python  (p=0.59)\n",
      "→ Predicted vulnerability:  SAFE  (p=0.29)\n",
      "\n",
      "--- Sample #2 ---\n",
      "def safe_add(a, b):⏎    # uses parameter binding⏎    import sqlite3⏎    conn = sqlite3.connect('users.db')⏎    c = conn.cursor()⏎    c.execute(\"SELECT * FROM users WHERE name = ?\", (a,))⏎    return c.…\n",
      "→ Predicted language:   php  (p=0.58)\n",
      "→ Predicted vulnerability:  SAFE  (p=0.03)\n",
      "\n",
      "--- Sample #3 ---\n",
      "public class HelloWorld {⏎  public static void main(String[] args) {⏎    System.out.println(\"Hello, world!\");⏎  }⏎}…\n",
      "→ Predicted language:   java  (p=1.00)\n",
      "→ Predicted vulnerability:  VULNERABLE  (p=0.95)\n"
     ]
    },
    {
     "name": "stderr",
     "output_type": "stream",
     "text": [
      "<ipython-input-99-96f473d5015d>:71: DeprecationWarning: Conversion of an array with ndim > 0 to a scalar is deprecated, and will error in future. Ensure you extract a single element from your array before performing this operation. (Deprecated NumPy 1.25.)\n",
      "  saf_prob = float(safety_logits[i])  # sigmoid→prob\n"
     ]
    }
   ],
   "source": [
    "\n",
    "# assume you already have `model` loaded & compiled\n",
    "\n",
    "# 1) Load the same tokenizer you used in training\n",
    "tokenizer = RobertaTokenizer.from_pretrained(\"microsoft/codebert-base\")\n",
    "\n",
    "# 2) Define some test snippets\n",
    "TEST_SNIPPETS = [\n",
    "    # a likely-vulnerable Python snippet (SQLi)\n",
    "    \"\"\"\n",
    "import sqlite3\n",
    "def get_user(username):\n",
    "    conn = sqlite3.connect('users.db')\n",
    "    c = conn.cursor()\n",
    "    # vulnerable: string concatenation\n",
    "    c.execute(\"SELECT * FROM users WHERE name = '\" + username + \"'\")\n",
    "    return c.fetchall()\n",
    "\"\"\",\n",
    "    # a safe Python snippet\n",
    "    \"\"\"\n",
    "def safe_add(a, b):\n",
    "    # uses parameter binding\n",
    "    import sqlite3\n",
    "    conn = sqlite3.connect('users.db')\n",
    "    c = conn.cursor()\n",
    "    c.execute(\"SELECT * FROM users WHERE name = ?\", (a,))\n",
    "    return c.fetchall()\n",
    "\"\"\",\n",
    "    # a Java example\n",
    "    \"\"\"\n",
    "public class HelloWorld {\n",
    "  public static void main(String[] args) {\n",
    "    System.out.println(\"Hello, world!\");\n",
    "  }\n",
    "}\n",
    "\"\"\",\n",
    "]\n",
    "\n",
    "# 3) Tokenize in one batch (padding & truncation to max_length=512)\n",
    "enc = tokenizer(\n",
    "    TEST_SNIPPETS,\n",
    "    padding=\"max_length\",\n",
    "    truncation=True,\n",
    "    max_length=512,\n",
    "    return_tensors=\"tf\"\n",
    ")\n",
    "\n",
    "input_ids      = enc[\"input_ids\"]      # shape (batch, 512)\n",
    "attention_mask = enc[\"attention_mask\"] # shape (batch, 512)\n",
    "\n",
    "# 4) Call your model\n",
    "lang_logits, safety_logits = model.predict([input_ids, attention_mask])\n",
    "\n",
    "# 5) Convert to hard labels\n",
    "lang_preds = np.argmax(lang_logits, axis=1)            # e.g. [3, 2, 1]\n",
    "safety_preds = (safety_logits.flatten() > 0.5).astype(int)\n",
    "\n",
    "# 6) Map your label IDs back to human names\n",
    "LANG_ID2NAME = {\n",
    "    0: \"c\",\n",
    "    1: \"java\",\n",
    "    2: \"php\",\n",
    "    3: \"python\",\n",
    "    4: \"other\",\n",
    "}\n",
    "\n",
    "# 7) Print results\n",
    "for i, code in enumerate(TEST_SNIPPETS):\n",
    "    lang_id  = lang_preds[i]\n",
    "    saf_id   = safety_preds[i]\n",
    "    lang_prob= float(lang_logits[i, lang_id])\n",
    "    saf_prob = float(safety_logits[i])  # sigmoid→prob\n",
    "    \n",
    "    print(f\"\\n--- Sample #{i+1} ---\")\n",
    "    print(code.strip()[:200].replace(\"\\n\",\"⏎\")+\"…\")  # first 200 chars\n",
    "    print(f\"→ Predicted language:   {LANG_ID2NAME[lang_id]}  (p={lang_prob:.2f})\")\n",
    "    print(f\"→ Predicted vulnerability:  {'VULNERABLE' if saf_id else 'SAFE'}  (p={saf_prob:.2f})\")\n"
   ]
  },
  {
   "cell_type": "code",
   "execution_count": null,
   "metadata": {
    "execution": {
     "iopub.status.busy": "2025-04-16T19:44:22.377340Z",
     "iopub.status.idle": "2025-04-16T19:44:22.377668Z",
     "shell.execute_reply": "2025-04-16T19:44:22.377549Z"
    },
    "id": "YvQNfcfdCNpP",
    "trusted": true
   },
   "outputs": [],
   "source": [
    "# import tensorflow as tf\n",
    "# from transformers import DistilBertTokenizer\n",
    "\n",
    "# # Load the model with custom objects\n",
    "# model = tf.keras.models.load_model(\n",
    "#     'best_vulnerability_model.keras',\n",
    "#     custom_objects={\n",
    "#         'distilbert_lambda': distilbert_lambda,  # Your Lambda function\n",
    "#         'Adam': tf.keras.optimizers.Adam  # Include if using a custom optimizer\n",
    "#     }\n",
    "# )"
   ]
  },
  {
   "cell_type": "code",
   "execution_count": null,
   "metadata": {
    "execution": {
     "iopub.status.busy": "2025-04-16T19:44:22.378295Z",
     "iopub.status.idle": "2025-04-16T19:44:22.378585Z",
     "shell.execute_reply": "2025-04-16T19:44:22.378481Z"
    },
    "trusted": true
   },
   "outputs": [],
   "source": [
    "# tokenizer = DistilBertTokenizer.from_pretrained('distilbert-base-uncased')  # Replace with your tokenizer"
   ]
  },
  {
   "cell_type": "code",
   "execution_count": null,
   "metadata": {
    "execution": {
     "iopub.status.busy": "2025-04-16T19:44:22.379184Z",
     "iopub.status.idle": "2025-04-16T19:44:22.379558Z",
     "shell.execute_reply": "2025-04-16T19:44:22.379397Z"
    },
    "trusted": true
   },
   "outputs": [],
   "source": [
    "# def preprocess_input(text, max_length=512):\n",
    "#     # Tokenize the text\n",
    "#     inputs = tokenizer(\n",
    "#         text,\n",
    "#         max_length=max_length,\n",
    "#         padding='max_length',\n",
    "#         truncation=True,\n",
    "#         return_tensors='tf'  # Return TensorFlow tensors\n",
    "#     )\n",
    "#     return {\n",
    "#         'input_ids': inputs['input_ids'],\n",
    "#         'attention_mask': inputs['attention_mask']\n",
    "#     }"
   ]
  },
  {
   "cell_type": "code",
   "execution_count": null,
   "metadata": {
    "execution": {
     "iopub.status.busy": "2025-04-16T19:44:22.380434Z",
     "iopub.status.idle": "2025-04-16T19:44:22.380906Z",
     "shell.execute_reply": "2025-04-16T19:44:22.380680Z"
    },
    "trusted": true
   },
   "outputs": [],
   "source": [
    "# def predict_vulnerability(text):\n",
    "#     # Preprocess the input\n",
    "#     inputs = preprocess_input(text)\n",
    "    \n",
    "#     # Get model prediction (probability between 0 and 1)\n",
    "#     prediction = model.predict({\n",
    "#         'input_ids': inputs['input_ids'],\n",
    "#         'attention_mask': inputs['attention_mask']\n",
    "#     })\n",
    "    \n",
    "#     # Convert probability to class (e.g., threshold=0.5)\n",
    "#     class_label = \"Vulnerable\" if prediction[0][0] > 0.5 else \"Safe\"\n",
    "#     confidence = prediction[0][0] * 100  # Confidence percentage\n",
    "    \n",
    "#     return {\n",
    "#         \"prediction\": class_label,\n",
    "#         \"confidence\": f\"{confidence:.2f}%\"\n",
    "#     }\n",
    "    "
   ]
  },
  {
   "cell_type": "code",
   "execution_count": null,
   "metadata": {
    "execution": {
     "iopub.status.busy": "2025-04-16T19:44:22.381814Z",
     "iopub.status.idle": "2025-04-16T19:44:22.382201Z",
     "shell.execute_reply": "2025-04-16T19:44:22.382037Z"
    },
    "trusted": true
   },
   "outputs": [],
   "source": [
    "# # Example usage\n",
    "# user_input = \"\"\"\n",
    "# import sqlite3\n",
    "# conn = sqlite3.connect('test.db')\n",
    "# c = conn.cursor()\n",
    "# username = input(\"Enter username: \")\n",
    "# password = input(\"Enter password: \")\n",
    "# c.execute(\"SELECT * FROM users WHERE username=? AND password=?\", (username, password))\n",
    "# \"\"\"\n",
    "# result = predict_vulnerability(user_input)\n",
    "# print(f\"Prediction: {result['prediction']} | Confidence: {result['confidence']}\")"
   ]
  },
  {
   "cell_type": "code",
   "execution_count": null,
   "metadata": {
    "execution": {
     "iopub.status.busy": "2025-04-16T19:44:22.383137Z",
     "iopub.status.idle": "2025-04-16T19:44:22.383578Z",
     "shell.execute_reply": "2025-04-16T19:44:22.383388Z"
    },
    "trusted": true
   },
   "outputs": [],
   "source": [
    "# # Example usage\n",
    "# user_input = \"\"\"\n",
    "# from owtf.plugin.helper import plugin_helper\n",
    "\n",
    "# DESCRIPTION = \"Plugin to assist manual testing\"\n",
    "\n",
    "\n",
    "# def run(PluginInfo):\n",
    "#     Content = plugin_helper.HtmlString(\"Intended to show helpful info in the future\")\n",
    "#     return Content\n",
    "\n",
    "# \"\"\"\n",
    "# result = predict_vulnerability(user_input)\n",
    "# print(f\"Prediction: {result['prediction']} | Confidence: {result['confidence']}\")"
   ]
  },
  {
   "cell_type": "code",
   "execution_count": null,
   "metadata": {
    "trusted": true
   },
   "outputs": [],
   "source": []
  }
 ],
 "metadata": {
  "accelerator": "GPU",
  "colab": {
   "gpuType": "T4",
   "provenance": []
  },
  "kaggle": {
   "accelerator": "nvidiaTeslaT4",
   "dataSources": [
    {
     "datasetId": 7082848,
     "sourceId": 11323896,
     "sourceType": "datasetVersion"
    },
    {
     "datasetId": 7107242,
     "sourceId": 11356576,
     "sourceType": "datasetVersion"
    },
    {
     "datasetId": 7116050,
     "sourceId": 11367979,
     "sourceType": "datasetVersion"
    }
   ],
   "dockerImageVersionId": 30919,
   "isGpuEnabled": true,
   "isInternetEnabled": true,
   "language": "python",
   "sourceType": "notebook"
  },
  "kernelspec": {
   "display_name": "Python 3",
   "language": "python",
   "name": "python3"
  },
  "language_info": {
   "codemirror_mode": {
    "name": "ipython",
    "version": 3
   },
   "file_extension": ".py",
   "mimetype": "text/x-python",
   "name": "python",
   "nbconvert_exporter": "python",
   "pygments_lexer": "ipython3",
   "version": "3.10.12"
  },
  "widgets": {
   "application/vnd.jupyter.widget-state+json": {
    "02835cf8773749d28839fb5a133962b7": {
     "model_module": "@jupyter-widgets/base",
     "model_module_version": "1.2.0",
     "model_name": "LayoutModel",
     "state": {
      "_model_module": "@jupyter-widgets/base",
      "_model_module_version": "1.2.0",
      "_model_name": "LayoutModel",
      "_view_count": null,
      "_view_module": "@jupyter-widgets/base",
      "_view_module_version": "1.2.0",
      "_view_name": "LayoutView",
      "align_content": null,
      "align_items": null,
      "align_self": null,
      "border": null,
      "bottom": null,
      "display": null,
      "flex": null,
      "flex_flow": null,
      "grid_area": null,
      "grid_auto_columns": null,
      "grid_auto_flow": null,
      "grid_auto_rows": null,
      "grid_column": null,
      "grid_gap": null,
      "grid_row": null,
      "grid_template_areas": null,
      "grid_template_columns": null,
      "grid_template_rows": null,
      "height": null,
      "justify_content": null,
      "justify_items": null,
      "left": null,
      "margin": null,
      "max_height": null,
      "max_width": null,
      "min_height": null,
      "min_width": null,
      "object_fit": null,
      "object_position": null,
      "order": null,
      "overflow": null,
      "overflow_x": null,
      "overflow_y": null,
      "padding": null,
      "right": null,
      "top": null,
      "visibility": null,
      "width": null
     }
    },
    "02f9525c5efc4916b59902ff4be53f6c": {
     "model_module": "@jupyter-widgets/base",
     "model_module_version": "1.2.0",
     "model_name": "LayoutModel",
     "state": {
      "_model_module": "@jupyter-widgets/base",
      "_model_module_version": "1.2.0",
      "_model_name": "LayoutModel",
      "_view_count": null,
      "_view_module": "@jupyter-widgets/base",
      "_view_module_version": "1.2.0",
      "_view_name": "LayoutView",
      "align_content": null,
      "align_items": null,
      "align_self": null,
      "border": null,
      "bottom": null,
      "display": null,
      "flex": null,
      "flex_flow": null,
      "grid_area": null,
      "grid_auto_columns": null,
      "grid_auto_flow": null,
      "grid_auto_rows": null,
      "grid_column": null,
      "grid_gap": null,
      "grid_row": null,
      "grid_template_areas": null,
      "grid_template_columns": null,
      "grid_template_rows": null,
      "height": null,
      "justify_content": null,
      "justify_items": null,
      "left": null,
      "margin": null,
      "max_height": null,
      "max_width": null,
      "min_height": null,
      "min_width": null,
      "object_fit": null,
      "object_position": null,
      "order": null,
      "overflow": null,
      "overflow_x": null,
      "overflow_y": null,
      "padding": null,
      "right": null,
      "top": null,
      "visibility": null,
      "width": null
     }
    },
    "05cf3b9b223349619eb7af9d4dc2b05b": {
     "model_module": "@jupyter-widgets/controls",
     "model_module_version": "1.5.0",
     "model_name": "HTMLModel",
     "state": {
      "_dom_classes": [],
      "_model_module": "@jupyter-widgets/controls",
      "_model_module_version": "1.5.0",
      "_model_name": "HTMLModel",
      "_view_count": null,
      "_view_module": "@jupyter-widgets/controls",
      "_view_module_version": "1.5.0",
      "_view_name": "HTMLView",
      "description": "",
      "description_tooltip": null,
      "layout": "IPY_MODEL_9e346c6a7a4b48cfb565782c1e261282",
      "placeholder": "​",
      "style": "IPY_MODEL_f2e5e954bf804a8985f62dad77a03dda",
      "value": "tokenizer.json: 100%"
     }
    },
    "091c5f1dff0147e68d8158e76f1d63f6": {
     "model_module": "@jupyter-widgets/controls",
     "model_module_version": "1.5.0",
     "model_name": "HTMLModel",
     "state": {
      "_dom_classes": [],
      "_model_module": "@jupyter-widgets/controls",
      "_model_module_version": "1.5.0",
      "_model_name": "HTMLModel",
      "_view_count": null,
      "_view_module": "@jupyter-widgets/controls",
      "_view_module_version": "1.5.0",
      "_view_name": "HTMLView",
      "description": "",
      "description_tooltip": null,
      "layout": "IPY_MODEL_9c78b84747844400b9d6d3aea8f5977c",
      "placeholder": "​",
      "style": "IPY_MODEL_d556f542a8674e00a0d5815d72ccc514",
      "value": " 466k/466k [00:00&lt;00:00, 8.22MB/s]"
     }
    },
    "0df18cfba987444d8ee8d9c6d0573295": {
     "model_module": "@jupyter-widgets/base",
     "model_module_version": "1.2.0",
     "model_name": "LayoutModel",
     "state": {
      "_model_module": "@jupyter-widgets/base",
      "_model_module_version": "1.2.0",
      "_model_name": "LayoutModel",
      "_view_count": null,
      "_view_module": "@jupyter-widgets/base",
      "_view_module_version": "1.2.0",
      "_view_name": "LayoutView",
      "align_content": null,
      "align_items": null,
      "align_self": null,
      "border": null,
      "bottom": null,
      "display": null,
      "flex": null,
      "flex_flow": null,
      "grid_area": null,
      "grid_auto_columns": null,
      "grid_auto_flow": null,
      "grid_auto_rows": null,
      "grid_column": null,
      "grid_gap": null,
      "grid_row": null,
      "grid_template_areas": null,
      "grid_template_columns": null,
      "grid_template_rows": null,
      "height": null,
      "justify_content": null,
      "justify_items": null,
      "left": null,
      "margin": null,
      "max_height": null,
      "max_width": null,
      "min_height": null,
      "min_width": null,
      "object_fit": null,
      "object_position": null,
      "order": null,
      "overflow": null,
      "overflow_x": null,
      "overflow_y": null,
      "padding": null,
      "right": null,
      "top": null,
      "visibility": null,
      "width": null
     }
    },
    "121aa3e0785942a39fcf47ef938c5aa0": {
     "model_module": "@jupyter-widgets/base",
     "model_module_version": "1.2.0",
     "model_name": "LayoutModel",
     "state": {
      "_model_module": "@jupyter-widgets/base",
      "_model_module_version": "1.2.0",
      "_model_name": "LayoutModel",
      "_view_count": null,
      "_view_module": "@jupyter-widgets/base",
      "_view_module_version": "1.2.0",
      "_view_name": "LayoutView",
      "align_content": null,
      "align_items": null,
      "align_self": null,
      "border": null,
      "bottom": null,
      "display": null,
      "flex": null,
      "flex_flow": null,
      "grid_area": null,
      "grid_auto_columns": null,
      "grid_auto_flow": null,
      "grid_auto_rows": null,
      "grid_column": null,
      "grid_gap": null,
      "grid_row": null,
      "grid_template_areas": null,
      "grid_template_columns": null,
      "grid_template_rows": null,
      "height": null,
      "justify_content": null,
      "justify_items": null,
      "left": null,
      "margin": null,
      "max_height": null,
      "max_width": null,
      "min_height": null,
      "min_width": null,
      "object_fit": null,
      "object_position": null,
      "order": null,
      "overflow": null,
      "overflow_x": null,
      "overflow_y": null,
      "padding": null,
      "right": null,
      "top": null,
      "visibility": null,
      "width": null
     }
    },
    "1505581c6fac4b8e9259a308abd01294": {
     "model_module": "@jupyter-widgets/base",
     "model_module_version": "1.2.0",
     "model_name": "LayoutModel",
     "state": {
      "_model_module": "@jupyter-widgets/base",
      "_model_module_version": "1.2.0",
      "_model_name": "LayoutModel",
      "_view_count": null,
      "_view_module": "@jupyter-widgets/base",
      "_view_module_version": "1.2.0",
      "_view_name": "LayoutView",
      "align_content": null,
      "align_items": null,
      "align_self": null,
      "border": null,
      "bottom": null,
      "display": null,
      "flex": null,
      "flex_flow": null,
      "grid_area": null,
      "grid_auto_columns": null,
      "grid_auto_flow": null,
      "grid_auto_rows": null,
      "grid_column": null,
      "grid_gap": null,
      "grid_row": null,
      "grid_template_areas": null,
      "grid_template_columns": null,
      "grid_template_rows": null,
      "height": null,
      "justify_content": null,
      "justify_items": null,
      "left": null,
      "margin": null,
      "max_height": null,
      "max_width": null,
      "min_height": null,
      "min_width": null,
      "object_fit": null,
      "object_position": null,
      "order": null,
      "overflow": null,
      "overflow_x": null,
      "overflow_y": null,
      "padding": null,
      "right": null,
      "top": null,
      "visibility": null,
      "width": null
     }
    },
    "16ada6ab62a5425e880b2689e30f0152": {
     "model_module": "@jupyter-widgets/controls",
     "model_module_version": "1.5.0",
     "model_name": "HTMLModel",
     "state": {
      "_dom_classes": [],
      "_model_module": "@jupyter-widgets/controls",
      "_model_module_version": "1.5.0",
      "_model_name": "HTMLModel",
      "_view_count": null,
      "_view_module": "@jupyter-widgets/controls",
      "_view_module_version": "1.5.0",
      "_view_name": "HTMLView",
      "description": "",
      "description_tooltip": null,
      "layout": "IPY_MODEL_6dd8d436e3bc474fb7a285b55ab7e05a",
      "placeholder": "​",
      "style": "IPY_MODEL_4d14ada47ba54e1893f879fbf3c7608b",
      "value": "config.json: 100%"
     }
    },
    "1e4bef1b1cef48dd9a9657da5e1b5ccb": {
     "model_module": "@jupyter-widgets/controls",
     "model_module_version": "1.5.0",
     "model_name": "FloatProgressModel",
     "state": {
      "_dom_classes": [],
      "_model_module": "@jupyter-widgets/controls",
      "_model_module_version": "1.5.0",
      "_model_name": "FloatProgressModel",
      "_view_count": null,
      "_view_module": "@jupyter-widgets/controls",
      "_view_module_version": "1.5.0",
      "_view_name": "ProgressView",
      "bar_style": "success",
      "description": "",
      "description_tooltip": null,
      "layout": "IPY_MODEL_bbff9708486448639453dd35d13cf7f4",
      "max": 267954768,
      "min": 0,
      "orientation": "horizontal",
      "style": "IPY_MODEL_8ca4f00e34914dd2b81e16299186d6ba",
      "value": 267954768
     }
    },
    "1f37b09f119e41a7b22f55a029281727": {
     "model_module": "@jupyter-widgets/controls",
     "model_module_version": "1.5.0",
     "model_name": "HTMLModel",
     "state": {
      "_dom_classes": [],
      "_model_module": "@jupyter-widgets/controls",
      "_model_module_version": "1.5.0",
      "_model_name": "HTMLModel",
      "_view_count": null,
      "_view_module": "@jupyter-widgets/controls",
      "_view_module_version": "1.5.0",
      "_view_name": "HTMLView",
      "description": "",
      "description_tooltip": null,
      "layout": "IPY_MODEL_c074540f3b8f4e5bbe2dea2d095876a7",
      "placeholder": "​",
      "style": "IPY_MODEL_82fd1ec58c4e4fe389296ae4292fc0ee",
      "value": "config.json: 100%"
     }
    },
    "257b0677f45b49debb4ead526bc12fd6": {
     "model_module": "@jupyter-widgets/controls",
     "model_module_version": "1.5.0",
     "model_name": "DescriptionStyleModel",
     "state": {
      "_model_module": "@jupyter-widgets/controls",
      "_model_module_version": "1.5.0",
      "_model_name": "DescriptionStyleModel",
      "_view_count": null,
      "_view_module": "@jupyter-widgets/base",
      "_view_module_version": "1.2.0",
      "_view_name": "StyleView",
      "description_width": ""
     }
    },
    "2729ffa92f5042cfaa0238c2f6b9d1a4": {
     "model_module": "@jupyter-widgets/controls",
     "model_module_version": "1.5.0",
     "model_name": "ProgressStyleModel",
     "state": {
      "_model_module": "@jupyter-widgets/controls",
      "_model_module_version": "1.5.0",
      "_model_name": "ProgressStyleModel",
      "_view_count": null,
      "_view_module": "@jupyter-widgets/base",
      "_view_module_version": "1.2.0",
      "_view_name": "StyleView",
      "bar_color": null,
      "description_width": ""
     }
    },
    "27322771d41f4de6b326ef6fbfa05463": {
     "model_module": "@jupyter-widgets/base",
     "model_module_version": "1.2.0",
     "model_name": "LayoutModel",
     "state": {
      "_model_module": "@jupyter-widgets/base",
      "_model_module_version": "1.2.0",
      "_model_name": "LayoutModel",
      "_view_count": null,
      "_view_module": "@jupyter-widgets/base",
      "_view_module_version": "1.2.0",
      "_view_name": "LayoutView",
      "align_content": null,
      "align_items": null,
      "align_self": null,
      "border": null,
      "bottom": null,
      "display": null,
      "flex": null,
      "flex_flow": null,
      "grid_area": null,
      "grid_auto_columns": null,
      "grid_auto_flow": null,
      "grid_auto_rows": null,
      "grid_column": null,
      "grid_gap": null,
      "grid_row": null,
      "grid_template_areas": null,
      "grid_template_columns": null,
      "grid_template_rows": null,
      "height": null,
      "justify_content": null,
      "justify_items": null,
      "left": null,
      "margin": null,
      "max_height": null,
      "max_width": null,
      "min_height": null,
      "min_width": null,
      "object_fit": null,
      "object_position": null,
      "order": null,
      "overflow": null,
      "overflow_x": null,
      "overflow_y": null,
      "padding": null,
      "right": null,
      "top": null,
      "visibility": null,
      "width": null
     }
    },
    "28db65da818948e0a16928ddce1916a6": {
     "model_module": "@jupyter-widgets/controls",
     "model_module_version": "1.5.0",
     "model_name": "FloatProgressModel",
     "state": {
      "_dom_classes": [],
      "_model_module": "@jupyter-widgets/controls",
      "_model_module_version": "1.5.0",
      "_model_name": "FloatProgressModel",
      "_view_count": null,
      "_view_module": "@jupyter-widgets/controls",
      "_view_module_version": "1.5.0",
      "_view_name": "ProgressView",
      "bar_style": "success",
      "description": "",
      "description_tooltip": null,
      "layout": "IPY_MODEL_f3b949a829ef4ac7850ada74a3a0614c",
      "max": 470,
      "min": 0,
      "orientation": "horizontal",
      "style": "IPY_MODEL_f025f92a5a5142f89d04847b333d0f5b",
      "value": 470
     }
    },
    "2ba44c48b8db446cb4b0f1ee8b5ed295": {
     "model_module": "@jupyter-widgets/controls",
     "model_module_version": "1.5.0",
     "model_name": "DescriptionStyleModel",
     "state": {
      "_model_module": "@jupyter-widgets/controls",
      "_model_module_version": "1.5.0",
      "_model_name": "DescriptionStyleModel",
      "_view_count": null,
      "_view_module": "@jupyter-widgets/base",
      "_view_module_version": "1.2.0",
      "_view_name": "StyleView",
      "description_width": ""
     }
    },
    "2d012d2dd53c403e87251076fc6cf5ae": {
     "model_module": "@jupyter-widgets/controls",
     "model_module_version": "1.5.0",
     "model_name": "ProgressStyleModel",
     "state": {
      "_model_module": "@jupyter-widgets/controls",
      "_model_module_version": "1.5.0",
      "_model_name": "ProgressStyleModel",
      "_view_count": null,
      "_view_module": "@jupyter-widgets/base",
      "_view_module_version": "1.2.0",
      "_view_name": "StyleView",
      "bar_color": null,
      "description_width": ""
     }
    },
    "302c567953ff4a94bc6193dc8ac8f1b8": {
     "model_module": "@jupyter-widgets/controls",
     "model_module_version": "1.5.0",
     "model_name": "HTMLModel",
     "state": {
      "_dom_classes": [],
      "_model_module": "@jupyter-widgets/controls",
      "_model_module_version": "1.5.0",
      "_model_name": "HTMLModel",
      "_view_count": null,
      "_view_module": "@jupyter-widgets/controls",
      "_view_module_version": "1.5.0",
      "_view_name": "HTMLView",
      "description": "",
      "description_tooltip": null,
      "layout": "IPY_MODEL_580dc6680de5425488cafd0acdb7f4b2",
      "placeholder": "​",
      "style": "IPY_MODEL_eb4c86f23535449eb6a130b12914b8d5",
      "value": "vocab.txt: 100%"
     }
    },
    "317dbfc7128240aaa80de1d2b521ecfd": {
     "model_module": "@jupyter-widgets/controls",
     "model_module_version": "1.5.0",
     "model_name": "HTMLModel",
     "state": {
      "_dom_classes": [],
      "_model_module": "@jupyter-widgets/controls",
      "_model_module_version": "1.5.0",
      "_model_name": "HTMLModel",
      "_view_count": null,
      "_view_module": "@jupyter-widgets/controls",
      "_view_module_version": "1.5.0",
      "_view_name": "HTMLView",
      "description": "",
      "description_tooltip": null,
      "layout": "IPY_MODEL_d4b04d06cf234b80878c3a5d27cc8d0d",
      "placeholder": "​",
      "style": "IPY_MODEL_257b0677f45b49debb4ead526bc12fd6",
      "value": " 268M/268M [00:01&lt;00:00, 168MB/s]"
     }
    },
    "33aed837c9984409ab34fcb94b94a582": {
     "model_module": "@jupyter-widgets/controls",
     "model_module_version": "1.5.0",
     "model_name": "DescriptionStyleModel",
     "state": {
      "_model_module": "@jupyter-widgets/controls",
      "_model_module_version": "1.5.0",
      "_model_name": "DescriptionStyleModel",
      "_view_count": null,
      "_view_module": "@jupyter-widgets/base",
      "_view_module_version": "1.2.0",
      "_view_name": "StyleView",
      "description_width": ""
     }
    },
    "37be531346e242ca81ca412081cfcab5": {
     "model_module": "@jupyter-widgets/controls",
     "model_module_version": "1.5.0",
     "model_name": "ProgressStyleModel",
     "state": {
      "_model_module": "@jupyter-widgets/controls",
      "_model_module_version": "1.5.0",
      "_model_name": "ProgressStyleModel",
      "_view_count": null,
      "_view_module": "@jupyter-widgets/base",
      "_view_module_version": "1.2.0",
      "_view_name": "StyleView",
      "bar_color": null,
      "description_width": ""
     }
    },
    "3cbc7e52dcbc44f8a2d5b840fb10ad8c": {
     "model_module": "@jupyter-widgets/base",
     "model_module_version": "1.2.0",
     "model_name": "LayoutModel",
     "state": {
      "_model_module": "@jupyter-widgets/base",
      "_model_module_version": "1.2.0",
      "_model_name": "LayoutModel",
      "_view_count": null,
      "_view_module": "@jupyter-widgets/base",
      "_view_module_version": "1.2.0",
      "_view_name": "LayoutView",
      "align_content": null,
      "align_items": null,
      "align_self": null,
      "border": null,
      "bottom": null,
      "display": null,
      "flex": null,
      "flex_flow": null,
      "grid_area": null,
      "grid_auto_columns": null,
      "grid_auto_flow": null,
      "grid_auto_rows": null,
      "grid_column": null,
      "grid_gap": null,
      "grid_row": null,
      "grid_template_areas": null,
      "grid_template_columns": null,
      "grid_template_rows": null,
      "height": null,
      "justify_content": null,
      "justify_items": null,
      "left": null,
      "margin": null,
      "max_height": null,
      "max_width": null,
      "min_height": null,
      "min_width": null,
      "object_fit": null,
      "object_position": null,
      "order": null,
      "overflow": null,
      "overflow_x": null,
      "overflow_y": null,
      "padding": null,
      "right": null,
      "top": null,
      "visibility": null,
      "width": null
     }
    },
    "44dd10fac92342388bfb76cced49dcf9": {
     "model_module": "@jupyter-widgets/base",
     "model_module_version": "1.2.0",
     "model_name": "LayoutModel",
     "state": {
      "_model_module": "@jupyter-widgets/base",
      "_model_module_version": "1.2.0",
      "_model_name": "LayoutModel",
      "_view_count": null,
      "_view_module": "@jupyter-widgets/base",
      "_view_module_version": "1.2.0",
      "_view_name": "LayoutView",
      "align_content": null,
      "align_items": null,
      "align_self": null,
      "border": null,
      "bottom": null,
      "display": null,
      "flex": null,
      "flex_flow": null,
      "grid_area": null,
      "grid_auto_columns": null,
      "grid_auto_flow": null,
      "grid_auto_rows": null,
      "grid_column": null,
      "grid_gap": null,
      "grid_row": null,
      "grid_template_areas": null,
      "grid_template_columns": null,
      "grid_template_rows": null,
      "height": null,
      "justify_content": null,
      "justify_items": null,
      "left": null,
      "margin": null,
      "max_height": null,
      "max_width": null,
      "min_height": null,
      "min_width": null,
      "object_fit": null,
      "object_position": null,
      "order": null,
      "overflow": null,
      "overflow_x": null,
      "overflow_y": null,
      "padding": null,
      "right": null,
      "top": null,
      "visibility": null,
      "width": null
     }
    },
    "4cd25c5eef5e424ead2b2ed4b14023fb": {
     "model_module": "@jupyter-widgets/controls",
     "model_module_version": "1.5.0",
     "model_name": "DescriptionStyleModel",
     "state": {
      "_model_module": "@jupyter-widgets/controls",
      "_model_module_version": "1.5.0",
      "_model_name": "DescriptionStyleModel",
      "_view_count": null,
      "_view_module": "@jupyter-widgets/base",
      "_view_module_version": "1.2.0",
      "_view_name": "StyleView",
      "description_width": ""
     }
    },
    "4d14ada47ba54e1893f879fbf3c7608b": {
     "model_module": "@jupyter-widgets/controls",
     "model_module_version": "1.5.0",
     "model_name": "DescriptionStyleModel",
     "state": {
      "_model_module": "@jupyter-widgets/controls",
      "_model_module_version": "1.5.0",
      "_model_name": "DescriptionStyleModel",
      "_view_count": null,
      "_view_module": "@jupyter-widgets/base",
      "_view_module_version": "1.2.0",
      "_view_name": "StyleView",
      "description_width": ""
     }
    },
    "4f000f5ccf9b4065a073aa1fcd58c679": {
     "model_module": "@jupyter-widgets/controls",
     "model_module_version": "1.5.0",
     "model_name": "HTMLModel",
     "state": {
      "_dom_classes": [],
      "_model_module": "@jupyter-widgets/controls",
      "_model_module_version": "1.5.0",
      "_model_name": "HTMLModel",
      "_view_count": null,
      "_view_module": "@jupyter-widgets/controls",
      "_view_module_version": "1.5.0",
      "_view_name": "HTMLView",
      "description": "",
      "description_tooltip": null,
      "layout": "IPY_MODEL_0df18cfba987444d8ee8d9c6d0573295",
      "placeholder": "​",
      "style": "IPY_MODEL_7b2c01185e92404793386751239e837d",
      "value": "model.safetensors: 100%"
     }
    },
    "4f298044b8fa48c38c0f571d5caf2bb6": {
     "model_module": "@jupyter-widgets/controls",
     "model_module_version": "1.5.0",
     "model_name": "DescriptionStyleModel",
     "state": {
      "_model_module": "@jupyter-widgets/controls",
      "_model_module_version": "1.5.0",
      "_model_name": "DescriptionStyleModel",
      "_view_count": null,
      "_view_module": "@jupyter-widgets/base",
      "_view_module_version": "1.2.0",
      "_view_name": "StyleView",
      "description_width": ""
     }
    },
    "54d12f5986b44bea801192d9abb1f493": {
     "model_module": "@jupyter-widgets/controls",
     "model_module_version": "1.5.0",
     "model_name": "HBoxModel",
     "state": {
      "_dom_classes": [],
      "_model_module": "@jupyter-widgets/controls",
      "_model_module_version": "1.5.0",
      "_model_name": "HBoxModel",
      "_view_count": null,
      "_view_module": "@jupyter-widgets/controls",
      "_view_module_version": "1.5.0",
      "_view_name": "HBoxView",
      "box_style": "",
      "children": [
       "IPY_MODEL_05cf3b9b223349619eb7af9d4dc2b05b",
       "IPY_MODEL_7f5a9d15f2ad49ddb5045d6ca460a710",
       "IPY_MODEL_091c5f1dff0147e68d8158e76f1d63f6"
      ],
      "layout": "IPY_MODEL_02f9525c5efc4916b59902ff4be53f6c"
     }
    },
    "55ff20e417b44b5eb5c7e6b50cdcd15b": {
     "model_module": "@jupyter-widgets/controls",
     "model_module_version": "1.5.0",
     "model_name": "ProgressStyleModel",
     "state": {
      "_model_module": "@jupyter-widgets/controls",
      "_model_module_version": "1.5.0",
      "_model_name": "ProgressStyleModel",
      "_view_count": null,
      "_view_module": "@jupyter-widgets/base",
      "_view_module_version": "1.2.0",
      "_view_name": "StyleView",
      "bar_color": null,
      "description_width": ""
     }
    },
    "561b4822d8f3481ca298f71a81305de1": {
     "model_module": "@jupyter-widgets/base",
     "model_module_version": "1.2.0",
     "model_name": "LayoutModel",
     "state": {
      "_model_module": "@jupyter-widgets/base",
      "_model_module_version": "1.2.0",
      "_model_name": "LayoutModel",
      "_view_count": null,
      "_view_module": "@jupyter-widgets/base",
      "_view_module_version": "1.2.0",
      "_view_name": "LayoutView",
      "align_content": null,
      "align_items": null,
      "align_self": null,
      "border": null,
      "bottom": null,
      "display": null,
      "flex": null,
      "flex_flow": null,
      "grid_area": null,
      "grid_auto_columns": null,
      "grid_auto_flow": null,
      "grid_auto_rows": null,
      "grid_column": null,
      "grid_gap": null,
      "grid_row": null,
      "grid_template_areas": null,
      "grid_template_columns": null,
      "grid_template_rows": null,
      "height": null,
      "justify_content": null,
      "justify_items": null,
      "left": null,
      "margin": null,
      "max_height": null,
      "max_width": null,
      "min_height": null,
      "min_width": null,
      "object_fit": null,
      "object_position": null,
      "order": null,
      "overflow": null,
      "overflow_x": null,
      "overflow_y": null,
      "padding": null,
      "right": null,
      "top": null,
      "visibility": null,
      "width": null
     }
    },
    "580dc6680de5425488cafd0acdb7f4b2": {
     "model_module": "@jupyter-widgets/base",
     "model_module_version": "1.2.0",
     "model_name": "LayoutModel",
     "state": {
      "_model_module": "@jupyter-widgets/base",
      "_model_module_version": "1.2.0",
      "_model_name": "LayoutModel",
      "_view_count": null,
      "_view_module": "@jupyter-widgets/base",
      "_view_module_version": "1.2.0",
      "_view_name": "LayoutView",
      "align_content": null,
      "align_items": null,
      "align_self": null,
      "border": null,
      "bottom": null,
      "display": null,
      "flex": null,
      "flex_flow": null,
      "grid_area": null,
      "grid_auto_columns": null,
      "grid_auto_flow": null,
      "grid_auto_rows": null,
      "grid_column": null,
      "grid_gap": null,
      "grid_row": null,
      "grid_template_areas": null,
      "grid_template_columns": null,
      "grid_template_rows": null,
      "height": null,
      "justify_content": null,
      "justify_items": null,
      "left": null,
      "margin": null,
      "max_height": null,
      "max_width": null,
      "min_height": null,
      "min_width": null,
      "object_fit": null,
      "object_position": null,
      "order": null,
      "overflow": null,
      "overflow_x": null,
      "overflow_y": null,
      "padding": null,
      "right": null,
      "top": null,
      "visibility": null,
      "width": null
     }
    },
    "59311c9ef62e4b9f8e560fb2f21e9223": {
     "model_module": "@jupyter-widgets/controls",
     "model_module_version": "1.5.0",
     "model_name": "FloatProgressModel",
     "state": {
      "_dom_classes": [],
      "_model_module": "@jupyter-widgets/controls",
      "_model_module_version": "1.5.0",
      "_model_name": "FloatProgressModel",
      "_view_count": null,
      "_view_module": "@jupyter-widgets/controls",
      "_view_module_version": "1.5.0",
      "_view_name": "ProgressView",
      "bar_style": "success",
      "description": "",
      "description_tooltip": null,
      "layout": "IPY_MODEL_8b7edcd2b3974e088231b134a433fda0",
      "max": 231508,
      "min": 0,
      "orientation": "horizontal",
      "style": "IPY_MODEL_55ff20e417b44b5eb5c7e6b50cdcd15b",
      "value": 231508
     }
    },
    "680748622e804f5281480b9c4a8388d3": {
     "model_module": "@jupyter-widgets/controls",
     "model_module_version": "1.5.0",
     "model_name": "HTMLModel",
     "state": {
      "_dom_classes": [],
      "_model_module": "@jupyter-widgets/controls",
      "_model_module_version": "1.5.0",
      "_model_name": "HTMLModel",
      "_view_count": null,
      "_view_module": "@jupyter-widgets/controls",
      "_view_module_version": "1.5.0",
      "_view_name": "HTMLView",
      "description": "",
      "description_tooltip": null,
      "layout": "IPY_MODEL_02835cf8773749d28839fb5a133962b7",
      "placeholder": "​",
      "style": "IPY_MODEL_cac3b07857a94e2c8477346e4575848c",
      "value": " 483/483 [00:00&lt;00:00, 28.3kB/s]"
     }
    },
    "6da08afafdec4d9c8c42212a1760682b": {
     "model_module": "@jupyter-widgets/base",
     "model_module_version": "1.2.0",
     "model_name": "LayoutModel",
     "state": {
      "_model_module": "@jupyter-widgets/base",
      "_model_module_version": "1.2.0",
      "_model_name": "LayoutModel",
      "_view_count": null,
      "_view_module": "@jupyter-widgets/base",
      "_view_module_version": "1.2.0",
      "_view_name": "LayoutView",
      "align_content": null,
      "align_items": null,
      "align_self": null,
      "border": null,
      "bottom": null,
      "display": null,
      "flex": null,
      "flex_flow": null,
      "grid_area": null,
      "grid_auto_columns": null,
      "grid_auto_flow": null,
      "grid_auto_rows": null,
      "grid_column": null,
      "grid_gap": null,
      "grid_row": null,
      "grid_template_areas": null,
      "grid_template_columns": null,
      "grid_template_rows": null,
      "height": null,
      "justify_content": null,
      "justify_items": null,
      "left": null,
      "margin": null,
      "max_height": null,
      "max_width": null,
      "min_height": null,
      "min_width": null,
      "object_fit": null,
      "object_position": null,
      "order": null,
      "overflow": null,
      "overflow_x": null,
      "overflow_y": null,
      "padding": null,
      "right": null,
      "top": null,
      "visibility": null,
      "width": null
     }
    },
    "6dd8d436e3bc474fb7a285b55ab7e05a": {
     "model_module": "@jupyter-widgets/base",
     "model_module_version": "1.2.0",
     "model_name": "LayoutModel",
     "state": {
      "_model_module": "@jupyter-widgets/base",
      "_model_module_version": "1.2.0",
      "_model_name": "LayoutModel",
      "_view_count": null,
      "_view_module": "@jupyter-widgets/base",
      "_view_module_version": "1.2.0",
      "_view_name": "LayoutView",
      "align_content": null,
      "align_items": null,
      "align_self": null,
      "border": null,
      "bottom": null,
      "display": null,
      "flex": null,
      "flex_flow": null,
      "grid_area": null,
      "grid_auto_columns": null,
      "grid_auto_flow": null,
      "grid_auto_rows": null,
      "grid_column": null,
      "grid_gap": null,
      "grid_row": null,
      "grid_template_areas": null,
      "grid_template_columns": null,
      "grid_template_rows": null,
      "height": null,
      "justify_content": null,
      "justify_items": null,
      "left": null,
      "margin": null,
      "max_height": null,
      "max_width": null,
      "min_height": null,
      "min_width": null,
      "object_fit": null,
      "object_position": null,
      "order": null,
      "overflow": null,
      "overflow_x": null,
      "overflow_y": null,
      "padding": null,
      "right": null,
      "top": null,
      "visibility": null,
      "width": null
     }
    },
    "708f9cb5e38f4da491da3de7157a9853": {
     "model_module": "@jupyter-widgets/base",
     "model_module_version": "1.2.0",
     "model_name": "LayoutModel",
     "state": {
      "_model_module": "@jupyter-widgets/base",
      "_model_module_version": "1.2.0",
      "_model_name": "LayoutModel",
      "_view_count": null,
      "_view_module": "@jupyter-widgets/base",
      "_view_module_version": "1.2.0",
      "_view_name": "LayoutView",
      "align_content": null,
      "align_items": null,
      "align_self": null,
      "border": null,
      "bottom": null,
      "display": null,
      "flex": null,
      "flex_flow": null,
      "grid_area": null,
      "grid_auto_columns": null,
      "grid_auto_flow": null,
      "grid_auto_rows": null,
      "grid_column": null,
      "grid_gap": null,
      "grid_row": null,
      "grid_template_areas": null,
      "grid_template_columns": null,
      "grid_template_rows": null,
      "height": null,
      "justify_content": null,
      "justify_items": null,
      "left": null,
      "margin": null,
      "max_height": null,
      "max_width": null,
      "min_height": null,
      "min_width": null,
      "object_fit": null,
      "object_position": null,
      "order": null,
      "overflow": null,
      "overflow_x": null,
      "overflow_y": null,
      "padding": null,
      "right": null,
      "top": null,
      "visibility": null,
      "width": null
     }
    },
    "7544bb907fbd43dda694fc5e9b6b19a5": {
     "model_module": "@jupyter-widgets/controls",
     "model_module_version": "1.5.0",
     "model_name": "ProgressStyleModel",
     "state": {
      "_model_module": "@jupyter-widgets/controls",
      "_model_module_version": "1.5.0",
      "_model_name": "ProgressStyleModel",
      "_view_count": null,
      "_view_module": "@jupyter-widgets/base",
      "_view_module_version": "1.2.0",
      "_view_name": "StyleView",
      "bar_color": null,
      "description_width": ""
     }
    },
    "7725f54bc61b411d837e15f9f378a955": {
     "model_module": "@jupyter-widgets/controls",
     "model_module_version": "1.5.0",
     "model_name": "FloatProgressModel",
     "state": {
      "_dom_classes": [],
      "_model_module": "@jupyter-widgets/controls",
      "_model_module_version": "1.5.0",
      "_model_name": "FloatProgressModel",
      "_view_count": null,
      "_view_module": "@jupyter-widgets/controls",
      "_view_module_version": "1.5.0",
      "_view_name": "ProgressView",
      "bar_style": "success",
      "description": "",
      "description_tooltip": null,
      "layout": "IPY_MODEL_b02361a1207d47ef86fe53272c24ac17",
      "max": 483,
      "min": 0,
      "orientation": "horizontal",
      "style": "IPY_MODEL_2d012d2dd53c403e87251076fc6cf5ae",
      "value": 483
     }
    },
    "7b2c01185e92404793386751239e837d": {
     "model_module": "@jupyter-widgets/controls",
     "model_module_version": "1.5.0",
     "model_name": "DescriptionStyleModel",
     "state": {
      "_model_module": "@jupyter-widgets/controls",
      "_model_module_version": "1.5.0",
      "_model_name": "DescriptionStyleModel",
      "_view_count": null,
      "_view_module": "@jupyter-widgets/base",
      "_view_module_version": "1.2.0",
      "_view_name": "StyleView",
      "description_width": ""
     }
    },
    "7f5a234876634de7a5385713fd7941ad": {
     "model_module": "@jupyter-widgets/controls",
     "model_module_version": "1.5.0",
     "model_name": "HBoxModel",
     "state": {
      "_dom_classes": [],
      "_model_module": "@jupyter-widgets/controls",
      "_model_module_version": "1.5.0",
      "_model_name": "HBoxModel",
      "_view_count": null,
      "_view_module": "@jupyter-widgets/controls",
      "_view_module_version": "1.5.0",
      "_view_name": "HBoxView",
      "box_style": "",
      "children": [
       "IPY_MODEL_16ada6ab62a5425e880b2689e30f0152",
       "IPY_MODEL_7725f54bc61b411d837e15f9f378a955",
       "IPY_MODEL_b1aea3daff0a47abb90ccecfd259c6f2"
      ],
      "layout": "IPY_MODEL_93cf0eee27884c9cb3200982fafc08be"
     }
    },
    "7f5a9d15f2ad49ddb5045d6ca460a710": {
     "model_module": "@jupyter-widgets/controls",
     "model_module_version": "1.5.0",
     "model_name": "FloatProgressModel",
     "state": {
      "_dom_classes": [],
      "_model_module": "@jupyter-widgets/controls",
      "_model_module_version": "1.5.0",
      "_model_name": "FloatProgressModel",
      "_view_count": null,
      "_view_module": "@jupyter-widgets/controls",
      "_view_module_version": "1.5.0",
      "_view_name": "ProgressView",
      "bar_style": "success",
      "description": "",
      "description_tooltip": null,
      "layout": "IPY_MODEL_84ae9395977e45dba7189c8a4cab0984",
      "max": 466062,
      "min": 0,
      "orientation": "horizontal",
      "style": "IPY_MODEL_2729ffa92f5042cfaa0238c2f6b9d1a4",
      "value": 466062
     }
    },
    "82fd1ec58c4e4fe389296ae4292fc0ee": {
     "model_module": "@jupyter-widgets/controls",
     "model_module_version": "1.5.0",
     "model_name": "DescriptionStyleModel",
     "state": {
      "_model_module": "@jupyter-widgets/controls",
      "_model_module_version": "1.5.0",
      "_model_name": "DescriptionStyleModel",
      "_view_count": null,
      "_view_module": "@jupyter-widgets/base",
      "_view_module_version": "1.2.0",
      "_view_name": "StyleView",
      "description_width": ""
     }
    },
    "84ae9395977e45dba7189c8a4cab0984": {
     "model_module": "@jupyter-widgets/base",
     "model_module_version": "1.2.0",
     "model_name": "LayoutModel",
     "state": {
      "_model_module": "@jupyter-widgets/base",
      "_model_module_version": "1.2.0",
      "_model_name": "LayoutModel",
      "_view_count": null,
      "_view_module": "@jupyter-widgets/base",
      "_view_module_version": "1.2.0",
      "_view_name": "LayoutView",
      "align_content": null,
      "align_items": null,
      "align_self": null,
      "border": null,
      "bottom": null,
      "display": null,
      "flex": null,
      "flex_flow": null,
      "grid_area": null,
      "grid_auto_columns": null,
      "grid_auto_flow": null,
      "grid_auto_rows": null,
      "grid_column": null,
      "grid_gap": null,
      "grid_row": null,
      "grid_template_areas": null,
      "grid_template_columns": null,
      "grid_template_rows": null,
      "height": null,
      "justify_content": null,
      "justify_items": null,
      "left": null,
      "margin": null,
      "max_height": null,
      "max_width": null,
      "min_height": null,
      "min_width": null,
      "object_fit": null,
      "object_position": null,
      "order": null,
      "overflow": null,
      "overflow_x": null,
      "overflow_y": null,
      "padding": null,
      "right": null,
      "top": null,
      "visibility": null,
      "width": null
     }
    },
    "8631d90536eb44beabb46e49ad6eaf8b": {
     "model_module": "@jupyter-widgets/base",
     "model_module_version": "1.2.0",
     "model_name": "LayoutModel",
     "state": {
      "_model_module": "@jupyter-widgets/base",
      "_model_module_version": "1.2.0",
      "_model_name": "LayoutModel",
      "_view_count": null,
      "_view_module": "@jupyter-widgets/base",
      "_view_module_version": "1.2.0",
      "_view_name": "LayoutView",
      "align_content": null,
      "align_items": null,
      "align_self": null,
      "border": null,
      "bottom": null,
      "display": null,
      "flex": null,
      "flex_flow": null,
      "grid_area": null,
      "grid_auto_columns": null,
      "grid_auto_flow": null,
      "grid_auto_rows": null,
      "grid_column": null,
      "grid_gap": null,
      "grid_row": null,
      "grid_template_areas": null,
      "grid_template_columns": null,
      "grid_template_rows": null,
      "height": null,
      "justify_content": null,
      "justify_items": null,
      "left": null,
      "margin": null,
      "max_height": null,
      "max_width": null,
      "min_height": null,
      "min_width": null,
      "object_fit": null,
      "object_position": null,
      "order": null,
      "overflow": null,
      "overflow_x": null,
      "overflow_y": null,
      "padding": null,
      "right": null,
      "top": null,
      "visibility": null,
      "width": null
     }
    },
    "8b29b1817ed94280a703fefbdc8ccefe": {
     "model_module": "@jupyter-widgets/controls",
     "model_module_version": "1.5.0",
     "model_name": "DescriptionStyleModel",
     "state": {
      "_model_module": "@jupyter-widgets/controls",
      "_model_module_version": "1.5.0",
      "_model_name": "DescriptionStyleModel",
      "_view_count": null,
      "_view_module": "@jupyter-widgets/base",
      "_view_module_version": "1.2.0",
      "_view_name": "StyleView",
      "description_width": ""
     }
    },
    "8b7edcd2b3974e088231b134a433fda0": {
     "model_module": "@jupyter-widgets/base",
     "model_module_version": "1.2.0",
     "model_name": "LayoutModel",
     "state": {
      "_model_module": "@jupyter-widgets/base",
      "_model_module_version": "1.2.0",
      "_model_name": "LayoutModel",
      "_view_count": null,
      "_view_module": "@jupyter-widgets/base",
      "_view_module_version": "1.2.0",
      "_view_name": "LayoutView",
      "align_content": null,
      "align_items": null,
      "align_self": null,
      "border": null,
      "bottom": null,
      "display": null,
      "flex": null,
      "flex_flow": null,
      "grid_area": null,
      "grid_auto_columns": null,
      "grid_auto_flow": null,
      "grid_auto_rows": null,
      "grid_column": null,
      "grid_gap": null,
      "grid_row": null,
      "grid_template_areas": null,
      "grid_template_columns": null,
      "grid_template_rows": null,
      "height": null,
      "justify_content": null,
      "justify_items": null,
      "left": null,
      "margin": null,
      "max_height": null,
      "max_width": null,
      "min_height": null,
      "min_width": null,
      "object_fit": null,
      "object_position": null,
      "order": null,
      "overflow": null,
      "overflow_x": null,
      "overflow_y": null,
      "padding": null,
      "right": null,
      "top": null,
      "visibility": null,
      "width": null
     }
    },
    "8ca4f00e34914dd2b81e16299186d6ba": {
     "model_module": "@jupyter-widgets/controls",
     "model_module_version": "1.5.0",
     "model_name": "ProgressStyleModel",
     "state": {
      "_model_module": "@jupyter-widgets/controls",
      "_model_module_version": "1.5.0",
      "_model_name": "ProgressStyleModel",
      "_view_count": null,
      "_view_module": "@jupyter-widgets/base",
      "_view_module_version": "1.2.0",
      "_view_name": "StyleView",
      "bar_color": null,
      "description_width": ""
     }
    },
    "9121dad8fe824e4ea2999af361db306b": {
     "model_module": "@jupyter-widgets/base",
     "model_module_version": "1.2.0",
     "model_name": "LayoutModel",
     "state": {
      "_model_module": "@jupyter-widgets/base",
      "_model_module_version": "1.2.0",
      "_model_name": "LayoutModel",
      "_view_count": null,
      "_view_module": "@jupyter-widgets/base",
      "_view_module_version": "1.2.0",
      "_view_name": "LayoutView",
      "align_content": null,
      "align_items": null,
      "align_self": null,
      "border": null,
      "bottom": null,
      "display": null,
      "flex": null,
      "flex_flow": null,
      "grid_area": null,
      "grid_auto_columns": null,
      "grid_auto_flow": null,
      "grid_auto_rows": null,
      "grid_column": null,
      "grid_gap": null,
      "grid_row": null,
      "grid_template_areas": null,
      "grid_template_columns": null,
      "grid_template_rows": null,
      "height": null,
      "justify_content": null,
      "justify_items": null,
      "left": null,
      "margin": null,
      "max_height": null,
      "max_width": null,
      "min_height": null,
      "min_width": null,
      "object_fit": null,
      "object_position": null,
      "order": null,
      "overflow": null,
      "overflow_x": null,
      "overflow_y": null,
      "padding": null,
      "right": null,
      "top": null,
      "visibility": null,
      "width": null
     }
    },
    "93cf0eee27884c9cb3200982fafc08be": {
     "model_module": "@jupyter-widgets/base",
     "model_module_version": "1.2.0",
     "model_name": "LayoutModel",
     "state": {
      "_model_module": "@jupyter-widgets/base",
      "_model_module_version": "1.2.0",
      "_model_name": "LayoutModel",
      "_view_count": null,
      "_view_module": "@jupyter-widgets/base",
      "_view_module_version": "1.2.0",
      "_view_name": "LayoutView",
      "align_content": null,
      "align_items": null,
      "align_self": null,
      "border": null,
      "bottom": null,
      "display": null,
      "flex": null,
      "flex_flow": null,
      "grid_area": null,
      "grid_auto_columns": null,
      "grid_auto_flow": null,
      "grid_auto_rows": null,
      "grid_column": null,
      "grid_gap": null,
      "grid_row": null,
      "grid_template_areas": null,
      "grid_template_columns": null,
      "grid_template_rows": null,
      "height": null,
      "justify_content": null,
      "justify_items": null,
      "left": null,
      "margin": null,
      "max_height": null,
      "max_width": null,
      "min_height": null,
      "min_width": null,
      "object_fit": null,
      "object_position": null,
      "order": null,
      "overflow": null,
      "overflow_x": null,
      "overflow_y": null,
      "padding": null,
      "right": null,
      "top": null,
      "visibility": null,
      "width": null
     }
    },
    "9a9241cb465f4286abce0307f32d534e": {
     "model_module": "@jupyter-widgets/base",
     "model_module_version": "1.2.0",
     "model_name": "LayoutModel",
     "state": {
      "_model_module": "@jupyter-widgets/base",
      "_model_module_version": "1.2.0",
      "_model_name": "LayoutModel",
      "_view_count": null,
      "_view_module": "@jupyter-widgets/base",
      "_view_module_version": "1.2.0",
      "_view_name": "LayoutView",
      "align_content": null,
      "align_items": null,
      "align_self": null,
      "border": null,
      "bottom": null,
      "display": null,
      "flex": null,
      "flex_flow": null,
      "grid_area": null,
      "grid_auto_columns": null,
      "grid_auto_flow": null,
      "grid_auto_rows": null,
      "grid_column": null,
      "grid_gap": null,
      "grid_row": null,
      "grid_template_areas": null,
      "grid_template_columns": null,
      "grid_template_rows": null,
      "height": null,
      "justify_content": null,
      "justify_items": null,
      "left": null,
      "margin": null,
      "max_height": null,
      "max_width": null,
      "min_height": null,
      "min_width": null,
      "object_fit": null,
      "object_position": null,
      "order": null,
      "overflow": null,
      "overflow_x": null,
      "overflow_y": null,
      "padding": null,
      "right": null,
      "top": null,
      "visibility": null,
      "width": null
     }
    },
    "9bdeed4e26904b24a0d056ad43b962d5": {
     "model_module": "@jupyter-widgets/base",
     "model_module_version": "1.2.0",
     "model_name": "LayoutModel",
     "state": {
      "_model_module": "@jupyter-widgets/base",
      "_model_module_version": "1.2.0",
      "_model_name": "LayoutModel",
      "_view_count": null,
      "_view_module": "@jupyter-widgets/base",
      "_view_module_version": "1.2.0",
      "_view_name": "LayoutView",
      "align_content": null,
      "align_items": null,
      "align_self": null,
      "border": null,
      "bottom": null,
      "display": null,
      "flex": null,
      "flex_flow": null,
      "grid_area": null,
      "grid_auto_columns": null,
      "grid_auto_flow": null,
      "grid_auto_rows": null,
      "grid_column": null,
      "grid_gap": null,
      "grid_row": null,
      "grid_template_areas": null,
      "grid_template_columns": null,
      "grid_template_rows": null,
      "height": null,
      "justify_content": null,
      "justify_items": null,
      "left": null,
      "margin": null,
      "max_height": null,
      "max_width": null,
      "min_height": null,
      "min_width": null,
      "object_fit": null,
      "object_position": null,
      "order": null,
      "overflow": null,
      "overflow_x": null,
      "overflow_y": null,
      "padding": null,
      "right": null,
      "top": null,
      "visibility": null,
      "width": null
     }
    },
    "9c78b84747844400b9d6d3aea8f5977c": {
     "model_module": "@jupyter-widgets/base",
     "model_module_version": "1.2.0",
     "model_name": "LayoutModel",
     "state": {
      "_model_module": "@jupyter-widgets/base",
      "_model_module_version": "1.2.0",
      "_model_name": "LayoutModel",
      "_view_count": null,
      "_view_module": "@jupyter-widgets/base",
      "_view_module_version": "1.2.0",
      "_view_name": "LayoutView",
      "align_content": null,
      "align_items": null,
      "align_self": null,
      "border": null,
      "bottom": null,
      "display": null,
      "flex": null,
      "flex_flow": null,
      "grid_area": null,
      "grid_auto_columns": null,
      "grid_auto_flow": null,
      "grid_auto_rows": null,
      "grid_column": null,
      "grid_gap": null,
      "grid_row": null,
      "grid_template_areas": null,
      "grid_template_columns": null,
      "grid_template_rows": null,
      "height": null,
      "justify_content": null,
      "justify_items": null,
      "left": null,
      "margin": null,
      "max_height": null,
      "max_width": null,
      "min_height": null,
      "min_width": null,
      "object_fit": null,
      "object_position": null,
      "order": null,
      "overflow": null,
      "overflow_x": null,
      "overflow_y": null,
      "padding": null,
      "right": null,
      "top": null,
      "visibility": null,
      "width": null
     }
    },
    "9db5cda0f4044fc1954681acbf70dbc8": {
     "model_module": "@jupyter-widgets/controls",
     "model_module_version": "1.5.0",
     "model_name": "ProgressStyleModel",
     "state": {
      "_model_module": "@jupyter-widgets/controls",
      "_model_module_version": "1.5.0",
      "_model_name": "ProgressStyleModel",
      "_view_count": null,
      "_view_module": "@jupyter-widgets/base",
      "_view_module_version": "1.2.0",
      "_view_name": "StyleView",
      "bar_color": null,
      "description_width": ""
     }
    },
    "9e346c6a7a4b48cfb565782c1e261282": {
     "model_module": "@jupyter-widgets/base",
     "model_module_version": "1.2.0",
     "model_name": "LayoutModel",
     "state": {
      "_model_module": "@jupyter-widgets/base",
      "_model_module_version": "1.2.0",
      "_model_name": "LayoutModel",
      "_view_count": null,
      "_view_module": "@jupyter-widgets/base",
      "_view_module_version": "1.2.0",
      "_view_name": "LayoutView",
      "align_content": null,
      "align_items": null,
      "align_self": null,
      "border": null,
      "bottom": null,
      "display": null,
      "flex": null,
      "flex_flow": null,
      "grid_area": null,
      "grid_auto_columns": null,
      "grid_auto_flow": null,
      "grid_auto_rows": null,
      "grid_column": null,
      "grid_gap": null,
      "grid_row": null,
      "grid_template_areas": null,
      "grid_template_columns": null,
      "grid_template_rows": null,
      "height": null,
      "justify_content": null,
      "justify_items": null,
      "left": null,
      "margin": null,
      "max_height": null,
      "max_width": null,
      "min_height": null,
      "min_width": null,
      "object_fit": null,
      "object_position": null,
      "order": null,
      "overflow": null,
      "overflow_x": null,
      "overflow_y": null,
      "padding": null,
      "right": null,
      "top": null,
      "visibility": null,
      "width": null
     }
    },
    "9f188497dae04380a71d2720bf18bbca": {
     "model_module": "@jupyter-widgets/controls",
     "model_module_version": "1.5.0",
     "model_name": "HTMLModel",
     "state": {
      "_dom_classes": [],
      "_model_module": "@jupyter-widgets/controls",
      "_model_module_version": "1.5.0",
      "_model_name": "HTMLModel",
      "_view_count": null,
      "_view_module": "@jupyter-widgets/controls",
      "_view_module_version": "1.5.0",
      "_view_name": "HTMLView",
      "description": "",
      "description_tooltip": null,
      "layout": "IPY_MODEL_708f9cb5e38f4da491da3de7157a9853",
      "placeholder": "​",
      "style": "IPY_MODEL_4f298044b8fa48c38c0f571d5caf2bb6",
      "value": " 48.0/48.0 [00:00&lt;00:00, 1.75kB/s]"
     }
    },
    "a025dff1a826418a9baa771580c26ed6": {
     "model_module": "@jupyter-widgets/controls",
     "model_module_version": "1.5.0",
     "model_name": "FloatProgressModel",
     "state": {
      "_dom_classes": [],
      "_model_module": "@jupyter-widgets/controls",
      "_model_module_version": "1.5.0",
      "_model_name": "FloatProgressModel",
      "_view_count": null,
      "_view_module": "@jupyter-widgets/controls",
      "_view_module_version": "1.5.0",
      "_view_name": "ProgressView",
      "bar_style": "success",
      "description": "",
      "description_tooltip": null,
      "layout": "IPY_MODEL_db4db6ed6019410da9532b8fdca521a2",
      "max": 48,
      "min": 0,
      "orientation": "horizontal",
      "style": "IPY_MODEL_9db5cda0f4044fc1954681acbf70dbc8",
      "value": 48
     }
    },
    "a04a69ba6e18458893dec261f4d5ce44": {
     "model_module": "@jupyter-widgets/controls",
     "model_module_version": "1.5.0",
     "model_name": "HBoxModel",
     "state": {
      "_dom_classes": [],
      "_model_module": "@jupyter-widgets/controls",
      "_model_module_version": "1.5.0",
      "_model_name": "HBoxModel",
      "_view_count": null,
      "_view_module": "@jupyter-widgets/controls",
      "_view_module_version": "1.5.0",
      "_view_name": "HBoxView",
      "box_style": "",
      "children": [
       "IPY_MODEL_d3fda96b130d4ba0bb7102d827d53973",
       "IPY_MODEL_aef5fd3d74444c1b84cd9a71b67c2854",
       "IPY_MODEL_bdb4d7a18f9a4501b404065bb6be7aa7"
      ],
      "layout": "IPY_MODEL_6da08afafdec4d9c8c42212a1760682b"
     }
    },
    "a3d881a3e3584466ac2f03b1a37f91ca": {
     "model_module": "@jupyter-widgets/base",
     "model_module_version": "1.2.0",
     "model_name": "LayoutModel",
     "state": {
      "_model_module": "@jupyter-widgets/base",
      "_model_module_version": "1.2.0",
      "_model_name": "LayoutModel",
      "_view_count": null,
      "_view_module": "@jupyter-widgets/base",
      "_view_module_version": "1.2.0",
      "_view_name": "LayoutView",
      "align_content": null,
      "align_items": null,
      "align_self": null,
      "border": null,
      "bottom": null,
      "display": null,
      "flex": null,
      "flex_flow": null,
      "grid_area": null,
      "grid_auto_columns": null,
      "grid_auto_flow": null,
      "grid_auto_rows": null,
      "grid_column": null,
      "grid_gap": null,
      "grid_row": null,
      "grid_template_areas": null,
      "grid_template_columns": null,
      "grid_template_rows": null,
      "height": null,
      "justify_content": null,
      "justify_items": null,
      "left": null,
      "margin": null,
      "max_height": null,
      "max_width": null,
      "min_height": null,
      "min_width": null,
      "object_fit": null,
      "object_position": null,
      "order": null,
      "overflow": null,
      "overflow_x": null,
      "overflow_y": null,
      "padding": null,
      "right": null,
      "top": null,
      "visibility": null,
      "width": null
     }
    },
    "a7db0c70c7e34fb68c211101cb4cf53d": {
     "model_module": "@jupyter-widgets/base",
     "model_module_version": "1.2.0",
     "model_name": "LayoutModel",
     "state": {
      "_model_module": "@jupyter-widgets/base",
      "_model_module_version": "1.2.0",
      "_model_name": "LayoutModel",
      "_view_count": null,
      "_view_module": "@jupyter-widgets/base",
      "_view_module_version": "1.2.0",
      "_view_name": "LayoutView",
      "align_content": null,
      "align_items": null,
      "align_self": null,
      "border": null,
      "bottom": null,
      "display": null,
      "flex": null,
      "flex_flow": null,
      "grid_area": null,
      "grid_auto_columns": null,
      "grid_auto_flow": null,
      "grid_auto_rows": null,
      "grid_column": null,
      "grid_gap": null,
      "grid_row": null,
      "grid_template_areas": null,
      "grid_template_columns": null,
      "grid_template_rows": null,
      "height": null,
      "justify_content": null,
      "justify_items": null,
      "left": null,
      "margin": null,
      "max_height": null,
      "max_width": null,
      "min_height": null,
      "min_width": null,
      "object_fit": null,
      "object_position": null,
      "order": null,
      "overflow": null,
      "overflow_x": null,
      "overflow_y": null,
      "padding": null,
      "right": null,
      "top": null,
      "visibility": null,
      "width": null
     }
    },
    "acd8125f5a6144508ce5dea1f633b17b": {
     "model_module": "@jupyter-widgets/controls",
     "model_module_version": "1.5.0",
     "model_name": "DescriptionStyleModel",
     "state": {
      "_model_module": "@jupyter-widgets/controls",
      "_model_module_version": "1.5.0",
      "_model_name": "DescriptionStyleModel",
      "_view_count": null,
      "_view_module": "@jupyter-widgets/base",
      "_view_module_version": "1.2.0",
      "_view_name": "StyleView",
      "description_width": ""
     }
    },
    "aef5fd3d74444c1b84cd9a71b67c2854": {
     "model_module": "@jupyter-widgets/controls",
     "model_module_version": "1.5.0",
     "model_name": "FloatProgressModel",
     "state": {
      "_dom_classes": [],
      "_model_module": "@jupyter-widgets/controls",
      "_model_module_version": "1.5.0",
      "_model_name": "FloatProgressModel",
      "_view_count": null,
      "_view_module": "@jupyter-widgets/controls",
      "_view_module_version": "1.5.0",
      "_view_name": "ProgressView",
      "bar_style": "success",
      "description": "",
      "description_tooltip": null,
      "layout": "IPY_MODEL_561b4822d8f3481ca298f71a81305de1",
      "max": 1094,
      "min": 0,
      "orientation": "horizontal",
      "style": "IPY_MODEL_37be531346e242ca81ca412081cfcab5",
      "value": 1094
     }
    },
    "b02361a1207d47ef86fe53272c24ac17": {
     "model_module": "@jupyter-widgets/base",
     "model_module_version": "1.2.0",
     "model_name": "LayoutModel",
     "state": {
      "_model_module": "@jupyter-widgets/base",
      "_model_module_version": "1.2.0",
      "_model_name": "LayoutModel",
      "_view_count": null,
      "_view_module": "@jupyter-widgets/base",
      "_view_module_version": "1.2.0",
      "_view_name": "LayoutView",
      "align_content": null,
      "align_items": null,
      "align_self": null,
      "border": null,
      "bottom": null,
      "display": null,
      "flex": null,
      "flex_flow": null,
      "grid_area": null,
      "grid_auto_columns": null,
      "grid_auto_flow": null,
      "grid_auto_rows": null,
      "grid_column": null,
      "grid_gap": null,
      "grid_row": null,
      "grid_template_areas": null,
      "grid_template_columns": null,
      "grid_template_rows": null,
      "height": null,
      "justify_content": null,
      "justify_items": null,
      "left": null,
      "margin": null,
      "max_height": null,
      "max_width": null,
      "min_height": null,
      "min_width": null,
      "object_fit": null,
      "object_position": null,
      "order": null,
      "overflow": null,
      "overflow_x": null,
      "overflow_y": null,
      "padding": null,
      "right": null,
      "top": null,
      "visibility": null,
      "width": null
     }
    },
    "b1aea3daff0a47abb90ccecfd259c6f2": {
     "model_module": "@jupyter-widgets/controls",
     "model_module_version": "1.5.0",
     "model_name": "HTMLModel",
     "state": {
      "_dom_classes": [],
      "_model_module": "@jupyter-widgets/controls",
      "_model_module_version": "1.5.0",
      "_model_name": "HTMLModel",
      "_view_count": null,
      "_view_module": "@jupyter-widgets/controls",
      "_view_module_version": "1.5.0",
      "_view_name": "HTMLView",
      "description": "",
      "description_tooltip": null,
      "layout": "IPY_MODEL_9bdeed4e26904b24a0d056ad43b962d5",
      "placeholder": "​",
      "style": "IPY_MODEL_33aed837c9984409ab34fcb94b94a582",
      "value": " 483/483 [00:00&lt;00:00, 13.8kB/s]"
     }
    },
    "b6f9d2b6a5b14ce18a0d1d98902e858b": {
     "model_module": "@jupyter-widgets/controls",
     "model_module_version": "1.5.0",
     "model_name": "HBoxModel",
     "state": {
      "_dom_classes": [],
      "_model_module": "@jupyter-widgets/controls",
      "_model_module_version": "1.5.0",
      "_model_name": "HBoxModel",
      "_view_count": null,
      "_view_module": "@jupyter-widgets/controls",
      "_view_module_version": "1.5.0",
      "_view_name": "HBoxView",
      "box_style": "",
      "children": [
       "IPY_MODEL_302c567953ff4a94bc6193dc8ac8f1b8",
       "IPY_MODEL_59311c9ef62e4b9f8e560fb2f21e9223",
       "IPY_MODEL_bcc7e282311b48f0b677f6173c35bf96"
      ],
      "layout": "IPY_MODEL_1505581c6fac4b8e9259a308abd01294"
     }
    },
    "b7bba75d47e948fa83fcd4b384ad88f5": {
     "model_module": "@jupyter-widgets/controls",
     "model_module_version": "1.5.0",
     "model_name": "DescriptionStyleModel",
     "state": {
      "_model_module": "@jupyter-widgets/controls",
      "_model_module_version": "1.5.0",
      "_model_name": "DescriptionStyleModel",
      "_view_count": null,
      "_view_module": "@jupyter-widgets/base",
      "_view_module_version": "1.2.0",
      "_view_name": "StyleView",
      "description_width": ""
     }
    },
    "b9d49a7f59a3483a94e46541ef00be80": {
     "model_module": "@jupyter-widgets/controls",
     "model_module_version": "1.5.0",
     "model_name": "HBoxModel",
     "state": {
      "_dom_classes": [],
      "_model_module": "@jupyter-widgets/controls",
      "_model_module_version": "1.5.0",
      "_model_name": "HBoxModel",
      "_view_count": null,
      "_view_module": "@jupyter-widgets/controls",
      "_view_module_version": "1.5.0",
      "_view_name": "HBoxView",
      "box_style": "",
      "children": [
       "IPY_MODEL_db9f4843487647afb10fca008269d36b",
       "IPY_MODEL_28db65da818948e0a16928ddce1916a6",
       "IPY_MODEL_fbd19795cbd94277983730c2b5553738"
      ],
      "layout": "IPY_MODEL_a3d881a3e3584466ac2f03b1a37f91ca"
     }
    },
    "bbff9708486448639453dd35d13cf7f4": {
     "model_module": "@jupyter-widgets/base",
     "model_module_version": "1.2.0",
     "model_name": "LayoutModel",
     "state": {
      "_model_module": "@jupyter-widgets/base",
      "_model_module_version": "1.2.0",
      "_model_name": "LayoutModel",
      "_view_count": null,
      "_view_module": "@jupyter-widgets/base",
      "_view_module_version": "1.2.0",
      "_view_name": "LayoutView",
      "align_content": null,
      "align_items": null,
      "align_self": null,
      "border": null,
      "bottom": null,
      "display": null,
      "flex": null,
      "flex_flow": null,
      "grid_area": null,
      "grid_auto_columns": null,
      "grid_auto_flow": null,
      "grid_auto_rows": null,
      "grid_column": null,
      "grid_gap": null,
      "grid_row": null,
      "grid_template_areas": null,
      "grid_template_columns": null,
      "grid_template_rows": null,
      "height": null,
      "justify_content": null,
      "justify_items": null,
      "left": null,
      "margin": null,
      "max_height": null,
      "max_width": null,
      "min_height": null,
      "min_width": null,
      "object_fit": null,
      "object_position": null,
      "order": null,
      "overflow": null,
      "overflow_x": null,
      "overflow_y": null,
      "padding": null,
      "right": null,
      "top": null,
      "visibility": null,
      "width": null
     }
    },
    "bcc7e282311b48f0b677f6173c35bf96": {
     "model_module": "@jupyter-widgets/controls",
     "model_module_version": "1.5.0",
     "model_name": "HTMLModel",
     "state": {
      "_dom_classes": [],
      "_model_module": "@jupyter-widgets/controls",
      "_model_module_version": "1.5.0",
      "_model_name": "HTMLModel",
      "_view_count": null,
      "_view_module": "@jupyter-widgets/controls",
      "_view_module_version": "1.5.0",
      "_view_name": "HTMLView",
      "description": "",
      "description_tooltip": null,
      "layout": "IPY_MODEL_d999bcd652f74eac852194fcd945ec00",
      "placeholder": "​",
      "style": "IPY_MODEL_4cd25c5eef5e424ead2b2ed4b14023fb",
      "value": " 232k/232k [00:00&lt;00:00, 2.80MB/s]"
     }
    },
    "bdb4d7a18f9a4501b404065bb6be7aa7": {
     "model_module": "@jupyter-widgets/controls",
     "model_module_version": "1.5.0",
     "model_name": "HTMLModel",
     "state": {
      "_dom_classes": [],
      "_model_module": "@jupyter-widgets/controls",
      "_model_module_version": "1.5.0",
      "_model_name": "HTMLModel",
      "_view_count": null,
      "_view_module": "@jupyter-widgets/controls",
      "_view_module_version": "1.5.0",
      "_view_name": "HTMLView",
      "description": "",
      "description_tooltip": null,
      "layout": "IPY_MODEL_3cbc7e52dcbc44f8a2d5b840fb10ad8c",
      "placeholder": "​",
      "style": "IPY_MODEL_2ba44c48b8db446cb4b0f1ee8b5ed295",
      "value": " 1094/1094 [00:32&lt;00:00, 33.55 examples/s]"
     }
    },
    "beb60357ea1d42508555e8b4de20c480": {
     "model_module": "@jupyter-widgets/controls",
     "model_module_version": "1.5.0",
     "model_name": "HTMLModel",
     "state": {
      "_dom_classes": [],
      "_model_module": "@jupyter-widgets/controls",
      "_model_module_version": "1.5.0",
      "_model_name": "HTMLModel",
      "_view_count": null,
      "_view_module": "@jupyter-widgets/controls",
      "_view_module_version": "1.5.0",
      "_view_name": "HTMLView",
      "description": "",
      "description_tooltip": null,
      "layout": "IPY_MODEL_121aa3e0785942a39fcf47ef938c5aa0",
      "placeholder": "​",
      "style": "IPY_MODEL_acd8125f5a6144508ce5dea1f633b17b",
      "value": "tokenizer_config.json: 100%"
     }
    },
    "c074540f3b8f4e5bbe2dea2d095876a7": {
     "model_module": "@jupyter-widgets/base",
     "model_module_version": "1.2.0",
     "model_name": "LayoutModel",
     "state": {
      "_model_module": "@jupyter-widgets/base",
      "_model_module_version": "1.2.0",
      "_model_name": "LayoutModel",
      "_view_count": null,
      "_view_module": "@jupyter-widgets/base",
      "_view_module_version": "1.2.0",
      "_view_name": "LayoutView",
      "align_content": null,
      "align_items": null,
      "align_self": null,
      "border": null,
      "bottom": null,
      "display": null,
      "flex": null,
      "flex_flow": null,
      "grid_area": null,
      "grid_auto_columns": null,
      "grid_auto_flow": null,
      "grid_auto_rows": null,
      "grid_column": null,
      "grid_gap": null,
      "grid_row": null,
      "grid_template_areas": null,
      "grid_template_columns": null,
      "grid_template_rows": null,
      "height": null,
      "justify_content": null,
      "justify_items": null,
      "left": null,
      "margin": null,
      "max_height": null,
      "max_width": null,
      "min_height": null,
      "min_width": null,
      "object_fit": null,
      "object_position": null,
      "order": null,
      "overflow": null,
      "overflow_x": null,
      "overflow_y": null,
      "padding": null,
      "right": null,
      "top": null,
      "visibility": null,
      "width": null
     }
    },
    "c4639bb8400945aaa47b76d35ac885e3": {
     "model_module": "@jupyter-widgets/controls",
     "model_module_version": "1.5.0",
     "model_name": "FloatProgressModel",
     "state": {
      "_dom_classes": [],
      "_model_module": "@jupyter-widgets/controls",
      "_model_module_version": "1.5.0",
      "_model_name": "FloatProgressModel",
      "_view_count": null,
      "_view_module": "@jupyter-widgets/controls",
      "_view_module_version": "1.5.0",
      "_view_name": "ProgressView",
      "bar_style": "success",
      "description": "",
      "description_tooltip": null,
      "layout": "IPY_MODEL_27322771d41f4de6b326ef6fbfa05463",
      "max": 483,
      "min": 0,
      "orientation": "horizontal",
      "style": "IPY_MODEL_7544bb907fbd43dda694fc5e9b6b19a5",
      "value": 483
     }
    },
    "cac3b07857a94e2c8477346e4575848c": {
     "model_module": "@jupyter-widgets/controls",
     "model_module_version": "1.5.0",
     "model_name": "DescriptionStyleModel",
     "state": {
      "_model_module": "@jupyter-widgets/controls",
      "_model_module_version": "1.5.0",
      "_model_name": "DescriptionStyleModel",
      "_view_count": null,
      "_view_module": "@jupyter-widgets/base",
      "_view_module_version": "1.2.0",
      "_view_name": "StyleView",
      "description_width": ""
     }
    },
    "cc8233684747470eaec38a3ee2ab113f": {
     "model_module": "@jupyter-widgets/controls",
     "model_module_version": "1.5.0",
     "model_name": "HBoxModel",
     "state": {
      "_dom_classes": [],
      "_model_module": "@jupyter-widgets/controls",
      "_model_module_version": "1.5.0",
      "_model_name": "HBoxModel",
      "_view_count": null,
      "_view_module": "@jupyter-widgets/controls",
      "_view_module_version": "1.5.0",
      "_view_name": "HBoxView",
      "box_style": "",
      "children": [
       "IPY_MODEL_1f37b09f119e41a7b22f55a029281727",
       "IPY_MODEL_c4639bb8400945aaa47b76d35ac885e3",
       "IPY_MODEL_680748622e804f5281480b9c4a8388d3"
      ],
      "layout": "IPY_MODEL_9121dad8fe824e4ea2999af361db306b"
     }
    },
    "cdbc92153f314d4c919b1be8c84b18c7": {
     "model_module": "@jupyter-widgets/controls",
     "model_module_version": "1.5.0",
     "model_name": "HBoxModel",
     "state": {
      "_dom_classes": [],
      "_model_module": "@jupyter-widgets/controls",
      "_model_module_version": "1.5.0",
      "_model_name": "HBoxModel",
      "_view_count": null,
      "_view_module": "@jupyter-widgets/controls",
      "_view_module_version": "1.5.0",
      "_view_name": "HBoxView",
      "box_style": "",
      "children": [
       "IPY_MODEL_4f000f5ccf9b4065a073aa1fcd58c679",
       "IPY_MODEL_1e4bef1b1cef48dd9a9657da5e1b5ccb",
       "IPY_MODEL_317dbfc7128240aaa80de1d2b521ecfd"
      ],
      "layout": "IPY_MODEL_f9b497c0da2043f68900fba4bdb5eee8"
     }
    },
    "d0238b0b6a5b4695b709b64393aa3ea6": {
     "model_module": "@jupyter-widgets/controls",
     "model_module_version": "1.5.0",
     "model_name": "DescriptionStyleModel",
     "state": {
      "_model_module": "@jupyter-widgets/controls",
      "_model_module_version": "1.5.0",
      "_model_name": "DescriptionStyleModel",
      "_view_count": null,
      "_view_module": "@jupyter-widgets/base",
      "_view_module_version": "1.2.0",
      "_view_name": "StyleView",
      "description_width": ""
     }
    },
    "d3255ab2d64d43b597bff2bbc5fd274a": {
     "model_module": "@jupyter-widgets/controls",
     "model_module_version": "1.5.0",
     "model_name": "HBoxModel",
     "state": {
      "_dom_classes": [],
      "_model_module": "@jupyter-widgets/controls",
      "_model_module_version": "1.5.0",
      "_model_name": "HBoxModel",
      "_view_count": null,
      "_view_module": "@jupyter-widgets/controls",
      "_view_module_version": "1.5.0",
      "_view_name": "HBoxView",
      "box_style": "",
      "children": [
       "IPY_MODEL_beb60357ea1d42508555e8b4de20c480",
       "IPY_MODEL_a025dff1a826418a9baa771580c26ed6",
       "IPY_MODEL_9f188497dae04380a71d2720bf18bbca"
      ],
      "layout": "IPY_MODEL_9a9241cb465f4286abce0307f32d534e"
     }
    },
    "d3fda96b130d4ba0bb7102d827d53973": {
     "model_module": "@jupyter-widgets/controls",
     "model_module_version": "1.5.0",
     "model_name": "HTMLModel",
     "state": {
      "_dom_classes": [],
      "_model_module": "@jupyter-widgets/controls",
      "_model_module_version": "1.5.0",
      "_model_name": "HTMLModel",
      "_view_count": null,
      "_view_module": "@jupyter-widgets/controls",
      "_view_module_version": "1.5.0",
      "_view_name": "HTMLView",
      "description": "",
      "description_tooltip": null,
      "layout": "IPY_MODEL_8631d90536eb44beabb46e49ad6eaf8b",
      "placeholder": "​",
      "style": "IPY_MODEL_8b29b1817ed94280a703fefbdc8ccefe",
      "value": "Map: 100%"
     }
    },
    "d4b04d06cf234b80878c3a5d27cc8d0d": {
     "model_module": "@jupyter-widgets/base",
     "model_module_version": "1.2.0",
     "model_name": "LayoutModel",
     "state": {
      "_model_module": "@jupyter-widgets/base",
      "_model_module_version": "1.2.0",
      "_model_name": "LayoutModel",
      "_view_count": null,
      "_view_module": "@jupyter-widgets/base",
      "_view_module_version": "1.2.0",
      "_view_name": "LayoutView",
      "align_content": null,
      "align_items": null,
      "align_self": null,
      "border": null,
      "bottom": null,
      "display": null,
      "flex": null,
      "flex_flow": null,
      "grid_area": null,
      "grid_auto_columns": null,
      "grid_auto_flow": null,
      "grid_auto_rows": null,
      "grid_column": null,
      "grid_gap": null,
      "grid_row": null,
      "grid_template_areas": null,
      "grid_template_columns": null,
      "grid_template_rows": null,
      "height": null,
      "justify_content": null,
      "justify_items": null,
      "left": null,
      "margin": null,
      "max_height": null,
      "max_width": null,
      "min_height": null,
      "min_width": null,
      "object_fit": null,
      "object_position": null,
      "order": null,
      "overflow": null,
      "overflow_x": null,
      "overflow_y": null,
      "padding": null,
      "right": null,
      "top": null,
      "visibility": null,
      "width": null
     }
    },
    "d556f542a8674e00a0d5815d72ccc514": {
     "model_module": "@jupyter-widgets/controls",
     "model_module_version": "1.5.0",
     "model_name": "DescriptionStyleModel",
     "state": {
      "_model_module": "@jupyter-widgets/controls",
      "_model_module_version": "1.5.0",
      "_model_name": "DescriptionStyleModel",
      "_view_count": null,
      "_view_module": "@jupyter-widgets/base",
      "_view_module_version": "1.2.0",
      "_view_name": "StyleView",
      "description_width": ""
     }
    },
    "d999bcd652f74eac852194fcd945ec00": {
     "model_module": "@jupyter-widgets/base",
     "model_module_version": "1.2.0",
     "model_name": "LayoutModel",
     "state": {
      "_model_module": "@jupyter-widgets/base",
      "_model_module_version": "1.2.0",
      "_model_name": "LayoutModel",
      "_view_count": null,
      "_view_module": "@jupyter-widgets/base",
      "_view_module_version": "1.2.0",
      "_view_name": "LayoutView",
      "align_content": null,
      "align_items": null,
      "align_self": null,
      "border": null,
      "bottom": null,
      "display": null,
      "flex": null,
      "flex_flow": null,
      "grid_area": null,
      "grid_auto_columns": null,
      "grid_auto_flow": null,
      "grid_auto_rows": null,
      "grid_column": null,
      "grid_gap": null,
      "grid_row": null,
      "grid_template_areas": null,
      "grid_template_columns": null,
      "grid_template_rows": null,
      "height": null,
      "justify_content": null,
      "justify_items": null,
      "left": null,
      "margin": null,
      "max_height": null,
      "max_width": null,
      "min_height": null,
      "min_width": null,
      "object_fit": null,
      "object_position": null,
      "order": null,
      "overflow": null,
      "overflow_x": null,
      "overflow_y": null,
      "padding": null,
      "right": null,
      "top": null,
      "visibility": null,
      "width": null
     }
    },
    "db4db6ed6019410da9532b8fdca521a2": {
     "model_module": "@jupyter-widgets/base",
     "model_module_version": "1.2.0",
     "model_name": "LayoutModel",
     "state": {
      "_model_module": "@jupyter-widgets/base",
      "_model_module_version": "1.2.0",
      "_model_name": "LayoutModel",
      "_view_count": null,
      "_view_module": "@jupyter-widgets/base",
      "_view_module_version": "1.2.0",
      "_view_name": "LayoutView",
      "align_content": null,
      "align_items": null,
      "align_self": null,
      "border": null,
      "bottom": null,
      "display": null,
      "flex": null,
      "flex_flow": null,
      "grid_area": null,
      "grid_auto_columns": null,
      "grid_auto_flow": null,
      "grid_auto_rows": null,
      "grid_column": null,
      "grid_gap": null,
      "grid_row": null,
      "grid_template_areas": null,
      "grid_template_columns": null,
      "grid_template_rows": null,
      "height": null,
      "justify_content": null,
      "justify_items": null,
      "left": null,
      "margin": null,
      "max_height": null,
      "max_width": null,
      "min_height": null,
      "min_width": null,
      "object_fit": null,
      "object_position": null,
      "order": null,
      "overflow": null,
      "overflow_x": null,
      "overflow_y": null,
      "padding": null,
      "right": null,
      "top": null,
      "visibility": null,
      "width": null
     }
    },
    "db9f4843487647afb10fca008269d36b": {
     "model_module": "@jupyter-widgets/controls",
     "model_module_version": "1.5.0",
     "model_name": "HTMLModel",
     "state": {
      "_dom_classes": [],
      "_model_module": "@jupyter-widgets/controls",
      "_model_module_version": "1.5.0",
      "_model_name": "HTMLModel",
      "_view_count": null,
      "_view_module": "@jupyter-widgets/controls",
      "_view_module_version": "1.5.0",
      "_view_name": "HTMLView",
      "description": "",
      "description_tooltip": null,
      "layout": "IPY_MODEL_a7db0c70c7e34fb68c211101cb4cf53d",
      "placeholder": "​",
      "style": "IPY_MODEL_b7bba75d47e948fa83fcd4b384ad88f5",
      "value": "Map: 100%"
     }
    },
    "eb4c86f23535449eb6a130b12914b8d5": {
     "model_module": "@jupyter-widgets/controls",
     "model_module_version": "1.5.0",
     "model_name": "DescriptionStyleModel",
     "state": {
      "_model_module": "@jupyter-widgets/controls",
      "_model_module_version": "1.5.0",
      "_model_name": "DescriptionStyleModel",
      "_view_count": null,
      "_view_module": "@jupyter-widgets/base",
      "_view_module_version": "1.2.0",
      "_view_name": "StyleView",
      "description_width": ""
     }
    },
    "f025f92a5a5142f89d04847b333d0f5b": {
     "model_module": "@jupyter-widgets/controls",
     "model_module_version": "1.5.0",
     "model_name": "ProgressStyleModel",
     "state": {
      "_model_module": "@jupyter-widgets/controls",
      "_model_module_version": "1.5.0",
      "_model_name": "ProgressStyleModel",
      "_view_count": null,
      "_view_module": "@jupyter-widgets/base",
      "_view_module_version": "1.2.0",
      "_view_name": "StyleView",
      "bar_color": null,
      "description_width": ""
     }
    },
    "f2e5e954bf804a8985f62dad77a03dda": {
     "model_module": "@jupyter-widgets/controls",
     "model_module_version": "1.5.0",
     "model_name": "DescriptionStyleModel",
     "state": {
      "_model_module": "@jupyter-widgets/controls",
      "_model_module_version": "1.5.0",
      "_model_name": "DescriptionStyleModel",
      "_view_count": null,
      "_view_module": "@jupyter-widgets/base",
      "_view_module_version": "1.2.0",
      "_view_name": "StyleView",
      "description_width": ""
     }
    },
    "f3b949a829ef4ac7850ada74a3a0614c": {
     "model_module": "@jupyter-widgets/base",
     "model_module_version": "1.2.0",
     "model_name": "LayoutModel",
     "state": {
      "_model_module": "@jupyter-widgets/base",
      "_model_module_version": "1.2.0",
      "_model_name": "LayoutModel",
      "_view_count": null,
      "_view_module": "@jupyter-widgets/base",
      "_view_module_version": "1.2.0",
      "_view_name": "LayoutView",
      "align_content": null,
      "align_items": null,
      "align_self": null,
      "border": null,
      "bottom": null,
      "display": null,
      "flex": null,
      "flex_flow": null,
      "grid_area": null,
      "grid_auto_columns": null,
      "grid_auto_flow": null,
      "grid_auto_rows": null,
      "grid_column": null,
      "grid_gap": null,
      "grid_row": null,
      "grid_template_areas": null,
      "grid_template_columns": null,
      "grid_template_rows": null,
      "height": null,
      "justify_content": null,
      "justify_items": null,
      "left": null,
      "margin": null,
      "max_height": null,
      "max_width": null,
      "min_height": null,
      "min_width": null,
      "object_fit": null,
      "object_position": null,
      "order": null,
      "overflow": null,
      "overflow_x": null,
      "overflow_y": null,
      "padding": null,
      "right": null,
      "top": null,
      "visibility": null,
      "width": null
     }
    },
    "f9b497c0da2043f68900fba4bdb5eee8": {
     "model_module": "@jupyter-widgets/base",
     "model_module_version": "1.2.0",
     "model_name": "LayoutModel",
     "state": {
      "_model_module": "@jupyter-widgets/base",
      "_model_module_version": "1.2.0",
      "_model_name": "LayoutModel",
      "_view_count": null,
      "_view_module": "@jupyter-widgets/base",
      "_view_module_version": "1.2.0",
      "_view_name": "LayoutView",
      "align_content": null,
      "align_items": null,
      "align_self": null,
      "border": null,
      "bottom": null,
      "display": null,
      "flex": null,
      "flex_flow": null,
      "grid_area": null,
      "grid_auto_columns": null,
      "grid_auto_flow": null,
      "grid_auto_rows": null,
      "grid_column": null,
      "grid_gap": null,
      "grid_row": null,
      "grid_template_areas": null,
      "grid_template_columns": null,
      "grid_template_rows": null,
      "height": null,
      "justify_content": null,
      "justify_items": null,
      "left": null,
      "margin": null,
      "max_height": null,
      "max_width": null,
      "min_height": null,
      "min_width": null,
      "object_fit": null,
      "object_position": null,
      "order": null,
      "overflow": null,
      "overflow_x": null,
      "overflow_y": null,
      "padding": null,
      "right": null,
      "top": null,
      "visibility": null,
      "width": null
     }
    },
    "fbd19795cbd94277983730c2b5553738": {
     "model_module": "@jupyter-widgets/controls",
     "model_module_version": "1.5.0",
     "model_name": "HTMLModel",
     "state": {
      "_dom_classes": [],
      "_model_module": "@jupyter-widgets/controls",
      "_model_module_version": "1.5.0",
      "_model_name": "HTMLModel",
      "_view_count": null,
      "_view_module": "@jupyter-widgets/controls",
      "_view_module_version": "1.5.0",
      "_view_name": "HTMLView",
      "description": "",
      "description_tooltip": null,
      "layout": "IPY_MODEL_44dd10fac92342388bfb76cced49dcf9",
      "placeholder": "​",
      "style": "IPY_MODEL_d0238b0b6a5b4695b709b64393aa3ea6",
      "value": " 470/470 [00:12&lt;00:00, 37.97 examples/s]"
     }
    }
   }
  }
 },
 "nbformat": 4,
 "nbformat_minor": 4
}
